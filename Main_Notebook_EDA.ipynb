{
 "cells": [
  {
   "cell_type": "markdown",
   "metadata": {},
   "source": [
    "# A. Einleitung (Projektziele, Vorgehen, Schwerpunkte)\n",
    "Im Rahmen des Abschlussprojekts zum Kurs \"Data Analytics\" wollen wir eine ausführliche explorative Datenanalyse (EDA) der Daten zu Energieverbräuchen und Bruttoinlandsprodukt ausgewählter europäischer Länder auf Quartals- und Jahresbasis vornehmen. \n",
    "\n",
    "Dafür bedienen wir uns der Daten aus einer zentralen pickle-Datei. Diese wiederum wurden in einem separaten Jupyter-Notebook erstellt. In diesem wiederum wurden die ursprünglichen Quelldaten von eurostat (https://ec.europa.eu/eurostat/en/) geladen, aufbereitet und deskriptiv analysiert.\n",
    "\n",
    "Der Schwerpunkt der EDA dieses Notebooks soll dabei auf der Visualisierung von Größenverhältnissen und zeitlichen Verläufen, sowie saisonalen und geografischen Trends liegen. Dabei werden hauptsächlich Plots und Dashboards aus den Python-Bibliotheken Plotly Express / Dash verwendet.\n",
    "\n",
    "Qualitativ wollen wir vor allem die sogenannte <b>\"absolute Entkopplung\"</b> des Energieverbrauchs vom Bruttoinlandsprodukt beleuchten.\n",
    "- Dieser volkswirtschaftliche Begriff bezeichnet ein Verhalten über die Zeit, bei dem das Bruttoinlandsprodukt gleich bleibt oder steigt, während der Energieverbrauch fällt.\n",
    "- Wir wollen dabei eine differenziertere Betrachtung zwischen <b>kurzfristiger Entkopplung</b> und <b>langfristiger Entkopplung</b> vornehmen. Diese Begriffe werden wir an geeigneter Stelle erklären.\n",
    "\n",
    "Des weiteren wollen wir die sogenannte <b>\"Energieproduktivität\"</b> betrachten (die indirekt mit der absoluten Entkopplung zusammenhängt, wie wir sehen werden).\n",
    "- Diese volkswirtschaftliche Größe ergibt sich aus dem Quotienten von Bruttoinlandsprodukt und Energieverbrauch. Sie ist ein Indikator für effizienten Energieeinsatz eines Landes (hohes BIP bei geringem Energieverbrauch ergibt eine hohe Energieproduktivität).\n",
    "\n",
    "Dafür wollen wir uns an Leitfragen orientieren, die in einem der nächsten Kapiteln zu Beginn formuliert werden. In jedem Teilkapitel werden wir die gewonnenen Erkenntnisse resümieren.\n",
    "\n",
    "Wir werden dabei die Daten auf verschiedenen Ebenen durchleuchten und \"von oben nach unten\" hierarchisch durch die Daten gehen. Das heißt, wir beginnen \"oben\" auf gesamteuropäischer Ebene und arbeiten uns dann ins einzelne Land \"nach unten\". Danach werden wir noch geografische Visualisierungen vornehmen und auf saisonale Trends untersuchen."
   ]
  },
  {
   "cell_type": "markdown",
   "metadata": {},
   "source": [
    "# B. Importe und Styling-Parameter\n",
    "Wir importieren im Folgenden die benötigten Bibliotheken, die pickle-Datei, die uns die nötigen Dataframes liefert, und Zusatzwerte für das Styling der Plots und Dashboards"
   ]
  },
  {
   "cell_type": "code",
   "execution_count": 1,
   "metadata": {},
   "outputs": [
    {
     "data": {
      "text/plain": [
       "Layout({\n",
       "    'annotationdefaults': {'arrowcolor': '#f2f5fa', 'arrowhead': 0, 'arrowwidth': 1},\n",
       "    'autotypenumbers': 'strict',\n",
       "    'coloraxis': {'colorbar': {'outlinewidth': 0, 'ticks': ''}},\n",
       "    'colorscale': {'diverging': [[0, '#8e0152'], [0.1, '#c51b7d'], [0.2,\n",
       "                                 '#de77ae'], [0.3, '#f1b6da'], [0.4, '#fde0ef'],\n",
       "                                 [0.5, '#f7f7f7'], [0.6, '#e6f5d0'], [0.7,\n",
       "                                 '#b8e186'], [0.8, '#7fbc41'], [0.9, '#4d9221'],\n",
       "                                 [1, '#276419']],\n",
       "                   'sequential': [[0.0, '#0d0887'], [0.1111111111111111,\n",
       "                                  '#46039f'], [0.2222222222222222, '#7201a8'],\n",
       "                                  [0.3333333333333333, '#9c179e'],\n",
       "                                  [0.4444444444444444, '#bd3786'],\n",
       "                                  [0.5555555555555556, '#d8576b'],\n",
       "                                  [0.6666666666666666, '#ed7953'],\n",
       "                                  [0.7777777777777778, '#fb9f3a'],\n",
       "                                  [0.8888888888888888, '#fdca26'], [1.0,\n",
       "                                  '#f0f921']],\n",
       "                   'sequentialminus': [[0.0, '#0d0887'], [0.1111111111111111,\n",
       "                                       '#46039f'], [0.2222222222222222, '#7201a8'],\n",
       "                                       [0.3333333333333333, '#9c179e'],\n",
       "                                       [0.4444444444444444, '#bd3786'],\n",
       "                                       [0.5555555555555556, '#d8576b'],\n",
       "                                       [0.6666666666666666, '#ed7953'],\n",
       "                                       [0.7777777777777778, '#fb9f3a'],\n",
       "                                       [0.8888888888888888, '#fdca26'], [1.0,\n",
       "                                       '#f0f921']]},\n",
       "    'colorway': [#636efa, #EF553B, #00cc96, #ab63fa, #FFA15A, #19d3f3, #FF6692,\n",
       "                 #B6E880, #FF97FF, #FECB52],\n",
       "    'font': {'color': '#f2f5fa'},\n",
       "    'geo': {'bgcolor': 'rgb(17,17,17)',\n",
       "            'lakecolor': 'rgb(17,17,17)',\n",
       "            'landcolor': 'rgb(17,17,17)',\n",
       "            'showlakes': True,\n",
       "            'showland': True,\n",
       "            'subunitcolor': '#506784'},\n",
       "    'hoverlabel': {'align': 'left'},\n",
       "    'hovermode': 'closest',\n",
       "    'mapbox': {'style': 'dark'},\n",
       "    'paper_bgcolor': '#001124',\n",
       "    'plot_bgcolor': '#001124',\n",
       "    'polar': {'angularaxis': {'gridcolor': '#506784', 'linecolor': '#506784', 'ticks': ''},\n",
       "              'bgcolor': 'rgb(17,17,17)',\n",
       "              'radialaxis': {'gridcolor': '#506784', 'linecolor': '#506784', 'ticks': ''}},\n",
       "    'scene': {'xaxis': {'backgroundcolor': 'rgb(17,17,17)',\n",
       "                        'gridcolor': '#506784',\n",
       "                        'gridwidth': 2,\n",
       "                        'linecolor': '#506784',\n",
       "                        'showbackground': True,\n",
       "                        'ticks': '',\n",
       "                        'zerolinecolor': '#C8D4E3'},\n",
       "              'yaxis': {'backgroundcolor': 'rgb(17,17,17)',\n",
       "                        'gridcolor': '#506784',\n",
       "                        'gridwidth': 2,\n",
       "                        'linecolor': '#506784',\n",
       "                        'showbackground': True,\n",
       "                        'ticks': '',\n",
       "                        'zerolinecolor': '#C8D4E3'},\n",
       "              'zaxis': {'backgroundcolor': 'rgb(17,17,17)',\n",
       "                        'gridcolor': '#506784',\n",
       "                        'gridwidth': 2,\n",
       "                        'linecolor': '#506784',\n",
       "                        'showbackground': True,\n",
       "                        'ticks': '',\n",
       "                        'zerolinecolor': '#C8D4E3'}},\n",
       "    'shapedefaults': {'line': {'color': '#f2f5fa'}},\n",
       "    'sliderdefaults': {'bgcolor': '#C8D4E3', 'bordercolor': 'rgb(17,17,17)', 'borderwidth': 1, 'tickwidth': 0},\n",
       "    'ternary': {'aaxis': {'gridcolor': '#506784', 'linecolor': '#506784', 'ticks': ''},\n",
       "                'baxis': {'gridcolor': '#506784', 'linecolor': '#506784', 'ticks': ''},\n",
       "                'bgcolor': 'rgb(17,17,17)',\n",
       "                'caxis': {'gridcolor': '#506784', 'linecolor': '#506784', 'ticks': ''}},\n",
       "    'title': {'x': 0.05},\n",
       "    'updatemenudefaults': {'bgcolor': '#506784', 'borderwidth': 0},\n",
       "    'xaxis': {'automargin': True,\n",
       "              'gridcolor': '#283442',\n",
       "              'linecolor': '#506784',\n",
       "              'ticks': '',\n",
       "              'title': {'standoff': 15},\n",
       "              'zerolinecolor': '#283442',\n",
       "              'zerolinewidth': 2},\n",
       "    'yaxis': {'automargin': True,\n",
       "              'gridcolor': '#283442',\n",
       "              'linecolor': '#506784',\n",
       "              'ticks': '',\n",
       "              'title': {'standoff': 15},\n",
       "              'zerolinecolor': '#283442',\n",
       "              'zerolinewidth': 2}\n",
       "})"
      ]
     },
     "execution_count": 1,
     "metadata": {},
     "output_type": "execute_result"
    }
   ],
   "source": [
    "import pickle\n",
    "import pandas as pd\n",
    "from dash import Dash, html, dcc, callback, Output, Input\n",
    "import plotly.express as px\n",
    "import plotly.graph_objects as go\n",
    "from plotly.subplots import make_subplots\n",
    "import numpy as np\n",
    "import plotly.io as pio\n",
    "import sys\n",
    "import os\n",
    "# from global_styling_parameters import background_color, html_elements_color, global_border_radius, gdp_color, energy_color, prod_color\n",
    "\n",
    "# Absoluten Pfad des Projektordners ermitteln\n",
    "projektordner = os.getcwd()\n",
    "# Zum sys.path hinzufügen, falls noch nicht enthalten\n",
    "if projektordner not in sys.path:\n",
    "    sys.path.append(projektordner)\n",
    "\n",
    "#################### DataFrames laden ################\n",
    "with open(r\"cleaned_dataframes.pkl\", \"rb\") as file:\n",
    "    df_loaded = pickle.load(file)\n",
    "\n",
    "df_Y = df_loaded[\"df_Y\"]\n",
    "df_Q = df_loaded[\"df_Q\"]\n",
    "\n",
    "###################### adjust global template ###############\n",
    "###################### Styling Parameters ###############\n",
    "background_color = \"white\"\n",
    "html_elements_color = \"#001124\"\n",
    "global_border_radius = \"5px\"\n",
    "gdp_color = \"#0057c4\"\n",
    "energy_color = \"#b50000\"\n",
    "prod_color = \"#008200\"\n",
    "pio.templates[\"custom_template\"] = pio.templates[\"plotly_dark\"]\n",
    "pio.templates[\"custom_template\"].layout.update({\n",
    "'paper_bgcolor': html_elements_color,\n",
    "'plot_bgcolor': html_elements_color,\n",
    "})\n"
   ]
  },
  {
   "cell_type": "markdown",
   "metadata": {},
   "source": [
    "Wir haben hiermit insbesondere die beiden zentralen Datensätze df_Y und df_Q importiert. Sie enthalten die Länderwerte für BIP und Energieverbrauch einmal auf Quartalsebene (df_Q) und auf Jahresebene (df_Y)."
   ]
  },
  {
   "cell_type": "markdown",
   "metadata": {},
   "source": [
    "# 0. Leitfragen\n",
    "\n",
    "Um mit unserer explorativen Datenanalyse beginnen zu können, formulieren wir uns zunächst folgende Leitfragen:\n",
    "\n",
    "Dabei wollen wir fortlaufend die Stück für Stück gewonnenen Erkenntnisse zu folgenden Leitfragen sammeln:\n",
    "<div style=\"border: 2px solid black; padding: 10px; background-color: white;\">\n",
    "    <ul style=\"list-style-type: circle;\">\n",
    "            <li>Verteilung:\n",
    "                <ul style=\"list-style-type: circle;\">\n",
    "                    <li>Gibt es Länder, die bezüglich einer (oder mehrerer) der Größen BIP, Energieverbrauch, Energieproduktivität dominieren?</li>\n",
    "                    <li>Wie verhält es sich bei diesen Ländern in den jeweils anderen Größen?</li>\n",
    "                </ul>\n",
    "            </li>\n",
    "            <li>Absolute Entkopplung:\n",
    "                <ul style=\"list-style-type: circle;\">\n",
    "                    <li>Gibt es einen Zusammenhang zwischen hohem BIP und hohem Energieverbrauch?</li>\n",
    "                    <li>Gibt es einen Trend davon weg?</li>\n",
    "                    <li>Welchen Ländern gelingt es, sich zu entkoppeln (BIP steigt, Energieverbrauch sinkt)?</li>\n",
    "                </ul>\n",
    "            </li>\n",
    "            <li> Energieproduktivität:\n",
    "                <ul style=\"list-style-type: circle;\">\n",
    "                    <li>Gibt es bei der Energieproduktivität einen Zusammenhang zur Wirtschaftsstärke (BIP) oder der absoluten Entkopplung (AE) eines Landes?\n",
    "                    </li>\n",
    "                </ul>\n",
    "            </li>\n",
    "            <li> Saisonalität:\n",
    "                <ul style=\"list-style-type: circle;\">\n",
    "                    <li>Sind saisonale Trends bei BIP, Energieverbrauch und Energieproduktivität erkennbar?\n",
    "                    </li>\n",
    "                </ul>\n",
    "            </li>\n",
    "            <li> Zusatzerkenntnisse:\n",
    "                <ul style=\"list-style-type: circle;\">\n",
    "                    <li>Welche weiteren interessanten Beobachtungen können wir machen?\n",
    "                    </li>\n",
    "                </ul>\n",
    "            </li>\n",
    "        </ul>\n",
    "</div>\n",
    "\n",
    "Wir werden in den folgenden Kapiteln Stück für Stück anhand der Visualisierungen Erkenntnisse zu diesen Leitfragen(gruppen) gewinnen. Am Ende jedes Kapitels werden wir diese unter den übergeordneten Leitfragengruppen zusammenfassen. Wenn eine Leitfragengruppe in einer Zusammenfassung weggelassen wird, bedeutet das, dass für diese Grupe im Kapitel keine oder keine relevanten Erkenntnisse gewonnen wurden. Auf die Wiederaufführung der Unterfragen verzichten wir dort aus Platzgründen. Nun beginnen wir mit der EDA.\n",
    "\n",
    "<b style=\"color:red;\">Hinweis: Wir werden im Verlauf des Notebooks die Abkürzungen \"BIP\" (= Bruttoinlandsprodukt), \"EV\" (= Energieverbrauch), \"EP\" (= Energieproduktivität) und \"AE\" (absolute Entkopplung) verwenden!</b>"
   ]
  },
  {
   "cell_type": "markdown",
   "metadata": {},
   "source": [
    "# 1. Kumulierte Betrachtung, Korrelation BIP/Energieverbrauch, europäische Durchschnittswerte\n",
    "Wir wollen beginnen, indem wir Europa als Gesamtheit betrachten: Wir ziehen kumulierte Werte und europäische Durchschnitte heran. \n",
    "\n",
    "Dabei verwenden wir Dashboards und Plots. Nach jedem Teilkapitel mit Visualisierung resümieren wir die Erkenntnisse, die wir in Bezug auf unsere Leitfragen aus der Visualisierung entnehmen konnten."
   ]
  },
  {
   "cell_type": "markdown",
   "metadata": {},
   "source": [
    "## 1.1 Kumulierte Betrachtung"
   ]
  },
  {
   "cell_type": "markdown",
   "metadata": {},
   "source": [
    "### 1.1.1 Feature Engineering der benötigten Spalten\n",
    "Zur Untersuchung obiger Fragestellungen führen wir zunächst einige Spalten ein. Wir legen auf Quartals- und Jahresebene folgende Spalten an:\n",
    "- Energieproduktivität (Mio€/GWh): Quotient aus BIP und Energieverbrauch\n",
    "- Kumulatives BIP (je Land): fortlaufende Summe der Quartalswerte bzw. Jahreswerte des BIP\n",
    "- Kumulativer Energieverbrauch (je Land): fortlaufende Summe der Quartalswerte bzw. Jahreswerte des Energieverbrauchs"
   ]
  },
  {
   "cell_type": "code",
   "execution_count": 2,
   "metadata": {},
   "outputs": [],
   "source": [
    "# Berechnung Energieproduktivität (BIP / Energieverbrauch) und kumulative Summen...\n",
    "# ...einmal für den Dataframe mit den Jahreswerten....\n",
    "df_Y[\"Energieproduktivität (Mio€/GWh)\"] = df_Y[\"BIP (Mio €)\"] / df_Y[\"Energieverbrauch (GWh)\"]\n",
    "df_Y[\"Energieproduktivität (Mio€/GWh)\"] = df_Y[\"Energieproduktivität (Mio€/GWh)\"].round(2)\n",
    "df_Y[\"Kumulativer Energieverbrauch (GWh)\"] = df_Y.groupby(\"Land\")[\"Energieverbrauch (GWh)\"].cumsum()\n",
    "df_Y[\"Kumulatives BIP (Mio €)\"] = df_Y.groupby(\"Land\")[\"BIP (Mio €)\"].cumsum()\n",
    "# ...und einmal für den Dataframe mit den Quartalswerten....\n",
    "df_Q[\"Energieproduktivität (Mio€/GWh)\"] = df_Q[\"BIP (Mio €)\"] / df_Q[\"Energieverbrauch (GWh)\"]\n",
    "df_Q[\"Energieproduktivität (Mio€/GWh)\"] = df_Q[\"Energieproduktivität (Mio€/GWh)\"].round(2)\n",
    "df_Q[\"Kumulativer Energieverbrauch (GWh)\"] = df_Q.groupby(\"Land\")[\"Energieverbrauch (GWh)\"].cumsum()\n",
    "df_Q[\"Kumulatives BIP (Mio €)\"] = df_Q.groupby(\"Land\")[\"BIP (Mio €)\"].cumsum()"
   ]
  },
  {
   "cell_type": "markdown",
   "metadata": {},
   "source": [
    "### 1.1.2 Visualisierung"
   ]
  },
  {
   "cell_type": "code",
   "execution_count": 3,
   "metadata": {},
   "outputs": [
    {
     "data": {
      "text/html": [
       "\n",
       "        <iframe\n",
       "            width=\"100%\"\n",
       "            height=\"650\"\n",
       "            src=\"http://127.0.0.1:8051/\"\n",
       "            frameborder=\"0\"\n",
       "            allowfullscreen\n",
       "            \n",
       "        ></iframe>\n",
       "        "
      ],
      "text/plain": [
       "<IPython.lib.display.IFrame at 0x23f26295c70>"
      ]
     },
     "metadata": {},
     "output_type": "display_data"
    }
   ],
   "source": [
    "from dashboards_and_tables.D1_cumulations.app import run_cumulations_app\n",
    "\n",
    "run_cumulations_app(df_Y, df_Q)"
   ]
  },
  {
   "cell_type": "markdown",
   "metadata": {},
   "source": [
    "### 1.1.3 Beobachtungen und Haupterkenntnisse"
   ]
  },
  {
   "cell_type": "markdown",
   "metadata": {},
   "source": [
    "<b>Verteilung</b>:\n",
    "- Wir können in den gestapelten Liniendiagrammen mit akribischem Blick bereits grob erkennen, dass Deutschland, Frankreich, Italien, Spanien, Niederlande und Türkei bei BIP und EV dominieren. Das werden wir später (insbesondere bei den Rankings) aber noch genauer sehen. Wir kürzen in der Folge diese Ländergruppe mit der Anfangsbuchstabenkombination \"DFISNT\" ab.\n",
    "- Bei DFISNT sehen, wir dass hohes BIP auch hoher EV bedeutet. Insbesondere die Türkei hat einen enorm hohen EV. Über die EP sehen wir noch nichts.\n",
    "- Aufgrund von DFISNT und der Ländersummen im oberen Plot lässt sich also ein Zusammenhang zwischen hohem BIP und hohem EV vermuten. Wir werden jedoch noch sehen, dass es auch entgegengesetzte Trends gibt.\n",
    "\n",
    "<b>Absolute Entkopplung</b>:\n",
    "- Wir können in den (nicht-kumulierten) Jahreswerten im Plot der Ländersummen (oberer Graph im Dashboard) bereits erkennen, dass das europäische jährliche BIP steigt, während der europäische EV langsam sinkt. \n",
    "- Damit sehen wir direkt, dass es in Europa in Summe bereits gelingt, sich bezüglich BIP vom EV absolut zu entkoppeln. Es liegt also auf \"kollektiver Ebene\" eine absolute Entkopplung vor!\n",
    "- Welche Länder hier wie genau abschneiden, können wir hier allerdings noch nicht erkennen\n",
    "\n",
    "<b>Saisonale Trends</b>:\n",
    "- Wir können bei der Quartalsansicht (anhand der Hoverdata an den lokalen Maxima der Kurven) bereits sehr gut erkennen, dass das BIP in der Ländersumme jedes Jahr in Q4 einen Peak hat, während der EV einen nachgelagerten Peak in Q1 hat.\n",
    "\n",
    "<b>Zusatzerkenntnisse</b>:\n",
    "- Bei den Jahresbeträgen erkennen wir bei BIP und EV deutlich den Knick durch die Coronakrise 2020\n",
    "- Bei den Jahresbeträgen sehen wir außerdem beim BIP einen Knick im Jahr 2009, der eventuell eine Folge der Weltwirtschaftskrise 2008/2009 ist.\n",
    "- Diesen Knick sehen wir auch beim EV. Dort sehen wir ausserdem bei 2014 und 2017 kleine Knicks. Diese könnten eventuell auf die Krimkrise 2014 und eine weitere Krise am Finanzmarkt 2017 zurückzuführen sein. Da dies jedoch Spekulation ist, bleiben wir bei der reinen Beobachtung, dass es hier Unregelmäßigkeiten gab.\n",
    "\n",
    "<div style=\"border: 2px solid black; padding: 10px; background-color: white;\">\n",
    "    <b>Qualitative Haupterkenntnisse</b>\n",
    "    <ul style=\"list-style-type: circle;\">\n",
    "            <li>Die sechs Länder Deutschland, Frankreich, Italien, Spanien, Niederlande, Türkei dominieren wirtschaftlich und beim Energieverbrauch.\n",
    "            </li>\n",
    "            <li>Wir haben bereits die <b>Absolute Entkopplung (AE) der europäischen Ländersumme</b> sichtbar gemacht.. Außerdem lassen sich Quartalstrends erahnen.\n",
    "            </li>\n",
    "        </ul>\n",
    "</div>\n"
   ]
  },
  {
   "cell_type": "markdown",
   "metadata": {},
   "source": [
    "## 1.2 Korrelationsuntersuchung: Zusammenhang BIP und Energieverbrauch über Zeit\n",
    "Wir wollen nun über die Summe der europäischen Länder hinweg untersuchen, ob es eine Korrelation zwischen BIP und EV in Europa gibt. \n",
    "\n",
    "Genauer gesagt: Wir nehmen für jedes Jahr das Wertepaar (BIP, EV) für jedes Land. Damit haben wir pro Jahr eine Stichprobe (im Umfang der Anzahl der Länder), für die wir die Korrelation zwischen BIP und EV als Indikator ausrechnen können. Das machen wir für jedes Jahr, und betrachten, wie sich der Korrelationskoeffizient über die Zeit ändert. Außerdem ziehen wir einen Scatterplot heran, auf dem wir für jedes Jahr die Stichprobe aus BIP und EV visualisieren, und eine Regressionsgerade bilden. \n",
    "\n",
    "Wir betrachten dafür zunächst die untenstehende Tabelle, die uns den Korrelationskoeffizienten für jedes Jahr ausgibt. Dabei werden Zellen mit Korr.koeff. größer Null automatisch rot dargestellt.\n",
    "\n",
    "Anschließend nutzen wir den Scatterplot, der uns über eine Animation die Möglichkeit gibt, die zeitliche Änderung der Regressionsgeraden zwischen BIP und EV nachzuvollziehen.\n",
    "\n",
    "### 1.2.1 Visualisierung"
   ]
  },
  {
   "cell_type": "code",
   "execution_count": 4,
   "metadata": {},
   "outputs": [
    {
     "data": {
      "application/vnd.plotly.v1+json": {
       "config": {
        "plotlyServerURL": "https://plot.ly"
       },
       "data": [
        {
         "cells": {
          "fill": {
           "color": [
            "#555555",
            "#b14831",
            "#b14831",
            "#b14831",
            "#b14831",
            "#b14831",
            "#b14831",
            "#b14831",
            "#b14831",
            "#b14831",
            "#b14831",
            "#b14831",
            "#b14831",
            "#b14831",
            "#b14831",
            "#b14831",
            "#b14831"
           ]
          },
          "font": {
           "color": "white",
           "size": 12
          },
          "values": [
           [
            "Korrelationskoeffizient<br>BIP/Energieverbrauch"
           ],
           [
            0.973
           ],
           [
            0.965
           ],
           [
            0.958
           ],
           [
            0.972
           ],
           [
            0.97
           ],
           [
            0.967
           ],
           [
            0.959
           ],
           [
            0.96
           ],
           [
            0.951
           ],
           [
            0.954
           ],
           [
            0.946
           ],
           [
            0.941
           ],
           [
            0.93
           ],
           [
            0.928
           ],
           [
            0.931
           ],
           [
            0.931
           ]
          ]
         },
         "columnwidth": [
          190,
          90,
          90,
          90,
          90,
          90,
          90,
          90,
          90,
          90,
          90,
          90,
          90,
          90,
          90,
          90,
          90
         ],
         "header": {
          "fill": {
           "color": "#001124"
          },
          "font": {
           "color": "white",
           "size": 12
          },
          "values": [
           "Jahre",
           "2008",
           "2009",
           "2010",
           "2011",
           "2012",
           "2013",
           "2014",
           "2015",
           "2016",
           "2017",
           "2018",
           "2019",
           "2020",
           "2021",
           "2022",
           "2023"
          ]
         },
         "type": "table"
        }
       ],
       "layout": {
        "height": 80,
        "margin": {
         "b": 5,
         "l": 5,
         "r": 5,
         "t": 5
        },
        "template": {
         "data": {
          "bar": [
           {
            "error_x": {
             "color": "#2a3f5f"
            },
            "error_y": {
             "color": "#2a3f5f"
            },
            "marker": {
             "line": {
              "color": "#E5ECF6",
              "width": 0.5
             },
             "pattern": {
              "fillmode": "overlay",
              "size": 10,
              "solidity": 0.2
             }
            },
            "type": "bar"
           }
          ],
          "barpolar": [
           {
            "marker": {
             "line": {
              "color": "#E5ECF6",
              "width": 0.5
             },
             "pattern": {
              "fillmode": "overlay",
              "size": 10,
              "solidity": 0.2
             }
            },
            "type": "barpolar"
           }
          ],
          "carpet": [
           {
            "aaxis": {
             "endlinecolor": "#2a3f5f",
             "gridcolor": "white",
             "linecolor": "white",
             "minorgridcolor": "white",
             "startlinecolor": "#2a3f5f"
            },
            "baxis": {
             "endlinecolor": "#2a3f5f",
             "gridcolor": "white",
             "linecolor": "white",
             "minorgridcolor": "white",
             "startlinecolor": "#2a3f5f"
            },
            "type": "carpet"
           }
          ],
          "choropleth": [
           {
            "colorbar": {
             "outlinewidth": 0,
             "ticks": ""
            },
            "type": "choropleth"
           }
          ],
          "contour": [
           {
            "colorbar": {
             "outlinewidth": 0,
             "ticks": ""
            },
            "colorscale": [
             [
              0,
              "#0d0887"
             ],
             [
              0.1111111111111111,
              "#46039f"
             ],
             [
              0.2222222222222222,
              "#7201a8"
             ],
             [
              0.3333333333333333,
              "#9c179e"
             ],
             [
              0.4444444444444444,
              "#bd3786"
             ],
             [
              0.5555555555555556,
              "#d8576b"
             ],
             [
              0.6666666666666666,
              "#ed7953"
             ],
             [
              0.7777777777777778,
              "#fb9f3a"
             ],
             [
              0.8888888888888888,
              "#fdca26"
             ],
             [
              1,
              "#f0f921"
             ]
            ],
            "type": "contour"
           }
          ],
          "contourcarpet": [
           {
            "colorbar": {
             "outlinewidth": 0,
             "ticks": ""
            },
            "type": "contourcarpet"
           }
          ],
          "heatmap": [
           {
            "colorbar": {
             "outlinewidth": 0,
             "ticks": ""
            },
            "colorscale": [
             [
              0,
              "#0d0887"
             ],
             [
              0.1111111111111111,
              "#46039f"
             ],
             [
              0.2222222222222222,
              "#7201a8"
             ],
             [
              0.3333333333333333,
              "#9c179e"
             ],
             [
              0.4444444444444444,
              "#bd3786"
             ],
             [
              0.5555555555555556,
              "#d8576b"
             ],
             [
              0.6666666666666666,
              "#ed7953"
             ],
             [
              0.7777777777777778,
              "#fb9f3a"
             ],
             [
              0.8888888888888888,
              "#fdca26"
             ],
             [
              1,
              "#f0f921"
             ]
            ],
            "type": "heatmap"
           }
          ],
          "heatmapgl": [
           {
            "colorbar": {
             "outlinewidth": 0,
             "ticks": ""
            },
            "colorscale": [
             [
              0,
              "#0d0887"
             ],
             [
              0.1111111111111111,
              "#46039f"
             ],
             [
              0.2222222222222222,
              "#7201a8"
             ],
             [
              0.3333333333333333,
              "#9c179e"
             ],
             [
              0.4444444444444444,
              "#bd3786"
             ],
             [
              0.5555555555555556,
              "#d8576b"
             ],
             [
              0.6666666666666666,
              "#ed7953"
             ],
             [
              0.7777777777777778,
              "#fb9f3a"
             ],
             [
              0.8888888888888888,
              "#fdca26"
             ],
             [
              1,
              "#f0f921"
             ]
            ],
            "type": "heatmapgl"
           }
          ],
          "histogram": [
           {
            "marker": {
             "pattern": {
              "fillmode": "overlay",
              "size": 10,
              "solidity": 0.2
             }
            },
            "type": "histogram"
           }
          ],
          "histogram2d": [
           {
            "colorbar": {
             "outlinewidth": 0,
             "ticks": ""
            },
            "colorscale": [
             [
              0,
              "#0d0887"
             ],
             [
              0.1111111111111111,
              "#46039f"
             ],
             [
              0.2222222222222222,
              "#7201a8"
             ],
             [
              0.3333333333333333,
              "#9c179e"
             ],
             [
              0.4444444444444444,
              "#bd3786"
             ],
             [
              0.5555555555555556,
              "#d8576b"
             ],
             [
              0.6666666666666666,
              "#ed7953"
             ],
             [
              0.7777777777777778,
              "#fb9f3a"
             ],
             [
              0.8888888888888888,
              "#fdca26"
             ],
             [
              1,
              "#f0f921"
             ]
            ],
            "type": "histogram2d"
           }
          ],
          "histogram2dcontour": [
           {
            "colorbar": {
             "outlinewidth": 0,
             "ticks": ""
            },
            "colorscale": [
             [
              0,
              "#0d0887"
             ],
             [
              0.1111111111111111,
              "#46039f"
             ],
             [
              0.2222222222222222,
              "#7201a8"
             ],
             [
              0.3333333333333333,
              "#9c179e"
             ],
             [
              0.4444444444444444,
              "#bd3786"
             ],
             [
              0.5555555555555556,
              "#d8576b"
             ],
             [
              0.6666666666666666,
              "#ed7953"
             ],
             [
              0.7777777777777778,
              "#fb9f3a"
             ],
             [
              0.8888888888888888,
              "#fdca26"
             ],
             [
              1,
              "#f0f921"
             ]
            ],
            "type": "histogram2dcontour"
           }
          ],
          "mesh3d": [
           {
            "colorbar": {
             "outlinewidth": 0,
             "ticks": ""
            },
            "type": "mesh3d"
           }
          ],
          "parcoords": [
           {
            "line": {
             "colorbar": {
              "outlinewidth": 0,
              "ticks": ""
             }
            },
            "type": "parcoords"
           }
          ],
          "pie": [
           {
            "automargin": true,
            "type": "pie"
           }
          ],
          "scatter": [
           {
            "fillpattern": {
             "fillmode": "overlay",
             "size": 10,
             "solidity": 0.2
            },
            "type": "scatter"
           }
          ],
          "scatter3d": [
           {
            "line": {
             "colorbar": {
              "outlinewidth": 0,
              "ticks": ""
             }
            },
            "marker": {
             "colorbar": {
              "outlinewidth": 0,
              "ticks": ""
             }
            },
            "type": "scatter3d"
           }
          ],
          "scattercarpet": [
           {
            "marker": {
             "colorbar": {
              "outlinewidth": 0,
              "ticks": ""
             }
            },
            "type": "scattercarpet"
           }
          ],
          "scattergeo": [
           {
            "marker": {
             "colorbar": {
              "outlinewidth": 0,
              "ticks": ""
             }
            },
            "type": "scattergeo"
           }
          ],
          "scattergl": [
           {
            "marker": {
             "colorbar": {
              "outlinewidth": 0,
              "ticks": ""
             }
            },
            "type": "scattergl"
           }
          ],
          "scattermapbox": [
           {
            "marker": {
             "colorbar": {
              "outlinewidth": 0,
              "ticks": ""
             }
            },
            "type": "scattermapbox"
           }
          ],
          "scatterpolar": [
           {
            "marker": {
             "colorbar": {
              "outlinewidth": 0,
              "ticks": ""
             }
            },
            "type": "scatterpolar"
           }
          ],
          "scatterpolargl": [
           {
            "marker": {
             "colorbar": {
              "outlinewidth": 0,
              "ticks": ""
             }
            },
            "type": "scatterpolargl"
           }
          ],
          "scatterternary": [
           {
            "marker": {
             "colorbar": {
              "outlinewidth": 0,
              "ticks": ""
             }
            },
            "type": "scatterternary"
           }
          ],
          "surface": [
           {
            "colorbar": {
             "outlinewidth": 0,
             "ticks": ""
            },
            "colorscale": [
             [
              0,
              "#0d0887"
             ],
             [
              0.1111111111111111,
              "#46039f"
             ],
             [
              0.2222222222222222,
              "#7201a8"
             ],
             [
              0.3333333333333333,
              "#9c179e"
             ],
             [
              0.4444444444444444,
              "#bd3786"
             ],
             [
              0.5555555555555556,
              "#d8576b"
             ],
             [
              0.6666666666666666,
              "#ed7953"
             ],
             [
              0.7777777777777778,
              "#fb9f3a"
             ],
             [
              0.8888888888888888,
              "#fdca26"
             ],
             [
              1,
              "#f0f921"
             ]
            ],
            "type": "surface"
           }
          ],
          "table": [
           {
            "cells": {
             "fill": {
              "color": "#EBF0F8"
             },
             "line": {
              "color": "white"
             }
            },
            "header": {
             "fill": {
              "color": "#C8D4E3"
             },
             "line": {
              "color": "white"
             }
            },
            "type": "table"
           }
          ]
         },
         "layout": {
          "annotationdefaults": {
           "arrowcolor": "#2a3f5f",
           "arrowhead": 0,
           "arrowwidth": 1
          },
          "autotypenumbers": "strict",
          "coloraxis": {
           "colorbar": {
            "outlinewidth": 0,
            "ticks": ""
           }
          },
          "colorscale": {
           "diverging": [
            [
             0,
             "#8e0152"
            ],
            [
             0.1,
             "#c51b7d"
            ],
            [
             0.2,
             "#de77ae"
            ],
            [
             0.3,
             "#f1b6da"
            ],
            [
             0.4,
             "#fde0ef"
            ],
            [
             0.5,
             "#f7f7f7"
            ],
            [
             0.6,
             "#e6f5d0"
            ],
            [
             0.7,
             "#b8e186"
            ],
            [
             0.8,
             "#7fbc41"
            ],
            [
             0.9,
             "#4d9221"
            ],
            [
             1,
             "#276419"
            ]
           ],
           "sequential": [
            [
             0,
             "#0d0887"
            ],
            [
             0.1111111111111111,
             "#46039f"
            ],
            [
             0.2222222222222222,
             "#7201a8"
            ],
            [
             0.3333333333333333,
             "#9c179e"
            ],
            [
             0.4444444444444444,
             "#bd3786"
            ],
            [
             0.5555555555555556,
             "#d8576b"
            ],
            [
             0.6666666666666666,
             "#ed7953"
            ],
            [
             0.7777777777777778,
             "#fb9f3a"
            ],
            [
             0.8888888888888888,
             "#fdca26"
            ],
            [
             1,
             "#f0f921"
            ]
           ],
           "sequentialminus": [
            [
             0,
             "#0d0887"
            ],
            [
             0.1111111111111111,
             "#46039f"
            ],
            [
             0.2222222222222222,
             "#7201a8"
            ],
            [
             0.3333333333333333,
             "#9c179e"
            ],
            [
             0.4444444444444444,
             "#bd3786"
            ],
            [
             0.5555555555555556,
             "#d8576b"
            ],
            [
             0.6666666666666666,
             "#ed7953"
            ],
            [
             0.7777777777777778,
             "#fb9f3a"
            ],
            [
             0.8888888888888888,
             "#fdca26"
            ],
            [
             1,
             "#f0f921"
            ]
           ]
          },
          "colorway": [
           "#636efa",
           "#EF553B",
           "#00cc96",
           "#ab63fa",
           "#FFA15A",
           "#19d3f3",
           "#FF6692",
           "#B6E880",
           "#FF97FF",
           "#FECB52"
          ],
          "font": {
           "color": "#2a3f5f"
          },
          "geo": {
           "bgcolor": "white",
           "lakecolor": "white",
           "landcolor": "#E5ECF6",
           "showlakes": true,
           "showland": true,
           "subunitcolor": "white"
          },
          "hoverlabel": {
           "align": "left"
          },
          "hovermode": "closest",
          "mapbox": {
           "style": "light"
          },
          "paper_bgcolor": "white",
          "plot_bgcolor": "#E5ECF6",
          "polar": {
           "angularaxis": {
            "gridcolor": "white",
            "linecolor": "white",
            "ticks": ""
           },
           "bgcolor": "#E5ECF6",
           "radialaxis": {
            "gridcolor": "white",
            "linecolor": "white",
            "ticks": ""
           }
          },
          "scene": {
           "xaxis": {
            "backgroundcolor": "#E5ECF6",
            "gridcolor": "white",
            "gridwidth": 2,
            "linecolor": "white",
            "showbackground": true,
            "ticks": "",
            "zerolinecolor": "white"
           },
           "yaxis": {
            "backgroundcolor": "#E5ECF6",
            "gridcolor": "white",
            "gridwidth": 2,
            "linecolor": "white",
            "showbackground": true,
            "ticks": "",
            "zerolinecolor": "white"
           },
           "zaxis": {
            "backgroundcolor": "#E5ECF6",
            "gridcolor": "white",
            "gridwidth": 2,
            "linecolor": "white",
            "showbackground": true,
            "ticks": "",
            "zerolinecolor": "white"
           }
          },
          "shapedefaults": {
           "line": {
            "color": "#2a3f5f"
           }
          },
          "ternary": {
           "aaxis": {
            "gridcolor": "white",
            "linecolor": "white",
            "ticks": ""
           },
           "baxis": {
            "gridcolor": "white",
            "linecolor": "white",
            "ticks": ""
           },
           "bgcolor": "#E5ECF6",
           "caxis": {
            "gridcolor": "white",
            "linecolor": "white",
            "ticks": ""
           }
          },
          "title": {
           "x": 0.05
          },
          "xaxis": {
           "automargin": true,
           "gridcolor": "white",
           "linecolor": "white",
           "ticks": "",
           "title": {
            "standoff": 15
           },
           "zerolinecolor": "white",
           "zerolinewidth": 2
          },
          "yaxis": {
           "automargin": true,
           "gridcolor": "white",
           "linecolor": "white",
           "ticks": "",
           "title": {
            "standoff": 15
           },
           "zerolinecolor": "white",
           "zerolinewidth": 2
          }
         }
        },
        "width": 1200
       }
      }
     },
     "metadata": {},
     "output_type": "display_data"
    }
   ],
   "source": [
    "from dashboards_and_tables.T1_corr_tables.table_builders import correlation_table\n",
    "\n",
    "correlation_table(df_Y, mode = \"Jahre\", html_elements_color=html_elements_color).show()"
   ]
  },
  {
   "cell_type": "code",
   "execution_count": 5,
   "metadata": {
    "scrolled": true
   },
   "outputs": [
    {
     "data": {
      "application/vnd.plotly.v1+json": {
       "config": {
        "plotlyServerURL": "https://plot.ly"
       },
       "data": [
        {
         "customdata": [
          [
           "Belgium"
          ],
          [
           "Bulgaria"
          ],
          [
           "Czechia"
          ],
          [
           "Denmark"
          ],
          [
           "Germany"
          ],
          [
           "Estonia"
          ],
          [
           "Ireland"
          ],
          [
           "Greece"
          ],
          [
           "Spain"
          ],
          [
           "France"
          ],
          [
           "Croatia"
          ],
          [
           "Italy"
          ],
          [
           "Cyprus"
          ],
          [
           "Latvia"
          ],
          [
           "Lithuania"
          ],
          [
           "Luxembourg"
          ],
          [
           "Hungary"
          ],
          [
           "Malta"
          ],
          [
           "Netherlands"
          ],
          [
           "Austria"
          ],
          [
           "Poland"
          ],
          [
           "Portugal"
          ],
          [
           "Romania"
          ],
          [
           "Slovenia"
          ],
          [
           "Slovakia"
          ],
          [
           "Finland"
          ],
          [
           "Sweden"
          ],
          [
           "Norway"
          ],
          [
           "Türkiye"
          ],
          [
           "Belgium"
          ],
          [
           "Bulgaria"
          ],
          [
           "Czechia"
          ],
          [
           "Denmark"
          ],
          [
           "Germany"
          ],
          [
           "Estonia"
          ],
          [
           "Ireland"
          ],
          [
           "Greece"
          ],
          [
           "Spain"
          ],
          [
           "France"
          ],
          [
           "Croatia"
          ],
          [
           "Italy"
          ],
          [
           "Cyprus"
          ],
          [
           "Latvia"
          ],
          [
           "Lithuania"
          ],
          [
           "Luxembourg"
          ],
          [
           "Hungary"
          ],
          [
           "Malta"
          ],
          [
           "Netherlands"
          ],
          [
           "Austria"
          ],
          [
           "Poland"
          ],
          [
           "Portugal"
          ],
          [
           "Romania"
          ],
          [
           "Slovenia"
          ],
          [
           "Slovakia"
          ],
          [
           "Finland"
          ],
          [
           "Sweden"
          ],
          [
           "Norway"
          ],
          [
           "Türkiye"
          ],
          [
           "Belgium"
          ],
          [
           "Bulgaria"
          ],
          [
           "Czechia"
          ],
          [
           "Denmark"
          ],
          [
           "Germany"
          ],
          [
           "Estonia"
          ],
          [
           "Ireland"
          ],
          [
           "Greece"
          ],
          [
           "Spain"
          ],
          [
           "France"
          ],
          [
           "Croatia"
          ],
          [
           "Italy"
          ],
          [
           "Cyprus"
          ],
          [
           "Latvia"
          ],
          [
           "Lithuania"
          ],
          [
           "Luxembourg"
          ],
          [
           "Hungary"
          ],
          [
           "Malta"
          ],
          [
           "Netherlands"
          ],
          [
           "Austria"
          ],
          [
           "Poland"
          ],
          [
           "Portugal"
          ],
          [
           "Romania"
          ],
          [
           "Slovenia"
          ],
          [
           "Slovakia"
          ],
          [
           "Finland"
          ],
          [
           "Sweden"
          ],
          [
           "Norway"
          ],
          [
           "Türkiye"
          ],
          [
           "Belgium"
          ],
          [
           "Bulgaria"
          ],
          [
           "Czechia"
          ],
          [
           "Denmark"
          ],
          [
           "Germany"
          ],
          [
           "Estonia"
          ],
          [
           "Ireland"
          ],
          [
           "Greece"
          ],
          [
           "Spain"
          ],
          [
           "France"
          ],
          [
           "Croatia"
          ],
          [
           "Italy"
          ],
          [
           "Cyprus"
          ],
          [
           "Latvia"
          ],
          [
           "Lithuania"
          ],
          [
           "Luxembourg"
          ],
          [
           "Hungary"
          ],
          [
           "Malta"
          ],
          [
           "Netherlands"
          ],
          [
           "Austria"
          ],
          [
           "Poland"
          ],
          [
           "Portugal"
          ],
          [
           "Romania"
          ],
          [
           "Slovenia"
          ],
          [
           "Slovakia"
          ],
          [
           "Finland"
          ],
          [
           "Sweden"
          ],
          [
           "Norway"
          ],
          [
           "Türkiye"
          ],
          [
           "Belgium"
          ],
          [
           "Bulgaria"
          ],
          [
           "Czechia"
          ],
          [
           "Denmark"
          ],
          [
           "Germany"
          ],
          [
           "Estonia"
          ],
          [
           "Ireland"
          ],
          [
           "Greece"
          ],
          [
           "Spain"
          ],
          [
           "France"
          ],
          [
           "Croatia"
          ],
          [
           "Italy"
          ],
          [
           "Cyprus"
          ],
          [
           "Latvia"
          ],
          [
           "Lithuania"
          ],
          [
           "Luxembourg"
          ],
          [
           "Hungary"
          ],
          [
           "Malta"
          ],
          [
           "Netherlands"
          ],
          [
           "Austria"
          ],
          [
           "Poland"
          ],
          [
           "Portugal"
          ],
          [
           "Romania"
          ],
          [
           "Slovenia"
          ],
          [
           "Slovakia"
          ],
          [
           "Finland"
          ],
          [
           "Sweden"
          ],
          [
           "Norway"
          ],
          [
           "Türkiye"
          ],
          [
           "Belgium"
          ],
          [
           "Bulgaria"
          ],
          [
           "Czechia"
          ],
          [
           "Denmark"
          ],
          [
           "Germany"
          ],
          [
           "Estonia"
          ],
          [
           "Ireland"
          ],
          [
           "Greece"
          ],
          [
           "Spain"
          ],
          [
           "France"
          ],
          [
           "Croatia"
          ],
          [
           "Italy"
          ],
          [
           "Cyprus"
          ],
          [
           "Latvia"
          ],
          [
           "Lithuania"
          ],
          [
           "Luxembourg"
          ],
          [
           "Hungary"
          ],
          [
           "Malta"
          ],
          [
           "Netherlands"
          ],
          [
           "Austria"
          ],
          [
           "Poland"
          ],
          [
           "Portugal"
          ],
          [
           "Romania"
          ],
          [
           "Slovenia"
          ],
          [
           "Slovakia"
          ],
          [
           "Finland"
          ],
          [
           "Sweden"
          ],
          [
           "Norway"
          ],
          [
           "Türkiye"
          ],
          [
           "Belgium"
          ],
          [
           "Bulgaria"
          ],
          [
           "Czechia"
          ],
          [
           "Denmark"
          ],
          [
           "Germany"
          ],
          [
           "Estonia"
          ],
          [
           "Ireland"
          ],
          [
           "Greece"
          ],
          [
           "Spain"
          ],
          [
           "France"
          ],
          [
           "Croatia"
          ],
          [
           "Italy"
          ],
          [
           "Cyprus"
          ],
          [
           "Latvia"
          ],
          [
           "Lithuania"
          ],
          [
           "Luxembourg"
          ],
          [
           "Hungary"
          ],
          [
           "Malta"
          ],
          [
           "Netherlands"
          ],
          [
           "Austria"
          ],
          [
           "Poland"
          ],
          [
           "Portugal"
          ],
          [
           "Romania"
          ],
          [
           "Slovenia"
          ],
          [
           "Slovakia"
          ],
          [
           "Finland"
          ],
          [
           "Sweden"
          ],
          [
           "Norway"
          ],
          [
           "Türkiye"
          ],
          [
           "Belgium"
          ],
          [
           "Bulgaria"
          ],
          [
           "Czechia"
          ],
          [
           "Denmark"
          ],
          [
           "Germany"
          ],
          [
           "Estonia"
          ],
          [
           "Ireland"
          ],
          [
           "Greece"
          ],
          [
           "Spain"
          ],
          [
           "France"
          ],
          [
           "Croatia"
          ],
          [
           "Italy"
          ],
          [
           "Cyprus"
          ],
          [
           "Latvia"
          ],
          [
           "Lithuania"
          ],
          [
           "Luxembourg"
          ],
          [
           "Hungary"
          ],
          [
           "Malta"
          ],
          [
           "Netherlands"
          ],
          [
           "Austria"
          ],
          [
           "Poland"
          ],
          [
           "Portugal"
          ],
          [
           "Romania"
          ],
          [
           "Slovenia"
          ],
          [
           "Slovakia"
          ],
          [
           "Finland"
          ],
          [
           "Sweden"
          ],
          [
           "Norway"
          ],
          [
           "Türkiye"
          ],
          [
           "Belgium"
          ],
          [
           "Bulgaria"
          ],
          [
           "Czechia"
          ],
          [
           "Denmark"
          ],
          [
           "Germany"
          ],
          [
           "Estonia"
          ],
          [
           "Ireland"
          ],
          [
           "Greece"
          ],
          [
           "Spain"
          ],
          [
           "France"
          ],
          [
           "Croatia"
          ],
          [
           "Italy"
          ],
          [
           "Cyprus"
          ],
          [
           "Latvia"
          ],
          [
           "Lithuania"
          ],
          [
           "Luxembourg"
          ],
          [
           "Hungary"
          ],
          [
           "Malta"
          ],
          [
           "Netherlands"
          ],
          [
           "Austria"
          ],
          [
           "Poland"
          ],
          [
           "Portugal"
          ],
          [
           "Romania"
          ],
          [
           "Slovenia"
          ],
          [
           "Slovakia"
          ],
          [
           "Finland"
          ],
          [
           "Sweden"
          ],
          [
           "Norway"
          ],
          [
           "Türkiye"
          ],
          [
           "Belgium"
          ],
          [
           "Bulgaria"
          ],
          [
           "Czechia"
          ],
          [
           "Denmark"
          ],
          [
           "Germany"
          ],
          [
           "Estonia"
          ],
          [
           "Ireland"
          ],
          [
           "Greece"
          ],
          [
           "Spain"
          ],
          [
           "France"
          ],
          [
           "Croatia"
          ],
          [
           "Italy"
          ],
          [
           "Cyprus"
          ],
          [
           "Latvia"
          ],
          [
           "Lithuania"
          ],
          [
           "Luxembourg"
          ],
          [
           "Hungary"
          ],
          [
           "Malta"
          ],
          [
           "Netherlands"
          ],
          [
           "Austria"
          ],
          [
           "Poland"
          ],
          [
           "Portugal"
          ],
          [
           "Romania"
          ],
          [
           "Slovenia"
          ],
          [
           "Slovakia"
          ],
          [
           "Finland"
          ],
          [
           "Sweden"
          ],
          [
           "Norway"
          ],
          [
           "Türkiye"
          ],
          [
           "Belgium"
          ],
          [
           "Bulgaria"
          ],
          [
           "Czechia"
          ],
          [
           "Denmark"
          ],
          [
           "Germany"
          ],
          [
           "Estonia"
          ],
          [
           "Ireland"
          ],
          [
           "Greece"
          ],
          [
           "Spain"
          ],
          [
           "France"
          ],
          [
           "Croatia"
          ],
          [
           "Italy"
          ],
          [
           "Cyprus"
          ],
          [
           "Latvia"
          ],
          [
           "Lithuania"
          ],
          [
           "Luxembourg"
          ],
          [
           "Hungary"
          ],
          [
           "Malta"
          ],
          [
           "Netherlands"
          ],
          [
           "Austria"
          ],
          [
           "Poland"
          ],
          [
           "Portugal"
          ],
          [
           "Romania"
          ],
          [
           "Slovenia"
          ],
          [
           "Slovakia"
          ],
          [
           "Finland"
          ],
          [
           "Sweden"
          ],
          [
           "Norway"
          ],
          [
           "Türkiye"
          ],
          [
           "Belgium"
          ],
          [
           "Bulgaria"
          ],
          [
           "Czechia"
          ],
          [
           "Denmark"
          ],
          [
           "Germany"
          ],
          [
           "Estonia"
          ],
          [
           "Ireland"
          ],
          [
           "Greece"
          ],
          [
           "Spain"
          ],
          [
           "France"
          ],
          [
           "Croatia"
          ],
          [
           "Italy"
          ],
          [
           "Cyprus"
          ],
          [
           "Latvia"
          ],
          [
           "Lithuania"
          ],
          [
           "Luxembourg"
          ],
          [
           "Hungary"
          ],
          [
           "Malta"
          ],
          [
           "Netherlands"
          ],
          [
           "Austria"
          ],
          [
           "Poland"
          ],
          [
           "Portugal"
          ],
          [
           "Romania"
          ],
          [
           "Slovenia"
          ],
          [
           "Slovakia"
          ],
          [
           "Finland"
          ],
          [
           "Sweden"
          ],
          [
           "Norway"
          ],
          [
           "Türkiye"
          ],
          [
           "Belgium"
          ],
          [
           "Bulgaria"
          ],
          [
           "Czechia"
          ],
          [
           "Denmark"
          ],
          [
           "Germany"
          ],
          [
           "Estonia"
          ],
          [
           "Ireland"
          ],
          [
           "Greece"
          ],
          [
           "Spain"
          ],
          [
           "France"
          ],
          [
           "Croatia"
          ],
          [
           "Italy"
          ],
          [
           "Cyprus"
          ],
          [
           "Latvia"
          ],
          [
           "Lithuania"
          ],
          [
           "Luxembourg"
          ],
          [
           "Hungary"
          ],
          [
           "Malta"
          ],
          [
           "Netherlands"
          ],
          [
           "Austria"
          ],
          [
           "Poland"
          ],
          [
           "Portugal"
          ],
          [
           "Romania"
          ],
          [
           "Slovenia"
          ],
          [
           "Slovakia"
          ],
          [
           "Finland"
          ],
          [
           "Sweden"
          ],
          [
           "Norway"
          ],
          [
           "Türkiye"
          ],
          [
           "Belgium"
          ],
          [
           "Bulgaria"
          ],
          [
           "Czechia"
          ],
          [
           "Denmark"
          ],
          [
           "Germany"
          ],
          [
           "Estonia"
          ],
          [
           "Ireland"
          ],
          [
           "Greece"
          ],
          [
           "Spain"
          ],
          [
           "France"
          ],
          [
           "Croatia"
          ],
          [
           "Italy"
          ],
          [
           "Cyprus"
          ],
          [
           "Latvia"
          ],
          [
           "Lithuania"
          ],
          [
           "Luxembourg"
          ],
          [
           "Hungary"
          ],
          [
           "Malta"
          ],
          [
           "Netherlands"
          ],
          [
           "Austria"
          ],
          [
           "Poland"
          ],
          [
           "Portugal"
          ],
          [
           "Romania"
          ],
          [
           "Slovenia"
          ],
          [
           "Slovakia"
          ],
          [
           "Finland"
          ],
          [
           "Sweden"
          ],
          [
           "Norway"
          ],
          [
           "Türkiye"
          ],
          [
           "Belgium"
          ],
          [
           "Bulgaria"
          ],
          [
           "Czechia"
          ],
          [
           "Denmark"
          ],
          [
           "Germany"
          ],
          [
           "Estonia"
          ],
          [
           "Ireland"
          ],
          [
           "Greece"
          ],
          [
           "Spain"
          ],
          [
           "France"
          ],
          [
           "Croatia"
          ],
          [
           "Italy"
          ],
          [
           "Cyprus"
          ],
          [
           "Latvia"
          ],
          [
           "Lithuania"
          ],
          [
           "Luxembourg"
          ],
          [
           "Hungary"
          ],
          [
           "Malta"
          ],
          [
           "Netherlands"
          ],
          [
           "Austria"
          ],
          [
           "Poland"
          ],
          [
           "Portugal"
          ],
          [
           "Romania"
          ],
          [
           "Slovenia"
          ],
          [
           "Slovakia"
          ],
          [
           "Finland"
          ],
          [
           "Sweden"
          ],
          [
           "Norway"
          ],
          [
           "Türkiye"
          ],
          [
           "Belgium"
          ],
          [
           "Bulgaria"
          ],
          [
           "Czechia"
          ],
          [
           "Denmark"
          ],
          [
           "Germany"
          ],
          [
           "Estonia"
          ],
          [
           "Ireland"
          ],
          [
           "Greece"
          ],
          [
           "Spain"
          ],
          [
           "France"
          ],
          [
           "Croatia"
          ],
          [
           "Italy"
          ],
          [
           "Cyprus"
          ],
          [
           "Latvia"
          ],
          [
           "Lithuania"
          ],
          [
           "Luxembourg"
          ],
          [
           "Hungary"
          ],
          [
           "Malta"
          ],
          [
           "Netherlands"
          ],
          [
           "Austria"
          ],
          [
           "Poland"
          ],
          [
           "Portugal"
          ],
          [
           "Romania"
          ],
          [
           "Slovenia"
          ],
          [
           "Slovakia"
          ],
          [
           "Finland"
          ],
          [
           "Sweden"
          ],
          [
           "Norway"
          ],
          [
           "Türkiye"
          ]
         ],
         "hovertemplate": "Land: %{customdata[0]}<br>Energieverbrauch: %{x:,.0f} GWh<br>BIP: %{y:,.0f} Mio €",
         "legendgroup": "",
         "marker": {
          "color": "#0057c4",
          "size": 10,
          "symbol": "circle"
         },
         "mode": "markers",
         "name": "",
         "orientation": "v",
         "showlegend": false,
         "type": "scatter",
         "x": [
          89497,
          34042,
          65148,
          36194,
          512673,
          8543,
          28218,
          54475,
          266929,
          494154,
          18045,
          336449,
          4719,
          7586,
          10495,
          6632,
          41261,
          2039,
          118010,
          66432,
          137828,
          39013,
          54209,
          13728,
          26849,
          86822,
          143922,
          126028,
          218553
         ],
         "xaxis": "x",
         "y": [
          351742,
          37245,
          161966,
          242721,
          2589680,
          16618,
          187281,
          241989,
          1112432,
          1989998,
          48575,
          1643718,
          19009,
          23353,
          32682,
          40008,
          108358,
          6235,
          651299,
          291844,
          365873,
          179101,
          146462,
          37740,
          66174,
          194253,
          353050,
          319371,
          526575
         ],
         "yaxis": "y"
        },
        {
         "customdata": [
          [
           "Belgium"
          ],
          [
           "Bulgaria"
          ],
          [
           "Czechia"
          ],
          [
           "Denmark"
          ],
          [
           "Germany"
          ],
          [
           "Estonia"
          ],
          [
           "Ireland"
          ],
          [
           "Greece"
          ],
          [
           "Spain"
          ],
          [
           "France"
          ],
          [
           "Croatia"
          ],
          [
           "Italy"
          ],
          [
           "Cyprus"
          ],
          [
           "Latvia"
          ],
          [
           "Lithuania"
          ],
          [
           "Luxembourg"
          ],
          [
           "Hungary"
          ],
          [
           "Malta"
          ],
          [
           "Netherlands"
          ],
          [
           "Austria"
          ],
          [
           "Poland"
          ],
          [
           "Portugal"
          ],
          [
           "Romania"
          ],
          [
           "Slovenia"
          ],
          [
           "Slovakia"
          ],
          [
           "Finland"
          ],
          [
           "Sweden"
          ],
          [
           "Norway"
          ],
          [
           "Türkiye"
          ],
          [
           "Belgium"
          ],
          [
           "Bulgaria"
          ],
          [
           "Czechia"
          ],
          [
           "Denmark"
          ],
          [
           "Germany"
          ],
          [
           "Estonia"
          ],
          [
           "Ireland"
          ],
          [
           "Greece"
          ],
          [
           "Spain"
          ],
          [
           "France"
          ],
          [
           "Croatia"
          ],
          [
           "Italy"
          ],
          [
           "Cyprus"
          ],
          [
           "Latvia"
          ],
          [
           "Lithuania"
          ],
          [
           "Luxembourg"
          ],
          [
           "Hungary"
          ],
          [
           "Malta"
          ],
          [
           "Netherlands"
          ],
          [
           "Austria"
          ],
          [
           "Poland"
          ],
          [
           "Portugal"
          ],
          [
           "Romania"
          ],
          [
           "Slovenia"
          ],
          [
           "Slovakia"
          ],
          [
           "Finland"
          ],
          [
           "Sweden"
          ],
          [
           "Norway"
          ],
          [
           "Türkiye"
          ],
          [
           "Belgium"
          ],
          [
           "Bulgaria"
          ],
          [
           "Czechia"
          ],
          [
           "Denmark"
          ],
          [
           "Germany"
          ],
          [
           "Estonia"
          ],
          [
           "Ireland"
          ],
          [
           "Greece"
          ],
          [
           "Spain"
          ],
          [
           "France"
          ],
          [
           "Croatia"
          ],
          [
           "Italy"
          ],
          [
           "Cyprus"
          ],
          [
           "Latvia"
          ],
          [
           "Lithuania"
          ],
          [
           "Luxembourg"
          ],
          [
           "Hungary"
          ],
          [
           "Malta"
          ],
          [
           "Netherlands"
          ],
          [
           "Austria"
          ],
          [
           "Poland"
          ],
          [
           "Portugal"
          ],
          [
           "Romania"
          ],
          [
           "Slovenia"
          ],
          [
           "Slovakia"
          ],
          [
           "Finland"
          ],
          [
           "Sweden"
          ],
          [
           "Norway"
          ],
          [
           "Türkiye"
          ],
          [
           "Belgium"
          ],
          [
           "Bulgaria"
          ],
          [
           "Czechia"
          ],
          [
           "Denmark"
          ],
          [
           "Germany"
          ],
          [
           "Estonia"
          ],
          [
           "Ireland"
          ],
          [
           "Greece"
          ],
          [
           "Spain"
          ],
          [
           "France"
          ],
          [
           "Croatia"
          ],
          [
           "Italy"
          ],
          [
           "Cyprus"
          ],
          [
           "Latvia"
          ],
          [
           "Lithuania"
          ],
          [
           "Luxembourg"
          ],
          [
           "Hungary"
          ],
          [
           "Malta"
          ],
          [
           "Netherlands"
          ],
          [
           "Austria"
          ],
          [
           "Poland"
          ],
          [
           "Portugal"
          ],
          [
           "Romania"
          ],
          [
           "Slovenia"
          ],
          [
           "Slovakia"
          ],
          [
           "Finland"
          ],
          [
           "Sweden"
          ],
          [
           "Norway"
          ],
          [
           "Türkiye"
          ],
          [
           "Belgium"
          ],
          [
           "Bulgaria"
          ],
          [
           "Czechia"
          ],
          [
           "Denmark"
          ],
          [
           "Germany"
          ],
          [
           "Estonia"
          ],
          [
           "Ireland"
          ],
          [
           "Greece"
          ],
          [
           "Spain"
          ],
          [
           "France"
          ],
          [
           "Croatia"
          ],
          [
           "Italy"
          ],
          [
           "Cyprus"
          ],
          [
           "Latvia"
          ],
          [
           "Lithuania"
          ],
          [
           "Luxembourg"
          ],
          [
           "Hungary"
          ],
          [
           "Malta"
          ],
          [
           "Netherlands"
          ],
          [
           "Austria"
          ],
          [
           "Poland"
          ],
          [
           "Portugal"
          ],
          [
           "Romania"
          ],
          [
           "Slovenia"
          ],
          [
           "Slovakia"
          ],
          [
           "Finland"
          ],
          [
           "Sweden"
          ],
          [
           "Norway"
          ],
          [
           "Türkiye"
          ],
          [
           "Belgium"
          ],
          [
           "Bulgaria"
          ],
          [
           "Czechia"
          ],
          [
           "Denmark"
          ],
          [
           "Germany"
          ],
          [
           "Estonia"
          ],
          [
           "Ireland"
          ],
          [
           "Greece"
          ],
          [
           "Spain"
          ],
          [
           "France"
          ],
          [
           "Croatia"
          ],
          [
           "Italy"
          ],
          [
           "Cyprus"
          ],
          [
           "Latvia"
          ],
          [
           "Lithuania"
          ],
          [
           "Luxembourg"
          ],
          [
           "Hungary"
          ],
          [
           "Malta"
          ],
          [
           "Netherlands"
          ],
          [
           "Austria"
          ],
          [
           "Poland"
          ],
          [
           "Portugal"
          ],
          [
           "Romania"
          ],
          [
           "Slovenia"
          ],
          [
           "Slovakia"
          ],
          [
           "Finland"
          ],
          [
           "Sweden"
          ],
          [
           "Norway"
          ],
          [
           "Türkiye"
          ],
          [
           "Belgium"
          ],
          [
           "Bulgaria"
          ],
          [
           "Czechia"
          ],
          [
           "Denmark"
          ],
          [
           "Germany"
          ],
          [
           "Estonia"
          ],
          [
           "Ireland"
          ],
          [
           "Greece"
          ],
          [
           "Spain"
          ],
          [
           "France"
          ],
          [
           "Croatia"
          ],
          [
           "Italy"
          ],
          [
           "Cyprus"
          ],
          [
           "Latvia"
          ],
          [
           "Lithuania"
          ],
          [
           "Luxembourg"
          ],
          [
           "Hungary"
          ],
          [
           "Malta"
          ],
          [
           "Netherlands"
          ],
          [
           "Austria"
          ],
          [
           "Poland"
          ],
          [
           "Portugal"
          ],
          [
           "Romania"
          ],
          [
           "Slovenia"
          ],
          [
           "Slovakia"
          ],
          [
           "Finland"
          ],
          [
           "Sweden"
          ],
          [
           "Norway"
          ],
          [
           "Türkiye"
          ],
          [
           "Belgium"
          ],
          [
           "Bulgaria"
          ],
          [
           "Czechia"
          ],
          [
           "Denmark"
          ],
          [
           "Germany"
          ],
          [
           "Estonia"
          ],
          [
           "Ireland"
          ],
          [
           "Greece"
          ],
          [
           "Spain"
          ],
          [
           "France"
          ],
          [
           "Croatia"
          ],
          [
           "Italy"
          ],
          [
           "Cyprus"
          ],
          [
           "Latvia"
          ],
          [
           "Lithuania"
          ],
          [
           "Luxembourg"
          ],
          [
           "Hungary"
          ],
          [
           "Malta"
          ],
          [
           "Netherlands"
          ],
          [
           "Austria"
          ],
          [
           "Poland"
          ],
          [
           "Portugal"
          ],
          [
           "Romania"
          ],
          [
           "Slovenia"
          ],
          [
           "Slovakia"
          ],
          [
           "Finland"
          ],
          [
           "Sweden"
          ],
          [
           "Norway"
          ],
          [
           "Türkiye"
          ],
          [
           "Belgium"
          ],
          [
           "Bulgaria"
          ],
          [
           "Czechia"
          ],
          [
           "Denmark"
          ],
          [
           "Germany"
          ],
          [
           "Estonia"
          ],
          [
           "Ireland"
          ],
          [
           "Greece"
          ],
          [
           "Spain"
          ],
          [
           "France"
          ],
          [
           "Croatia"
          ],
          [
           "Italy"
          ],
          [
           "Cyprus"
          ],
          [
           "Latvia"
          ],
          [
           "Lithuania"
          ],
          [
           "Luxembourg"
          ],
          [
           "Hungary"
          ],
          [
           "Malta"
          ],
          [
           "Netherlands"
          ],
          [
           "Austria"
          ],
          [
           "Poland"
          ],
          [
           "Portugal"
          ],
          [
           "Romania"
          ],
          [
           "Slovenia"
          ],
          [
           "Slovakia"
          ],
          [
           "Finland"
          ],
          [
           "Sweden"
          ],
          [
           "Norway"
          ],
          [
           "Türkiye"
          ],
          [
           "Belgium"
          ],
          [
           "Bulgaria"
          ],
          [
           "Czechia"
          ],
          [
           "Denmark"
          ],
          [
           "Germany"
          ],
          [
           "Estonia"
          ],
          [
           "Ireland"
          ],
          [
           "Greece"
          ],
          [
           "Spain"
          ],
          [
           "France"
          ],
          [
           "Croatia"
          ],
          [
           "Italy"
          ],
          [
           "Cyprus"
          ],
          [
           "Latvia"
          ],
          [
           "Lithuania"
          ],
          [
           "Luxembourg"
          ],
          [
           "Hungary"
          ],
          [
           "Malta"
          ],
          [
           "Netherlands"
          ],
          [
           "Austria"
          ],
          [
           "Poland"
          ],
          [
           "Portugal"
          ],
          [
           "Romania"
          ],
          [
           "Slovenia"
          ],
          [
           "Slovakia"
          ],
          [
           "Finland"
          ],
          [
           "Sweden"
          ],
          [
           "Norway"
          ],
          [
           "Türkiye"
          ],
          [
           "Belgium"
          ],
          [
           "Bulgaria"
          ],
          [
           "Czechia"
          ],
          [
           "Denmark"
          ],
          [
           "Germany"
          ],
          [
           "Estonia"
          ],
          [
           "Ireland"
          ],
          [
           "Greece"
          ],
          [
           "Spain"
          ],
          [
           "France"
          ],
          [
           "Croatia"
          ],
          [
           "Italy"
          ],
          [
           "Cyprus"
          ],
          [
           "Latvia"
          ],
          [
           "Lithuania"
          ],
          [
           "Luxembourg"
          ],
          [
           "Hungary"
          ],
          [
           "Malta"
          ],
          [
           "Netherlands"
          ],
          [
           "Austria"
          ],
          [
           "Poland"
          ],
          [
           "Portugal"
          ],
          [
           "Romania"
          ],
          [
           "Slovenia"
          ],
          [
           "Slovakia"
          ],
          [
           "Finland"
          ],
          [
           "Sweden"
          ],
          [
           "Norway"
          ],
          [
           "Türkiye"
          ],
          [
           "Belgium"
          ],
          [
           "Bulgaria"
          ],
          [
           "Czechia"
          ],
          [
           "Denmark"
          ],
          [
           "Germany"
          ],
          [
           "Estonia"
          ],
          [
           "Ireland"
          ],
          [
           "Greece"
          ],
          [
           "Spain"
          ],
          [
           "France"
          ],
          [
           "Croatia"
          ],
          [
           "Italy"
          ],
          [
           "Cyprus"
          ],
          [
           "Latvia"
          ],
          [
           "Lithuania"
          ],
          [
           "Luxembourg"
          ],
          [
           "Hungary"
          ],
          [
           "Malta"
          ],
          [
           "Netherlands"
          ],
          [
           "Austria"
          ],
          [
           "Poland"
          ],
          [
           "Portugal"
          ],
          [
           "Romania"
          ],
          [
           "Slovenia"
          ],
          [
           "Slovakia"
          ],
          [
           "Finland"
          ],
          [
           "Sweden"
          ],
          [
           "Norway"
          ],
          [
           "Türkiye"
          ],
          [
           "Belgium"
          ],
          [
           "Bulgaria"
          ],
          [
           "Czechia"
          ],
          [
           "Denmark"
          ],
          [
           "Germany"
          ],
          [
           "Estonia"
          ],
          [
           "Ireland"
          ],
          [
           "Greece"
          ],
          [
           "Spain"
          ],
          [
           "France"
          ],
          [
           "Croatia"
          ],
          [
           "Italy"
          ],
          [
           "Cyprus"
          ],
          [
           "Latvia"
          ],
          [
           "Lithuania"
          ],
          [
           "Luxembourg"
          ],
          [
           "Hungary"
          ],
          [
           "Malta"
          ],
          [
           "Netherlands"
          ],
          [
           "Austria"
          ],
          [
           "Poland"
          ],
          [
           "Portugal"
          ],
          [
           "Romania"
          ],
          [
           "Slovenia"
          ],
          [
           "Slovakia"
          ],
          [
           "Finland"
          ],
          [
           "Sweden"
          ],
          [
           "Norway"
          ],
          [
           "Türkiye"
          ],
          [
           "Belgium"
          ],
          [
           "Bulgaria"
          ],
          [
           "Czechia"
          ],
          [
           "Denmark"
          ],
          [
           "Germany"
          ],
          [
           "Estonia"
          ],
          [
           "Ireland"
          ],
          [
           "Greece"
          ],
          [
           "Spain"
          ],
          [
           "France"
          ],
          [
           "Croatia"
          ],
          [
           "Italy"
          ],
          [
           "Cyprus"
          ],
          [
           "Latvia"
          ],
          [
           "Lithuania"
          ],
          [
           "Luxembourg"
          ],
          [
           "Hungary"
          ],
          [
           "Malta"
          ],
          [
           "Netherlands"
          ],
          [
           "Austria"
          ],
          [
           "Poland"
          ],
          [
           "Portugal"
          ],
          [
           "Romania"
          ],
          [
           "Slovenia"
          ],
          [
           "Slovakia"
          ],
          [
           "Finland"
          ],
          [
           "Sweden"
          ],
          [
           "Norway"
          ],
          [
           "Türkiye"
          ],
          [
           "Belgium"
          ],
          [
           "Bulgaria"
          ],
          [
           "Czechia"
          ],
          [
           "Denmark"
          ],
          [
           "Germany"
          ],
          [
           "Estonia"
          ],
          [
           "Ireland"
          ],
          [
           "Greece"
          ],
          [
           "Spain"
          ],
          [
           "France"
          ],
          [
           "Croatia"
          ],
          [
           "Italy"
          ],
          [
           "Cyprus"
          ],
          [
           "Latvia"
          ],
          [
           "Lithuania"
          ],
          [
           "Luxembourg"
          ],
          [
           "Hungary"
          ],
          [
           "Malta"
          ],
          [
           "Netherlands"
          ],
          [
           "Austria"
          ],
          [
           "Poland"
          ],
          [
           "Portugal"
          ],
          [
           "Romania"
          ],
          [
           "Slovenia"
          ],
          [
           "Slovakia"
          ],
          [
           "Finland"
          ],
          [
           "Sweden"
          ],
          [
           "Norway"
          ],
          [
           "Türkiye"
          ],
          [
           "Belgium"
          ],
          [
           "Bulgaria"
          ],
          [
           "Czechia"
          ],
          [
           "Denmark"
          ],
          [
           "Germany"
          ],
          [
           "Estonia"
          ],
          [
           "Ireland"
          ],
          [
           "Greece"
          ],
          [
           "Spain"
          ],
          [
           "France"
          ],
          [
           "Croatia"
          ],
          [
           "Italy"
          ],
          [
           "Cyprus"
          ],
          [
           "Latvia"
          ],
          [
           "Lithuania"
          ],
          [
           "Luxembourg"
          ],
          [
           "Hungary"
          ],
          [
           "Malta"
          ],
          [
           "Netherlands"
          ],
          [
           "Austria"
          ],
          [
           "Poland"
          ],
          [
           "Portugal"
          ],
          [
           "Romania"
          ],
          [
           "Slovenia"
          ],
          [
           "Slovakia"
          ],
          [
           "Finland"
          ],
          [
           "Sweden"
          ],
          [
           "Norway"
          ],
          [
           "Türkiye"
          ]
         ],
         "hovertemplate": "Land: %{customdata[0]}<br>Energieverbrauch: %{x:,.0f} GWh<br>BIP: %{y:,.0f} Mio €",
         "legendgroup": "",
         "line": {
          "color": "#b50000"
         },
         "marker": {
          "color": "#0057c4",
          "size": 10,
          "symbol": "circle"
         },
         "mode": "lines",
         "name": "",
         "showlegend": false,
         "type": "scatter",
         "x": [
          2039,
          4719,
          6632,
          7586,
          8543,
          10495,
          13728,
          18045,
          26849,
          28218,
          34042,
          36194,
          39013,
          41261,
          54209,
          54475,
          65148,
          66432,
          86822,
          89497,
          118010,
          126028,
          137828,
          143922,
          218553,
          266929,
          336449,
          494154,
          512673
         ],
         "xaxis": "x",
         "y": [
          -49780.891097204876,
          -37741.62846655835,
          -29147.930924608056,
          -24862.31280907194,
          -20563.217907008984,
          -11794.322140209726,
          2729.1614735515395,
          22122.25728567879,
          61672.133479787735,
          67822.04039820383,
          93984.97530898193,
          103652.32351090407,
          116316.01058396098,
          126414.6159547421,
          184580.426604597,
          185775.36834331043,
          233721.28254364265,
          239489.34717713148,
          331086.5729379086,
          343103.374257677,
          471191.2456709697,
          507210.20379504573,
          560218.8974672954,
          587594.7431654894,
          922856.7615937657,
          1140174.4366012868,
          1452476.5030499978,
          2160928.7094552624,
          2244120.912685465
         ],
         "yaxis": "y"
        }
       ],
       "frames": [
        {
         "data": [
          {
           "customdata": [
            [
             "Belgium"
            ],
            [
             "Bulgaria"
            ],
            [
             "Czechia"
            ],
            [
             "Denmark"
            ],
            [
             "Germany"
            ],
            [
             "Estonia"
            ],
            [
             "Ireland"
            ],
            [
             "Greece"
            ],
            [
             "Spain"
            ],
            [
             "France"
            ],
            [
             "Croatia"
            ],
            [
             "Italy"
            ],
            [
             "Cyprus"
            ],
            [
             "Latvia"
            ],
            [
             "Lithuania"
            ],
            [
             "Luxembourg"
            ],
            [
             "Hungary"
            ],
            [
             "Malta"
            ],
            [
             "Netherlands"
            ],
            [
             "Austria"
            ],
            [
             "Poland"
            ],
            [
             "Portugal"
            ],
            [
             "Romania"
            ],
            [
             "Slovenia"
            ],
            [
             "Slovakia"
            ],
            [
             "Finland"
            ],
            [
             "Sweden"
            ],
            [
             "Norway"
            ],
            [
             "Türkiye"
            ]
           ],
           "hovertemplate": "Jahr=2008<br>Energieverbrauch (GWh)=%{x}<br>BIP (Mio €)=%{y}<br>Land=%{customdata[0]}<extra></extra>",
           "legendgroup": "",
           "marker": {
            "color": "#636efa",
            "symbol": "circle"
           },
           "mode": "markers",
           "name": "",
           "orientation": "v",
           "showlegend": false,
           "type": "scatter",
           "x": [
            89497,
            34042,
            65148,
            36194,
            512673,
            8543,
            28218,
            54475,
            266929,
            494154,
            18045,
            336449,
            4719,
            7586,
            10495,
            6632,
            41261,
            2039,
            118010,
            66432,
            137828,
            39013,
            54209,
            13728,
            26849,
            86822,
            143922,
            126028,
            218553
           ],
           "xaxis": "x",
           "y": [
            351742,
            37245,
            161966,
            242721,
            2589680,
            16618,
            187281,
            241989,
            1112432,
            1989998,
            48575,
            1643718,
            19009,
            23353,
            32682,
            40008,
            108358,
            6235,
            651299,
            291844,
            365873,
            179101,
            146462,
            37740,
            66174,
            194253,
            353050,
            319371,
            526575
           ],
           "yaxis": "y"
          },
          {
           "hovertemplate": "<b>OLS trendline</b><br>BIP (Mio €) = 4.49226 * Energieverbrauch (GWh) + -58940.6<br>R<sup>2</sup>=0.946991<br><br>Jahr=2008<br>Energieverbrauch (GWh)=%{x}<br>BIP (Mio €)=%{y} <b>(trend)</b><extra></extra>",
           "legendgroup": "",
           "line": {
            "color": "#b50000"
           },
           "marker": {
            "color": "#636efa",
            "symbol": "circle"
           },
           "mode": "lines",
           "name": "",
           "showlegend": false,
           "type": "scatter",
           "x": [
            2039,
            4719,
            6632,
            7586,
            8543,
            10495,
            13728,
            18045,
            26849,
            28218,
            34042,
            36194,
            39013,
            41261,
            54209,
            54475,
            65148,
            66432,
            86822,
            89497,
            118010,
            126028,
            137828,
            143922,
            218553,
            266929,
            336449,
            494154,
            512673
           ],
           "xaxis": "x",
           "y": [
            -49780.891097204876,
            -37741.62846655835,
            -29147.930924608056,
            -24862.31280907194,
            -20563.217907008984,
            -11794.322140209726,
            2729.1614735515395,
            22122.25728567879,
            61672.133479787735,
            67822.04039820383,
            93984.97530898193,
            103652.32351090407,
            116316.01058396098,
            126414.6159547421,
            184580.426604597,
            185775.36834331043,
            233721.28254364265,
            239489.34717713148,
            331086.5729379086,
            343103.374257677,
            471191.2456709697,
            507210.20379504573,
            560218.8974672954,
            587594.7431654894,
            922856.7615937657,
            1140174.4366012868,
            1452476.5030499978,
            2160928.7094552624,
            2244120.912685465
           ],
           "yaxis": "y"
          }
         ],
         "name": "2008"
        },
        {
         "data": [
          {
           "customdata": [
            [
             "Belgium"
            ],
            [
             "Bulgaria"
            ],
            [
             "Czechia"
            ],
            [
             "Denmark"
            ],
            [
             "Germany"
            ],
            [
             "Estonia"
            ],
            [
             "Ireland"
            ],
            [
             "Greece"
            ],
            [
             "Spain"
            ],
            [
             "France"
            ],
            [
             "Croatia"
            ],
            [
             "Italy"
            ],
            [
             "Cyprus"
            ],
            [
             "Latvia"
            ],
            [
             "Lithuania"
            ],
            [
             "Luxembourg"
            ],
            [
             "Hungary"
            ],
            [
             "Malta"
            ],
            [
             "Netherlands"
            ],
            [
             "Austria"
            ],
            [
             "Poland"
            ],
            [
             "Portugal"
            ],
            [
             "Romania"
            ],
            [
             "Slovenia"
            ],
            [
             "Slovakia"
            ],
            [
             "Finland"
            ],
            [
             "Sweden"
            ],
            [
             "Norway"
            ],
            [
             "Türkiye"
            ]
           ],
           "hovertemplate": "Jahr=2009<br>Energieverbrauch (GWh)=%{x}<br>BIP (Mio €)=%{y}<br>Land=%{customdata[0]}<extra></extra>",
           "legendgroup": "",
           "marker": {
            "color": "#636efa",
            "symbol": "circle"
           },
           "mode": "markers",
           "name": "",
           "orientation": "v",
           "showlegend": false,
           "type": "scatter",
           "x": [
            83329,
            32740,
            61582,
            34788,
            478729,
            7964,
            26739,
            57721,
            255843,
            485166,
            18037,
            317605,
            4854,
            7062,
            9341,
            6190,
            39096,
            2047,
            112900,
            63922,
            133793,
            40678,
            49702,
            12266,
            24867,
            80876,
            137859,
            119447,
            219085
           ],
           "xaxis": "x",
           "y": [
            347732,
            37416,
            149414,
            232268,
            2494870,
            14130,
            169517,
            237533,
            1072990,
            1935838,
            45877,
            1584105,
            18674,
            18404,
            26972,
            39048,
            94651,
            6286,
            630173,
            286272,
            317733,
            175415,
            125220,
            35829,
            64053,
            181735,
            313201,
            279793,
            465177
           ],
           "yaxis": "y"
          },
          {
           "hovertemplate": "<b>OLS trendline</b><br>BIP (Mio €) = 4.50281 * Energieverbrauch (GWh) + -60928<br>R<sup>2</sup>=0.931414<br><br>Jahr=2009<br>Energieverbrauch (GWh)=%{x}<br>BIP (Mio €)=%{y} <b>(trend)</b><extra></extra>",
           "legendgroup": "",
           "line": {
            "color": "#b50000"
           },
           "marker": {
            "color": "#636efa",
            "symbol": "circle"
           },
           "mode": "lines",
           "name": "",
           "showlegend": false,
           "type": "scatter",
           "x": [
            2047,
            4854,
            6190,
            7062,
            7964,
            9341,
            12266,
            18037,
            24867,
            26739,
            32740,
            34788,
            39096,
            40678,
            49702,
            57721,
            61582,
            63922,
            80876,
            83329,
            112900,
            119447,
            133793,
            137859,
            219085,
            255843,
            317605,
            478729,
            485166
           ],
           "xaxis": "x",
           "y": [
            -51710.7585490106,
            -39071.37555533895,
            -33055.623621051345,
            -29129.17475376183,
            -25067.641636450884,
            -18867.274560467326,
            -5696.56018337806,
            20289.1467124107,
            51043.32763395588,
            59472.584835293004,
            86493.93764791271,
            95715.68911604222,
            115113.78741911933,
            122237.23020358267,
            162870.5726100283,
            198978.59264075608,
            216363.9356185139,
            226900.5071201853,
            303241.1196156285,
            314286.5084590473,
            447439.0537051692,
            476918.93986817886,
            541516.2282284258,
            559824.6469146635,
            925569.7566560148,
            1091083.9853989368,
            1369186.4337263855,
            2094696.923741473,
            2123681.500987737
           ],
           "yaxis": "y"
          }
         ],
         "name": "2009"
        },
        {
         "data": [
          {
           "customdata": [
            [
             "Belgium"
            ],
            [
             "Bulgaria"
            ],
            [
             "Czechia"
            ],
            [
             "Denmark"
            ],
            [
             "Germany"
            ],
            [
             "Estonia"
            ],
            [
             "Ireland"
            ],
            [
             "Greece"
            ],
            [
             "Spain"
            ],
            [
             "France"
            ],
            [
             "Croatia"
            ],
            [
             "Italy"
            ],
            [
             "Cyprus"
            ],
            [
             "Latvia"
            ],
            [
             "Lithuania"
            ],
            [
             "Luxembourg"
            ],
            [
             "Hungary"
            ],
            [
             "Malta"
            ],
            [
             "Netherlands"
            ],
            [
             "Austria"
            ],
            [
             "Poland"
            ],
            [
             "Portugal"
            ],
            [
             "Romania"
            ],
            [
             "Slovenia"
            ],
            [
             "Slovakia"
            ],
            [
             "Finland"
            ],
            [
             "Sweden"
            ],
            [
             "Norway"
            ],
            [
             "Türkiye"
            ]
           ],
           "hovertemplate": "Jahr=2010<br>Energieverbrauch (GWh)=%{x}<br>BIP (Mio €)=%{y}<br>Land=%{customdata[0]}<extra></extra>",
           "legendgroup": "",
           "marker": {
            "color": "#636efa",
            "symbol": "circle"
           },
           "mode": "markers",
           "name": "",
           "orientation": "v",
           "showlegend": false,
           "type": "scatter",
           "x": [
            88171,
            32258,
            63744,
            35622,
            445054,
            8401,
            26950,
            57432,
            259914,
            510774,
            18029,
            326165,
            4974,
            7300,
            9541,
            6600,
            40000,
            1992,
            113930,
            66610,
            139798,
            43299,
            51923,
            13094,
            25635,
            87184,
            146237,
            129367,
            219661
           ],
           "xaxis": "x",
           "y": [
            363241,
            38288,
            159603,
            243429,
            2616060,
            14740,
            167444,
            224123,
            1077145,
            1996073,
            46000,
            1617944,
            19459,
            17569,
            27662,
            42402,
            99530,
            6860,
            643022,
            294049,
            359150,
            179858,
            128047,
            36049,
            68724,
            188147,
            372981,
            325466,
            586414
           ],
           "yaxis": "y"
          },
          {
           "hovertemplate": "<b>OLS trendline</b><br>BIP (Mio €) = 4.63218 * Energieverbrauch (GWh) + -63545.8<br>R<sup>2</sup>=0.918525<br><br>Jahr=2010<br>Energieverbrauch (GWh)=%{x}<br>BIP (Mio €)=%{y} <b>(trend)</b><extra></extra>",
           "legendgroup": "",
           "line": {
            "color": "#b50000"
           },
           "marker": {
            "color": "#636efa",
            "symbol": "circle"
           },
           "mode": "lines",
           "name": "",
           "showlegend": false,
           "type": "scatter",
           "x": [
            1992,
            4974,
            6600,
            7300,
            8401,
            9541,
            13094,
            18029,
            25635,
            26950,
            32258,
            35622,
            40000,
            43299,
            51923,
            57432,
            63744,
            66610,
            87184,
            88171,
            113930,
            129367,
            139798,
            146237,
            219661,
            259914,
            326165,
            445054,
            510774
           ],
           "xaxis": "x",
           "y": [
            -54318.52366175277,
            -40505.37195033675,
            -32973.452204272886,
            -29730.928328353635,
            -24630.901489229203,
            -19350.21974844642,
            -2892.094989673409,
            19967.698335557332,
            55200.03633590281,
            61291.34904566541,
            85878.94437906456,
            101461.58769133936,
            121741.2584467315,
            137022.8102562424,
            176970.70440756757,
            202489.3673110521,
            231727.66831791255,
            245003.4875013191,
            340305.89639155153,
            344877.85505659773,
            464198.1015134606,
            535705.0173314114,
            584023.2552595738,
            613849.8427410654,
            953962.8042632014,
            1140421.8236594554,
            1447308.1798073503,
            1998023.067070442,
            2302449.737249604
           ],
           "yaxis": "y"
          }
         ],
         "name": "2010"
        },
        {
         "data": [
          {
           "customdata": [
            [
             "Belgium"
            ],
            [
             "Bulgaria"
            ],
            [
             "Czechia"
            ],
            [
             "Denmark"
            ],
            [
             "Germany"
            ],
            [
             "Estonia"
            ],
            [
             "Ireland"
            ],
            [
             "Greece"
            ],
            [
             "Spain"
            ],
            [
             "France"
            ],
            [
             "Croatia"
            ],
            [
             "Italy"
            ],
            [
             "Cyprus"
            ],
            [
             "Latvia"
            ],
            [
             "Lithuania"
            ],
            [
             "Luxembourg"
            ],
            [
             "Hungary"
            ],
            [
             "Malta"
            ],
            [
             "Netherlands"
            ],
            [
             "Austria"
            ],
            [
             "Poland"
            ],
            [
             "Portugal"
            ],
            [
             "Romania"
            ],
            [
             "Slovenia"
            ],
            [
             "Slovakia"
            ],
            [
             "Finland"
            ],
            [
             "Sweden"
            ],
            [
             "Norway"
            ],
            [
             "Türkiye"
            ]
           ],
           "hovertemplate": "Jahr=2011<br>Energieverbrauch (GWh)=%{x}<br>BIP (Mio €)=%{y}<br>Land=%{customdata[0]}<extra></extra>",
           "legendgroup": "",
           "marker": {
            "color": "#636efa",
            "symbol": "circle"
           },
           "mode": "markers",
           "name": "",
           "orientation": "v",
           "showlegend": false,
           "type": "scatter",
           "x": [
            85586,
            33610,
            62992,
            34680,
            484337,
            8025,
            26131,
            57372,
            254661,
            476360,
            18021,
            332274,
            4641,
            7140,
            9592,
            6536,
            40355,
            2043,
            117724,
            66810,
            141778,
            41343,
            52806,
            13443,
            25868,
            84226,
            139195,
            121627,
            220277
           ],
           "xaxis": "x",
           "y": [
            378743,
            41478,
            166513,
            248104,
            2747810,
            16741,
            173378,
            203307,
            1068690,
            2062139,
            45759,
            1657361,
            19857,
            19022,
            31065,
            44321,
            101917,
            7031,
            656013,
            308165,
            376573,
            176316,
            138342,
            36781,
            71627,
            197655,
            410299,
            360576,
            599424
           ],
           "yaxis": "y"
          },
          {
           "hovertemplate": "<b>OLS trendline</b><br>BIP (Mio €) = 4.86071 * Energieverbrauch (GWh) + -71332.5<br>R<sup>2</sup>=0.944253<br><br>Jahr=2011<br>Energieverbrauch (GWh)=%{x}<br>BIP (Mio €)=%{y} <b>(trend)</b><extra></extra>",
           "legendgroup": "",
           "line": {
            "color": "#b50000"
           },
           "marker": {
            "color": "#636efa",
            "symbol": "circle"
           },
           "mode": "lines",
           "name": "",
           "showlegend": false,
           "type": "scatter",
           "x": [
            2043,
            4641,
            6536,
            7140,
            8025,
            9592,
            13443,
            18021,
            25868,
            26131,
            33610,
            34680,
            40355,
            41343,
            52806,
            57372,
            62992,
            66810,
            84226,
            85586,
            117724,
            121627,
            139195,
            141778,
            220277,
            254661,
            332274,
            476360,
            484337
           ],
           "xaxis": "x",
           "y": [
            -61402.02397320054,
            -48773.90092067819,
            -39562.85658483144,
            -36626.98809994941,
            -32325.260270279556,
            -24708.528621587284,
            -5989.936675758348,
            16262.391012635548,
            54404.37776904159,
            55682.74434441241,
            92035.99003718172,
            97236.949108082,
            124821.4750215017,
            129623.85592061335,
            185342.1679110151,
            207536.1670864643,
            234853.35398222093,
            253411.54251745198,
            338065.65763782506,
            344676.2224382217,
            500889.70152288815,
            519861.050358144,
            605253.9933091496,
            617809.2057204911,
            999370.0338575013,
            1166500.6662816461,
            1543754.9058795744,
            2244115.082225123,
            2282888.9612050964
           ],
           "yaxis": "y"
          }
         ],
         "name": "2011"
        },
        {
         "data": [
          {
           "customdata": [
            [
             "Belgium"
            ],
            [
             "Bulgaria"
            ],
            [
             "Czechia"
            ],
            [
             "Denmark"
            ],
            [
             "Germany"
            ],
            [
             "Estonia"
            ],
            [
             "Ireland"
            ],
            [
             "Greece"
            ],
            [
             "Spain"
            ],
            [
             "France"
            ],
            [
             "Croatia"
            ],
            [
             "Italy"
            ],
            [
             "Cyprus"
            ],
            [
             "Latvia"
            ],
            [
             "Lithuania"
            ],
            [
             "Luxembourg"
            ],
            [
             "Hungary"
            ],
            [
             "Malta"
            ],
            [
             "Netherlands"
            ],
            [
             "Austria"
            ],
            [
             "Poland"
            ],
            [
             "Portugal"
            ],
            [
             "Romania"
            ],
            [
             "Slovenia"
            ],
            [
             "Slovakia"
            ],
            [
             "Finland"
            ],
            [
             "Sweden"
            ],
            [
             "Norway"
            ],
            [
             "Türkiye"
            ]
           ],
           "hovertemplate": "Jahr=2012<br>Energieverbrauch (GWh)=%{x}<br>BIP (Mio €)=%{y}<br>Land=%{customdata[0]}<extra></extra>",
           "legendgroup": "",
           "marker": {
            "color": "#636efa",
            "symbol": "circle"
           },
           "mode": "markers",
           "name": "",
           "orientation": "v",
           "showlegend": false,
           "type": "scatter",
           "x": [
            83214,
            33573,
            62958,
            34231,
            479931,
            8727,
            25732,
            57251,
            257662,
            484021,
            17612,
            325193,
            4429,
            7505,
            10155,
            6318,
            39771,
            2146,
            115924,
            67224,
            142521,
            39920,
            51384,
            13427,
            26134,
            85110,
            141984,
            127303,
            227378
           ],
           "xaxis": "x",
           "y": [
            387932,
            42254,
            163742,
            254296,
            2800380,
            18084,
            176892,
            188379,
            1035964,
            2088284,
            44887,
            1632897,
            19494,
            21270,
            33239,
            46524,
            100153,
            7478,
            658232,
            316588,
            385689,
            168537,
            138990,
            35932,
            73725,
            200378,
            427964,
            399097,
            684445
           ],
           "yaxis": "y"
          },
          {
           "hovertemplate": "<b>OLS trendline</b><br>BIP (Mio €) = 4.89052 * Energieverbrauch (GWh) + -69511.8<br>R<sup>2</sup>=0.940885<br><br>Jahr=2012<br>Energieverbrauch (GWh)=%{x}<br>BIP (Mio €)=%{y} <b>(trend)</b><extra></extra>",
           "legendgroup": "",
           "line": {
            "color": "#b50000"
           },
           "marker": {
            "color": "#636efa",
            "symbol": "circle"
           },
           "mode": "lines",
           "name": "",
           "showlegend": false,
           "type": "scatter",
           "x": [
            2146,
            4429,
            6318,
            7505,
            8727,
            10155,
            13427,
            17612,
            25732,
            26134,
            33573,
            34231,
            39771,
            39920,
            51384,
            57251,
            62958,
            67224,
            83214,
            85110,
            115924,
            127303,
            141984,
            142521,
            227378,
            257662,
            325193,
            479931,
            484021
           ],
           "xaxis": "x",
           "y": [
            -59016.769365221866,
            -47851.71911760923,
            -38613.5325570572,
            -32808.48891101419,
            -26832.277170942943,
            -19848.61893459128,
            -3846.8474014381645,
            16619.96612736555,
            56330.96394191422,
            58296.951764752725,
            94677.5075212093,
            97895.46768894,
            124988.93171512222,
            125717.61874398522,
            181782.50531368796,
            210475.168389791,
            238385.34875033653,
            259248.2941538913,
            337447.6605399299,
            346720.0807192875,
            497416.4707017386,
            553065.6633288013,
            624863.3429981843,
            627489.5506122744,
            1042484.1493252248,
            1190588.5653123914,
            1520850.066964397,
            2277598.8822141057,
            2297601.096630547
           ],
           "yaxis": "y"
          }
         ],
         "name": "2012"
        },
        {
         "data": [
          {
           "customdata": [
            [
             "Belgium"
            ],
            [
             "Bulgaria"
            ],
            [
             "Czechia"
            ],
            [
             "Denmark"
            ],
            [
             "Germany"
            ],
            [
             "Estonia"
            ],
            [
             "Ireland"
            ],
            [
             "Greece"
            ],
            [
             "Spain"
            ],
            [
             "France"
            ],
            [
             "Croatia"
            ],
            [
             "Italy"
            ],
            [
             "Cyprus"
            ],
            [
             "Latvia"
            ],
            [
             "Lithuania"
            ],
            [
             "Luxembourg"
            ],
            [
             "Hungary"
            ],
            [
             "Malta"
            ],
            [
             "Netherlands"
            ],
            [
             "Austria"
            ],
            [
             "Poland"
            ],
            [
             "Portugal"
            ],
            [
             "Romania"
            ],
            [
             "Slovenia"
            ],
            [
             "Slovakia"
            ],
            [
             "Finland"
            ],
            [
             "Sweden"
            ],
            [
             "Norway"
            ],
            [
             "Türkiye"
            ]
           ],
           "hovertemplate": "Jahr=2013<br>Energieverbrauch (GWh)=%{x}<br>BIP (Mio €)=%{y}<br>Land=%{customdata[0]}<extra></extra>",
           "legendgroup": "",
           "marker": {
            "color": "#636efa",
            "symbol": "circle"
           },
           "mode": "markers",
           "name": "",
           "orientation": "v",
           "showlegend": false,
           "type": "scatter",
           "x": [
            84788,
            32896,
            62688,
            34039,
            474656,
            8482,
            25945,
            55441,
            254485,
            488509,
            17272,
            317146,
            4021,
            6859,
            10459,
            6247,
            39913,
            2106,
            113346,
            67709,
            143794,
            49581,
            48243,
            13456,
            25735,
            84020,
            138975,
            127411,
            233590
           ],
           "xaxis": "x",
           "y": [
            394614,
            42054,
            160417,
            259529,
            2867280,
            19161,
            183191,
            179883,
            1025652,
            2120351,
            44811,
            1621258,
            18039,
            21994,
            34872,
            49093,
            102203,
            8127,
            665567,
            321190,
            388426,
            170674,
            142812,
            36039,
            74641,
            203497,
            439741,
            396283,
            719351
           ],
           "yaxis": "y"
          },
          {
           "hovertemplate": "<b>OLS trendline</b><br>BIP (Mio €) = 4.97247 * Energieverbrauch (GWh) + -71258.3<br>R<sup>2</sup>=0.935063<br><br>Jahr=2013<br>Energieverbrauch (GWh)=%{x}<br>BIP (Mio €)=%{y} <b>(trend)</b><extra></extra>",
           "legendgroup": "",
           "line": {
            "color": "#b50000"
           },
           "marker": {
            "color": "#636efa",
            "symbol": "circle"
           },
           "mode": "lines",
           "name": "",
           "showlegend": false,
           "type": "scatter",
           "x": [
            2106,
            4021,
            6247,
            6859,
            8482,
            10459,
            13456,
            17272,
            25735,
            25945,
            32896,
            34039,
            39913,
            48243,
            49581,
            55441,
            62688,
            67709,
            84020,
            84788,
            113346,
            127411,
            138975,
            143794,
            233590,
            254485,
            317146,
            474656,
            488509
           ],
           "xaxis": "x",
           "y": [
            -60786.3113661098,
            -51264.03418014635,
            -40195.319289308405,
            -37152.16856460364,
            -29081.8521819307,
            -19251.281948693228,
            -4348.793840947808,
            14626.145971917227,
            56708.14692481996,
            57752.365310748064,
            92315.99388496841,
            97999.52538551997,
            127207.80538048047,
            168628.4680222954,
            175281.63088120875,
            204420.29631710734,
            240455.7755686359,
            265422.5399293265,
            346528.4737049139,
            350347.32951630815,
            492351.08506552194,
            562288.854580183,
            619790.4803652908,
            643752.8060880887,
            1090260.5879109474,
            1194160.317310794,
            1505740.166266228,
            2288953.6803973527,
            2357837.2865890767
           ],
           "yaxis": "y"
          }
         ],
         "name": "2013"
        },
        {
         "data": [
          {
           "customdata": [
            [
             "Belgium"
            ],
            [
             "Bulgaria"
            ],
            [
             "Czechia"
            ],
            [
             "Denmark"
            ],
            [
             "Germany"
            ],
            [
             "Estonia"
            ],
            [
             "Ireland"
            ],
            [
             "Greece"
            ],
            [
             "Spain"
            ],
            [
             "France"
            ],
            [
             "Croatia"
            ],
            [
             "Italy"
            ],
            [
             "Cyprus"
            ],
            [
             "Latvia"
            ],
            [
             "Lithuania"
            ],
            [
             "Luxembourg"
            ],
            [
             "Hungary"
            ],
            [
             "Malta"
            ],
            [
             "Netherlands"
            ],
            [
             "Austria"
            ],
            [
             "Poland"
            ],
            [
             "Portugal"
            ],
            [
             "Romania"
            ],
            [
             "Slovenia"
            ],
            [
             "Slovakia"
            ],
            [
             "Finland"
            ],
            [
             "Sweden"
            ],
            [
             "Norway"
            ],
            [
             "Türkiye"
            ]
           ],
           "hovertemplate": "Jahr=2014<br>Energieverbrauch (GWh)=%{x}<br>BIP (Mio €)=%{y}<br>Land=%{customdata[0]}<extra></extra>",
           "legendgroup": "",
           "marker": {
            "color": "#636efa",
            "symbol": "circle"
           },
           "mode": "markers",
           "name": "",
           "orientation": "v",
           "showlegend": false,
           "type": "scatter",
           "x": [
            83557,
            32672,
            62209,
            33471,
            453750,
            8429,
            25879,
            55737,
            248505,
            458739,
            16969,
            309006,
            4081,
            7173,
            10526,
            6223,
            40355,
            2060,
            111884,
            67010,
            145424,
            48788,
            49232,
            13211,
            25158,
            83265,
            135103,
            124592,
            242128
           ],
           "xaxis": "x",
           "y": [
            404956,
            43023,
            158981,
            265634,
            2985170,
            20364,
            200816,
            177234,
            1038949,
            2153731,
            44291,
            1635869,
            17481,
            22789,
            36409,
            51790,
            106339,
            8947,
            678627,
            330111,
            406345,
            173186,
            150669,
            37269,
            76560,
            205855,
            435590,
            378447,
            708809
           ],
           "yaxis": "y"
          },
          {
           "hovertemplate": "<b>OLS trendline</b><br>BIP (Mio €) = 5.29368 * Energieverbrauch (GWh) + -83607.9<br>R<sup>2</sup>=0.920110<br><br>Jahr=2014<br>Energieverbrauch (GWh)=%{x}<br>BIP (Mio €)=%{y} <b>(trend)</b><extra></extra>",
           "legendgroup": "",
           "line": {
            "color": "#b50000"
           },
           "marker": {
            "color": "#636efa",
            "symbol": "circle"
           },
           "mode": "lines",
           "name": "",
           "showlegend": false,
           "type": "scatter",
           "x": [
            2060,
            4081,
            6223,
            7173,
            8429,
            10526,
            13211,
            16969,
            25158,
            25879,
            32672,
            33471,
            40355,
            48788,
            49232,
            55737,
            62209,
            67010,
            83265,
            83557,
            111884,
            124592,
            135103,
            145424,
            242128,
            248505,
            309006,
            453750,
            458739
           ],
           "xaxis": "x",
           "y": [
            -72702.89551765771,
            -62004.361793566444,
            -50665.29240365872,
            -45636.29337452131,
            -38987.4272896828,
            -27886.573643260534,
            -13673.034281961634,
            6220.62714066825,
            49570.59877183272,
            53387.34435078861,
            89347.33425071537,
            93576.98711837937,
            130018.70218846561,
            174660.33251764014,
            177010.72785336332,
            211446.13699498313,
            245706.85459138034,
            271121.8275796842,
            357170.6478098196,
            358716.4033008808,
            508670.5669833812,
            575942.6929436742,
            631584.5969386882,
            686220.7011278748,
            1198141.0401949317,
            1231898.8578884152,
            1552171.9844798283,
            2318400.863925582,
            2344811.049353336
           ],
           "yaxis": "y"
          }
         ],
         "name": "2014"
        },
        {
         "data": [
          {
           "customdata": [
            [
             "Belgium"
            ],
            [
             "Bulgaria"
            ],
            [
             "Czechia"
            ],
            [
             "Denmark"
            ],
            [
             "Germany"
            ],
            [
             "Estonia"
            ],
            [
             "Ireland"
            ],
            [
             "Greece"
            ],
            [
             "Spain"
            ],
            [
             "France"
            ],
            [
             "Croatia"
            ],
            [
             "Italy"
            ],
            [
             "Cyprus"
            ],
            [
             "Latvia"
            ],
            [
             "Lithuania"
            ],
            [
             "Luxembourg"
            ],
            [
             "Hungary"
            ],
            [
             "Malta"
            ],
            [
             "Netherlands"
            ],
            [
             "Austria"
            ],
            [
             "Poland"
            ],
            [
             "Portugal"
            ],
            [
             "Romania"
            ],
            [
             "Slovenia"
            ],
            [
             "Slovakia"
            ],
            [
             "Finland"
            ],
            [
             "Sweden"
            ],
            [
             "Norway"
            ],
            [
             "Türkiye"
            ]
           ],
           "hovertemplate": "Jahr=2015<br>Energieverbrauch (GWh)=%{x}<br>BIP (Mio €)=%{y}<br>Land=%{customdata[0]}<extra></extra>",
           "legendgroup": "",
           "marker": {
            "color": "#636efa",
            "symbol": "circle"
           },
           "mode": "markers",
           "name": "",
           "orientation": "v",
           "showlegend": false,
           "type": "scatter",
           "x": [
            84104,
            32775,
            63418,
            33595,
            473111,
            8372,
            26957,
            56411,
            262042,
            473036,
            17317,
            315234,
            4260,
            7207,
            10787,
            6242,
            41586,
            2179,
            112443,
            67921,
            148229,
            50682,
            50222,
            13701,
            25960,
            82425,
            135886,
            127669,
            250915
           ],
           "xaxis": "x",
           "y": [
            415536,
            45796,
            170573,
            272190,
            3085650,
            21009,
            272542,
            176367,
            1087112,
            2201400,
            45514,
            1663276,
            17942,
            23743,
            37439,
            54140,
            112830,
            10220,
            699175,
            342082,
            429691,
            179391,
            160290,
            38492,
            80375,
            210192,
            452592,
            350433,
            775913
           ],
           "yaxis": "y"
          },
          {
           "hovertemplate": "<b>OLS trendline</b><br>BIP (Mio €) = 5.25848 * Energieverbrauch (GWh) + -78035.2<br>R<sup>2</sup>=0.921852<br><br>Jahr=2015<br>Energieverbrauch (GWh)=%{x}<br>BIP (Mio €)=%{y} <b>(trend)</b><extra></extra>",
           "legendgroup": "",
           "line": {
            "color": "#b50000"
           },
           "marker": {
            "color": "#636efa",
            "symbol": "circle"
           },
           "mode": "lines",
           "name": "",
           "showlegend": false,
           "type": "scatter",
           "x": [
            2179,
            4260,
            6242,
            7207,
            8372,
            10787,
            13701,
            17317,
            25960,
            26957,
            32775,
            33595,
            41586,
            50222,
            50682,
            56411,
            63418,
            67921,
            82425,
            84104,
            112443,
            127669,
            135886,
            148229,
            250915,
            262042,
            315234,
            473036,
            473111
           ],
           "xaxis": "x",
           "y": [
            -66576.95744277145,
            -55634.05077693297,
            -45211.73409663894,
            -40137.296358756124,
            -34011.16168037946,
            -21311.921123916254,
            -5988.696700920889,
            13025.983983207872,
            58475.067266649494,
            63717.77651501134,
            94311.64051397737,
            98623.59797000214,
            140644.14922743384,
            186056.42311795818,
            188475.32608109404,
            218601.1849415403,
            255447.38725174224,
            279126.34386696125,
            355395.4059915751,
            364224.40180702094,
            513244.5997902967,
            593310.2878700932,
            636519.2566702829,
            701424.7333528608,
            1241397.493510617,
            1299908.6527949923,
            1579617.9710887359,
            2409417.374107787,
            2409811.760460472
           ],
           "yaxis": "y"
          }
         ],
         "name": "2015"
        },
        {
         "data": [
          {
           "customdata": [
            [
             "Belgium"
            ],
            [
             "Bulgaria"
            ],
            [
             "Czechia"
            ],
            [
             "Denmark"
            ],
            [
             "Germany"
            ],
            [
             "Estonia"
            ],
            [
             "Ireland"
            ],
            [
             "Greece"
            ],
            [
             "Spain"
            ],
            [
             "France"
            ],
            [
             "Croatia"
            ],
            [
             "Italy"
            ],
            [
             "Cyprus"
            ],
            [
             "Latvia"
            ],
            [
             "Lithuania"
            ],
            [
             "Luxembourg"
            ],
            [
             "Hungary"
            ],
            [
             "Malta"
            ],
            [
             "Netherlands"
            ],
            [
             "Austria"
            ],
            [
             "Poland"
            ],
            [
             "Portugal"
            ],
            [
             "Romania"
            ],
            [
             "Slovenia"
            ],
            [
             "Slovakia"
            ],
            [
             "Finland"
            ],
            [
             "Sweden"
            ],
            [
             "Norway"
            ],
            [
             "Türkiye"
            ]
           ],
           "hovertemplate": "Jahr=2016<br>Energieverbrauch (GWh)=%{x}<br>BIP (Mio €)=%{y}<br>Land=%{customdata[0]}<extra></extra>",
           "legendgroup": "",
           "marker": {
            "color": "#636efa",
            "symbol": "circle"
           },
           "mode": "markers",
           "name": "",
           "orientation": "v",
           "showlegend": false,
           "type": "scatter",
           "x": [
            84198,
            33154,
            64832,
            33981,
            466329,
            8374,
            27588,
            56825,
            265070,
            481625,
            17603,
            310251,
            4589,
            7261,
            11333,
            6370,
            42204,
            2191,
            114812,
            68530,
            151749,
            50973,
            55073,
            13881,
            26189,
            84967,
            139219,
            128594,
            263563
           ],
           "xaxis": "x",
           "y": [
            428465,
            48750,
            179142,
            282267,
            3196110,
            22187,
            276204,
            174492,
            1122967,
            2231817,
            47599,
            1704855,
            19012,
            24496,
            38819,
            56206,
            116623,
            10863,
            720175,
            355663,
            424671,
            186379,
            167491,
            40010,
            81619,
            215717,
            464887,
            335672,
            784121
           ],
           "yaxis": "y"
          },
          {
           "hovertemplate": "<b>OLS trendline</b><br>BIP (Mio €) = 5.33721 * Energieverbrauch (GWh) + -81662<br>R<sup>2</sup>=0.904613<br><br>Jahr=2016<br>Energieverbrauch (GWh)=%{x}<br>BIP (Mio €)=%{y} <b>(trend)</b><extra></extra>",
           "legendgroup": "",
           "line": {
            "color": "#b50000"
           },
           "marker": {
            "color": "#636efa",
            "symbol": "circle"
           },
           "mode": "lines",
           "name": "",
           "showlegend": false,
           "type": "scatter",
           "x": [
            2191,
            4589,
            6370,
            7261,
            8374,
            11333,
            13881,
            17603,
            26189,
            27588,
            33154,
            33981,
            42204,
            50973,
            55073,
            56825,
            64832,
            68530,
            84198,
            84967,
            114812,
            128594,
            139219,
            151749,
            263563,
            265070,
            310251,
            466329,
            481625
           ],
           "xaxis": "x",
           "y": [
            -69968.12587414854,
            -57169.485250513775,
            -47663.90603838136,
            -42908.44782501248,
            -36968.127969255394,
            -21175.309952018004,
            -7576.087137580398,
            12289.025623540787,
            58114.35022509546,
            65581.1134579833,
            95288.04995137407,
            99701.9264300004,
            143589.8421298122,
            190391.8770041463,
            212274.45688609066,
            221625.25687466786,
            264360.3342197236,
            284097.35383031634,
            367720.8322669758,
            371825.1502984917,
            531114.3201952304,
            604671.8118861956,
            661379.7170680634,
            728255.0160731275,
            1325030.3299559874,
            1333073.5123662532,
            1574214.2054506745,
            2407235.986624847,
            2488874.021228316
           ],
           "yaxis": "y"
          }
         ],
         "name": "2016"
        },
        {
         "data": [
          {
           "customdata": [
            [
             "Belgium"
            ],
            [
             "Bulgaria"
            ],
            [
             "Czechia"
            ],
            [
             "Denmark"
            ],
            [
             "Germany"
            ],
            [
             "Estonia"
            ],
            [
             "Ireland"
            ],
            [
             "Greece"
            ],
            [
             "Spain"
            ],
            [
             "France"
            ],
            [
             "Croatia"
            ],
            [
             "Italy"
            ],
            [
             "Cyprus"
            ],
            [
             "Latvia"
            ],
            [
             "Lithuania"
            ],
            [
             "Luxembourg"
            ],
            [
             "Hungary"
            ],
            [
             "Malta"
            ],
            [
             "Netherlands"
            ],
            [
             "Austria"
            ],
            [
             "Poland"
            ],
            [
             "Portugal"
            ],
            [
             "Romania"
            ],
            [
             "Slovenia"
            ],
            [
             "Slovakia"
            ],
            [
             "Finland"
            ],
            [
             "Sweden"
            ],
            [
             "Norway"
            ],
            [
             "Türkiye"
            ]
           ],
           "hovertemplate": "Jahr=2017<br>Energieverbrauch (GWh)=%{x}<br>BIP (Mio €)=%{y}<br>Land=%{customdata[0]}<extra></extra>",
           "legendgroup": "",
           "marker": {
            "color": "#636efa",
            "symbol": "circle"
           },
           "mode": "markers",
           "name": "",
           "orientation": "v",
           "showlegend": false,
           "type": "scatter",
           "x": [
            81002,
            30890,
            62123,
            33082,
            487407,
            8404,
            28156,
            56483,
            242635,
            443018,
            16331,
            320438,
            4740,
            7277,
            10879,
            6366,
            39669,
            2467,
            108336,
            65715,
            146691,
            47696,
            54910,
            13495,
            27547,
            82482,
            129237,
            123877,
            283520
           ],
           "xaxis": "x",
           "y": [
            443405,
            52500,
            197028,
            294349,
            3331110,
            24314,
            308521,
            176901,
            1170024,
            2291679,
            50218,
            1744491,
            20310,
            26015,
            42272,
            58167,
            127192,
            12534,
            750861,
            367293,
            466054,
            195508,
            186157,
            42624,
            84959,
            224706,
            475348,
            356293,
            758253
           ],
           "yaxis": "y"
          },
          {
           "hovertemplate": "<b>OLS trendline</b><br>BIP (Mio €) = 5.57644 * Energieverbrauch (GWh) + -77736<br>R<sup>2</sup>=0.910657<br><br>Jahr=2017<br>Energieverbrauch (GWh)=%{x}<br>BIP (Mio €)=%{y} <b>(trend)</b><extra></extra>",
           "legendgroup": "",
           "line": {
            "color": "#b50000"
           },
           "marker": {
            "color": "#636efa",
            "symbol": "circle"
           },
           "mode": "lines",
           "name": "",
           "showlegend": false,
           "type": "scatter",
           "x": [
            2467,
            4740,
            6366,
            7277,
            8404,
            10879,
            13495,
            16331,
            27547,
            28156,
            30890,
            33082,
            39669,
            47696,
            54910,
            56483,
            62123,
            65715,
            81002,
            82482,
            108336,
            123877,
            129237,
            146691,
            242635,
            283520,
            320438,
            443018,
            487407
           ],
           "xaxis": "x",
           "y": [
            -63978.88227405353,
            -51303.640092602145,
            -42236.352900767575,
            -37156.21844088979,
            -30871.573505343935,
            -17069.890971647415,
            -2481.930766334248,
            13332.8456641964,
            75878.16740073789,
            79274.21776963533,
            94520.19758665607,
            106743.74833973193,
            143475.7414102204,
            188237.80431849597,
            228466.22363085422,
            237237.95964115916,
            268689.06650582515,
            288719.629601194,
            373966.62794164603,
            382219.7552749272,
            526392.9674875292,
            613056.3809243686,
            642946.085320576,
            740277.2234794201,
            1275302.932171533,
            1503295.5747534249,
            1709166.4902196906,
            2392726.185161315,
            2640258.6643484887
           ],
           "yaxis": "y"
          }
         ],
         "name": "2017"
        },
        {
         "data": [
          {
           "customdata": [
            [
             "Belgium"
            ],
            [
             "Bulgaria"
            ],
            [
             "Czechia"
            ],
            [
             "Denmark"
            ],
            [
             "Germany"
            ],
            [
             "Estonia"
            ],
            [
             "Ireland"
            ],
            [
             "Greece"
            ],
            [
             "Spain"
            ],
            [
             "France"
            ],
            [
             "Croatia"
            ],
            [
             "Italy"
            ],
            [
             "Cyprus"
            ],
            [
             "Latvia"
            ],
            [
             "Lithuania"
            ],
            [
             "Luxembourg"
            ],
            [
             "Hungary"
            ],
            [
             "Malta"
            ],
            [
             "Netherlands"
            ],
            [
             "Austria"
            ],
            [
             "Poland"
            ],
            [
             "Portugal"
            ],
            [
             "Romania"
            ],
            [
             "Slovenia"
            ],
            [
             "Slovakia"
            ],
            [
             "Finland"
            ],
            [
             "Sweden"
            ],
            [
             "Norway"
            ],
            [
             "Türkiye"
            ]
           ],
           "hovertemplate": "Jahr=2018<br>Energieverbrauch (GWh)=%{x}<br>BIP (Mio €)=%{y}<br>Land=%{customdata[0]}<extra></extra>",
           "legendgroup": "",
           "marker": {
            "color": "#636efa",
            "symbol": "circle"
           },
           "mode": "markers",
           "name": "",
           "orientation": "v",
           "showlegend": false,
           "type": "scatter",
           "x": [
            81355,
            30376,
            62416,
            33248,
            488201,
            8937,
            28706,
            55991,
            243421,
            444546,
            16626,
            321910,
            4790,
            7408,
            11153,
            6444,
            40739,
            2508,
            114636,
            66078,
            149393,
            48742,
            56178,
            13647,
            26997,
            84453,
            130173,
            126667,
            288673
           ],
           "xaxis": "x",
           "y": [
            459490,
            56129,
            213456,
            301014,
            3431130,
            26436,
            334864,
            179556,
            1212276,
            2355361,
            53041,
            1777742,
            21806,
            28152,
            45945,
            60120,
            136448,
            13677,
            787273,
            383232,
            498810,
            204996,
            206195,
            45461,
            90274,
            231905,
            467158,
            372641,
            662832
           ],
           "yaxis": "y"
          },
          {
           "hovertemplate": "<b>OLS trendline</b><br>BIP (Mio €) = 5.64624 * Energieverbrauch (GWh) + -77577.6<br>R<sup>2</sup>=0.895260<br><br>Jahr=2018<br>Energieverbrauch (GWh)=%{x}<br>BIP (Mio €)=%{y} <b>(trend)</b><extra></extra>",
           "legendgroup": "",
           "line": {
            "color": "#b50000"
           },
           "marker": {
            "color": "#636efa",
            "symbol": "circle"
           },
           "mode": "lines",
           "name": "",
           "showlegend": false,
           "type": "scatter",
           "x": [
            2508,
            4790,
            6444,
            7408,
            8937,
            11153,
            13647,
            16626,
            26997,
            28706,
            30376,
            33248,
            40739,
            48742,
            55991,
            56178,
            62416,
            66078,
            81355,
            84453,
            114636,
            126667,
            130173,
            149393,
            243421,
            288673,
            321910,
            444546,
            488201
           ],
           "xaxis": "x",
           "y": [
            -63416.80397630845,
            -50532.08364638042,
            -41193.20221531076,
            -35750.22658075746,
            -27117.12518528859,
            -14605.05671415777,
            -523.3334438507882,
            16296.816364587256,
            74853.97435831366,
            84503.39900504766,
            93932.62028067422,
            110148.62237863799,
            152444.6083521222,
            197631.4693514272,
            238561.06517598827,
            239616.91210924703,
            274838.15900586895,
            295514.6909288297,
            381772.30375981587,
            399264.35616214597,
            569684.8266784552,
            637614.7435449602,
            657410.4619834912,
            765931.2002574687,
            1296835.8817572377,
            1552339.5471252936,
            1740003.6354714015,
            2432435.9590389105,
            2678922.5786721306
           ],
           "yaxis": "y"
          }
         ],
         "name": "2018"
        },
        {
         "data": [
          {
           "customdata": [
            [
             "Belgium"
            ],
            [
             "Bulgaria"
            ],
            [
             "Czechia"
            ],
            [
             "Denmark"
            ],
            [
             "Germany"
            ],
            [
             "Estonia"
            ],
            [
             "Ireland"
            ],
            [
             "Greece"
            ],
            [
             "Spain"
            ],
            [
             "France"
            ],
            [
             "Croatia"
            ],
            [
             "Italy"
            ],
            [
             "Cyprus"
            ],
            [
             "Latvia"
            ],
            [
             "Lithuania"
            ],
            [
             "Luxembourg"
            ],
            [
             "Hungary"
            ],
            [
             "Malta"
            ],
            [
             "Netherlands"
            ],
            [
             "Austria"
            ],
            [
             "Poland"
            ],
            [
             "Portugal"
            ],
            [
             "Romania"
            ],
            [
             "Slovenia"
            ],
            [
             "Slovakia"
            ],
            [
             "Finland"
            ],
            [
             "Sweden"
            ],
            [
             "Norway"
            ],
            [
             "Türkiye"
            ]
           ],
           "hovertemplate": "Jahr=2019<br>Energieverbrauch (GWh)=%{x}<br>BIP (Mio €)=%{y}<br>Land=%{customdata[0]}<extra></extra>",
           "legendgroup": "",
           "marker": {
            "color": "#636efa",
            "symbol": "circle"
           },
           "mode": "markers",
           "name": "",
           "orientation": "v",
           "showlegend": false,
           "type": "scatter",
           "x": [
            80046,
            31071,
            62215,
            33156,
            472932,
            8595,
            28982,
            56544,
            239534,
            441593,
            16440,
            319599,
            4880,
            7296,
            11299,
            6345,
            41197,
            2628,
            113366,
            66008,
            150178,
            48298,
            55390,
            13403,
            27444,
            83227,
            127523,
            125359,
            288324
           ],
           "xaxis": "x",
           "y": [
            479443,
            61306,
            229417,
            308542,
            3534880,
            28471,
            363673,
            183346,
            1253710,
            2432204,
            55776,
            1804065,
            23399,
            29565,
            49238,
            62430,
            147240,
            14592,
            829767,
            395705,
            532577,
            214488,
            224696,
            48154,
            94546,
            238518,
            475291,
            365145,
            678777
           ],
           "yaxis": "y"
          },
          {
           "hovertemplate": "<b>OLS trendline</b><br>BIP (Mio €) = 5.8759 * Energieverbrauch (GWh) + -77606.3<br>R<sup>2</sup>=0.886333<br><br>Jahr=2019<br>Energieverbrauch (GWh)=%{x}<br>BIP (Mio €)=%{y} <b>(trend)</b><extra></extra>",
           "legendgroup": "",
           "line": {
            "color": "#b50000"
           },
           "marker": {
            "color": "#636efa",
            "symbol": "circle"
           },
           "mode": "lines",
           "name": "",
           "showlegend": false,
           "type": "scatter",
           "x": [
            2628,
            4880,
            6345,
            7296,
            8595,
            11299,
            13403,
            16440,
            27444,
            28982,
            31071,
            33156,
            41197,
            48298,
            55390,
            56544,
            62215,
            66008,
            80046,
            83227,
            113366,
            125359,
            127523,
            150178,
            239534,
            288324,
            319599,
            441593,
            472932
           ],
           "xaxis": "x",
           "y": [
            -62164.41983939333,
            -48931.89016742951,
            -40323.69479912268,
            -34735.71268631735,
            -27102.91692970944,
            -11214.479881312378,
            1148.4164019078162,
            18993.52857497803,
            83651.9462083217,
            92689.08236972505,
            104963.84013381583,
            117215.09429280541,
            164463.2164474507,
            206187.99140331883,
            247859.88324770937,
            254640.67331939953,
            287962.90945159615,
            310250.20298878924,
            392736.1050913772,
            411427.3470480899,
            588521.135584199,
            658990.8195788092,
            671706.269938547,
            804824.8133303501,
            1329871.8476855895,
            1616557.0709072216,
            1800325.8832920655,
            2517150.5834703757,
            2701295.4535368388
           ],
           "yaxis": "y"
          }
         ],
         "name": "2019"
        },
        {
         "data": [
          {
           "customdata": [
            [
             "Belgium"
            ],
            [
             "Bulgaria"
            ],
            [
             "Czechia"
            ],
            [
             "Denmark"
            ],
            [
             "Germany"
            ],
            [
             "Estonia"
            ],
            [
             "Ireland"
            ],
            [
             "Greece"
            ],
            [
             "Spain"
            ],
            [
             "France"
            ],
            [
             "Croatia"
            ],
            [
             "Italy"
            ],
            [
             "Cyprus"
            ],
            [
             "Latvia"
            ],
            [
             "Lithuania"
            ],
            [
             "Luxembourg"
            ],
            [
             "Hungary"
            ],
            [
             "Malta"
            ],
            [
             "Netherlands"
            ],
            [
             "Austria"
            ],
            [
             "Poland"
            ],
            [
             "Portugal"
            ],
            [
             "Romania"
            ],
            [
             "Slovenia"
            ],
            [
             "Slovakia"
            ],
            [
             "Finland"
            ],
            [
             "Sweden"
            ],
            [
             "Norway"
            ],
            [
             "Türkiye"
            ]
           ],
           "hovertemplate": "Jahr=2020<br>Energieverbrauch (GWh)=%{x}<br>BIP (Mio €)=%{y}<br>Land=%{customdata[0]}<extra></extra>",
           "legendgroup": "",
           "marker": {
            "color": "#636efa",
            "symbol": "circle"
           },
           "mode": "markers",
           "name": "",
           "orientation": "v",
           "showlegend": false,
           "type": "scatter",
           "x": [
            78789,
            30549,
            60210,
            32713,
            451193,
            8649,
            27132,
            53430,
            225672,
            419979,
            15599,
            302828,
            4699,
            7138,
            10908,
            6097,
            41194,
            2486,
            112711,
            63626,
            145959,
            46575,
            53485,
            12754,
            26156,
            78072,
            122886,
            123247,
            289934
           ],
           "xaxis": "x",
           "y": [
            463750,
            61911,
            220312,
            312123,
            3449620,
            27857,
            382206,
            165013,
            1129214,
            2318275,
            50720,
            1670010,
            22372,
            29223,
            50264,
            64522,
            138807,
            14344,
            816463,
            380316,
            526032,
            201030,
            220904,
            46736,
            94319,
            236387,
            479074,
            323063,
            625413
           ],
           "yaxis": "y"
          },
          {
           "hovertemplate": "<b>OLS trendline</b><br>BIP (Mio €) = 5.82127 * Energieverbrauch (GWh) + -72328.9<br>R<sup>2</sup>=0.864501<br><br>Jahr=2020<br>Energieverbrauch (GWh)=%{x}<br>BIP (Mio €)=%{y} <b>(trend)</b><extra></extra>",
           "legendgroup": "",
           "line": {
            "color": "#b50000"
           },
           "marker": {
            "color": "#636efa",
            "symbol": "circle"
           },
           "mode": "lines",
           "name": "",
           "showlegend": false,
           "type": "scatter",
           "x": [
            2486,
            4699,
            6097,
            7138,
            8649,
            10908,
            12754,
            15599,
            26156,
            27132,
            30549,
            32713,
            41194,
            46575,
            53430,
            53485,
            60210,
            63626,
            78072,
            78789,
            112711,
            122886,
            123247,
            145959,
            225672,
            289934,
            302828,
            419979,
            451193
           ],
           "xaxis": "x",
           "y": [
            -57857.21502930088,
            -44974.734145064314,
            -36836.59213143453,
            -30776.645181371154,
            -21980.699128013068,
            -8830.439608134897,
            1915.6334656566469,
            18477.159952621412,
            79932.3568323708,
            85613.9209277232,
            105505.2165361445,
            118102.45496067588,
            167472.68558842567,
            198796.96468380612,
            238701.80266909377,
            239021.97277692618,
            278170.0450527919,
            298055.5193865253,
            382149.65352736646,
            386323.5074785628,
            583792.7874401864,
            643024.2573891727,
            645125.7375514905,
            777338.5282621912,
            1241369.7974556615,
            1615456.5514469899,
            1690516.0672722706,
            2372484.2182298834,
            2554189.486336779
           ],
           "yaxis": "y"
          }
         ],
         "name": "2020"
        },
        {
         "data": [
          {
           "customdata": [
            [
             "Belgium"
            ],
            [
             "Bulgaria"
            ],
            [
             "Czechia"
            ],
            [
             "Denmark"
            ],
            [
             "Germany"
            ],
            [
             "Estonia"
            ],
            [
             "Ireland"
            ],
            [
             "Greece"
            ],
            [
             "Spain"
            ],
            [
             "France"
            ],
            [
             "Croatia"
            ],
            [
             "Italy"
            ],
            [
             "Cyprus"
            ],
            [
             "Latvia"
            ],
            [
             "Lithuania"
            ],
            [
             "Luxembourg"
            ],
            [
             "Hungary"
            ],
            [
             "Malta"
            ],
            [
             "Netherlands"
            ],
            [
             "Austria"
            ],
            [
             "Poland"
            ],
            [
             "Portugal"
            ],
            [
             "Romania"
            ],
            [
             "Slovenia"
            ],
            [
             "Slovakia"
            ],
            [
             "Finland"
            ],
            [
             "Sweden"
            ],
            [
             "Norway"
            ],
            [
             "Türkiye"
            ]
           ],
           "hovertemplate": "Jahr=2021<br>Energieverbrauch (GWh)=%{x}<br>BIP (Mio €)=%{y}<br>Land=%{customdata[0]}<extra></extra>",
           "legendgroup": "",
           "marker": {
            "color": "#636efa",
            "symbol": "circle"
           },
           "mode": "markers",
           "name": "",
           "orientation": "v",
           "showlegend": false,
           "type": "scatter",
           "x": [
            81736,
            31798,
            62994,
            35476,
            468097,
            9078,
            28766,
            54904,
            231641,
            440280,
            16686,
            318075,
            4877,
            7382,
            11491,
            6471,
            43655,
            2658,
            113556,
            66068,
            154436,
            46913,
            55891,
            13187,
            28105,
            82736,
            133461,
            129293,
            313141
           ],
           "xaxis": "x",
           "y": [
            506021,
            71377,
            246139,
            345233,
            3676460,
            31454,
            449214,
            181498,
            1235474,
            2508100,
            58412,
            1842506,
            25678,
            32284,
            56677,
            72358,
            154939,
            16670,
            891550,
            406231,
            576148,
            216491,
            242089,
            52020,
            101957,
            248764,
            538646,
            426061,
            687583
           ],
           "yaxis": "y"
          },
          {
           "hovertemplate": "<b>OLS trendline</b><br>BIP (Mio €) = 5.9516 * Energieverbrauch (GWh) + -66007.5<br>R<sup>2</sup>=0.860450<br><br>Jahr=2021<br>Energieverbrauch (GWh)=%{x}<br>BIP (Mio €)=%{y} <b>(trend)</b><extra></extra>",
           "legendgroup": "",
           "line": {
            "color": "#b50000"
           },
           "marker": {
            "color": "#636efa",
            "symbol": "circle"
           },
           "mode": "lines",
           "name": "",
           "showlegend": false,
           "type": "scatter",
           "x": [
            2658,
            4877,
            6471,
            7382,
            9078,
            11491,
            13187,
            16686,
            28105,
            28766,
            31798,
            35476,
            43655,
            46913,
            54904,
            55891,
            62994,
            66068,
            81736,
            82736,
            113556,
            129293,
            133461,
            154436,
            231641,
            313141,
            318075,
            440280,
            468097
           ],
           "xaxis": "x",
           "y": [
            -50188.14032714265,
            -36981.54499754122,
            -27494.698239819423,
            -22072.79272144768,
            -11978.882996795124,
            2382.322289517746,
            12476.232014170295,
            33300.872418981206,
            101262.16672665073,
            105196.17281627064,
            123241.41708817307,
            145131.3934839703,
            193809.51119501586,
            213199.81655050995,
            260759.03389113414,
            266633.2608358464,
            308907.45940554404,
            327202.6707814768,
            420452.30378021277,
            426403.9014952202,
            609832.1430717483,
            703492.4363128198,
            728298.6955889708,
            853133.4576612511,
            1312626.5592483976,
            1797681.773021501,
            1827046.9561473476,
            2554361.954909827,
            2719917.548548188
           ],
           "yaxis": "y"
          }
         ],
         "name": "2021"
        },
        {
         "data": [
          {
           "customdata": [
            [
             "Belgium"
            ],
            [
             "Bulgaria"
            ],
            [
             "Czechia"
            ],
            [
             "Denmark"
            ],
            [
             "Germany"
            ],
            [
             "Estonia"
            ],
            [
             "Ireland"
            ],
            [
             "Greece"
            ],
            [
             "Spain"
            ],
            [
             "France"
            ],
            [
             "Croatia"
            ],
            [
             "Italy"
            ],
            [
             "Cyprus"
            ],
            [
             "Latvia"
            ],
            [
             "Lithuania"
            ],
            [
             "Luxembourg"
            ],
            [
             "Hungary"
            ],
            [
             "Malta"
            ],
            [
             "Netherlands"
            ],
            [
             "Austria"
            ],
            [
             "Poland"
            ],
            [
             "Portugal"
            ],
            [
             "Romania"
            ],
            [
             "Slovenia"
            ],
            [
             "Slovakia"
            ],
            [
             "Finland"
            ],
            [
             "Sweden"
            ],
            [
             "Norway"
            ],
            [
             "Türkiye"
            ]
           ],
           "hovertemplate": "Jahr=2022<br>Energieverbrauch (GWh)=%{x}<br>BIP (Mio €)=%{y}<br>Land=%{customdata[0]}<extra></extra>",
           "legendgroup": "",
           "marker": {
            "color": "#636efa",
            "symbol": "circle"
           },
           "mode": "markers",
           "name": "",
           "orientation": "v",
           "showlegend": false,
           "type": "scatter",
           "x": [
            76654,
            31065,
            60535,
            32331,
            453609,
            8583,
            29635,
            51242,
            226350,
            422542,
            16485,
            316827,
            5013,
            7105,
            10765,
            6198,
            42872,
            2866,
            109335,
            64074,
            151678,
            48863,
            51539,
            12669,
            25474,
            78670,
            126446,
            122859,
            312105
           ],
           "xaxis": "x",
           "y": [
            563542,
            86081,
            287033,
            382312,
            3953850,
            36441,
            520933,
            206618,
            1373629,
            2655433,
            67618,
            1997054,
            29414,
            36101,
            67454,
            77527,
            168633,
            18239,
            993820,
            448005,
            655766,
            243955,
            281861,
            56907,
            110087,
            266124,
            551546,
            564991,
            852653
           ],
           "yaxis": "y"
          },
          {
           "hovertemplate": "<b>OLS trendline</b><br>BIP (Mio €) = 6.57323 * Energieverbrauch (GWh) + -53019.9<br>R<sup>2</sup>=0.866599<br><br>Jahr=2022<br>Energieverbrauch (GWh)=%{x}<br>BIP (Mio €)=%{y} <b>(trend)</b><extra></extra>",
           "legendgroup": "",
           "line": {
            "color": "#b50000"
           },
           "marker": {
            "color": "#636efa",
            "symbol": "circle"
           },
           "mode": "lines",
           "name": "",
           "showlegend": false,
           "type": "scatter",
           "x": [
            2866,
            5013,
            6198,
            7105,
            8583,
            10765,
            12669,
            16485,
            25474,
            29635,
            31065,
            32331,
            42872,
            48863,
            51242,
            51539,
            60535,
            64074,
            76654,
            78670,
            109335,
            122859,
            126446,
            151678,
            226350,
            312105,
            316827,
            422542,
            453609
           ],
           "xaxis": "x",
           "y": [
            -34181.00446427449,
            -20068.28980513665,
            -12279.017857731742,
            -6317.102535962753,
            3398.124416159153,
            17740.90195981951,
            30256.32287784393,
            55339.75051606936,
            114426.47248672147,
            141777.66284381162,
            151177.37498287408,
            159499.0781773168,
            228787.44577022412,
            268167.63837520534,
            283805.3412974638,
            285757.5892032691,
            344890.3237508257,
            368152.9679886873,
            450844.1419113487,
            464095.7640598451,
            665663.7170279225,
            754560.0156074195,
            778138.1746583405,
            943993.7947232525,
            1434829.672239387,
            1998516.6054458916,
            2029555.375180614,
            2724443.884817669,
            2928654.274345119
           ],
           "yaxis": "y"
          }
         ],
         "name": "2022"
        },
        {
         "data": [
          {
           "customdata": [
            [
             "Belgium"
            ],
            [
             "Bulgaria"
            ],
            [
             "Czechia"
            ],
            [
             "Denmark"
            ],
            [
             "Germany"
            ],
            [
             "Estonia"
            ],
            [
             "Ireland"
            ],
            [
             "Greece"
            ],
            [
             "Spain"
            ],
            [
             "France"
            ],
            [
             "Croatia"
            ],
            [
             "Italy"
            ],
            [
             "Cyprus"
            ],
            [
             "Latvia"
            ],
            [
             "Lithuania"
            ],
            [
             "Luxembourg"
            ],
            [
             "Hungary"
            ],
            [
             "Malta"
            ],
            [
             "Netherlands"
            ],
            [
             "Austria"
            ],
            [
             "Poland"
            ],
            [
             "Portugal"
            ],
            [
             "Romania"
            ],
            [
             "Slovenia"
            ],
            [
             "Slovakia"
            ],
            [
             "Finland"
            ],
            [
             "Sweden"
            ],
            [
             "Norway"
            ],
            [
             "Türkiye"
            ]
           ],
           "hovertemplate": "Jahr=2023<br>Energieverbrauch (GWh)=%{x}<br>BIP (Mio €)=%{y}<br>Land=%{customdata[0]}<extra></extra>",
           "legendgroup": "",
           "marker": {
            "color": "#636efa",
            "symbol": "circle"
           },
           "mode": "markers",
           "name": "",
           "orientation": "v",
           "showlegend": false,
           "type": "scatter",
           "x": [
            73268,
            30959,
            57376,
            32802,
            431823,
            8192,
            30287,
            50056,
            220949,
            407735,
            16678,
            306090,
            5132,
            6805,
            9966,
            5909,
            41868,
            2903,
            107602,
            60610,
            146668,
            49642,
            49192,
            11843,
            23757,
            76845,
            125269,
            125001,
            308963
           ],
           "xaxis": "x",
           "y": [
            596319,
            94708,
            317357,
            376422,
            4185550,
            38186,
            509949,
            220301,
            1498324,
            2822453,
            78047,
            2128000,
            31339,
            39071,
            73791,
            79307,
            196860,
            20648,
            1067599,
            473225,
            752320,
            267383,
            324188,
            63949,
            122916,
            273320,
            540840,
            448920,
            1018106
           ],
           "yaxis": "y"
          },
          {
           "hovertemplate": "<b>OLS trendline</b><br>BIP (Mio €) = 7.25096 * Energieverbrauch (GWh) + -62713.5<br>R<sup>2</sup>=0.867133<br><br>Jahr=2023<br>Energieverbrauch (GWh)=%{x}<br>BIP (Mio €)=%{y} <b>(trend)</b><extra></extra>",
           "legendgroup": "",
           "line": {
            "color": "#b50000"
           },
           "marker": {
            "color": "#636efa",
            "symbol": "circle"
           },
           "mode": "lines",
           "name": "",
           "showlegend": false,
           "type": "scatter",
           "x": [
            2903,
            5132,
            5909,
            6805,
            8192,
            9966,
            11843,
            16678,
            23757,
            30287,
            30959,
            32802,
            41868,
            49192,
            49642,
            50056,
            57376,
            60610,
            73268,
            76845,
            107602,
            125001,
            125269,
            146668,
            220949,
            306090,
            308963,
            407735,
            431823
           ],
           "xaxis": "x",
           "y": [
            -41663.92690659159,
            -25501.537288343367,
            -19867.54144564311,
            -13370.681374781554,
            -3313.599992767071,
            9549.60287074677,
            23159.654604013667,
            58218.04572300432,
            109547.59085875092,
            156896.3590091147,
            161769.00406226088,
            175132.52315891025,
            240869.7256169804,
            293975.75592835323,
            297238.687883585,
            300240.5852823983,
            353317.61175416905,
            376767.21607243497,
            468549.8664931555,
            494486.55005729804,
            717504.3237174419,
            843663.7750265046,
            845607.0322798426,
            1000770.3231909659,
            1539378.8755611302,
            2156732.852450889,
            2177564.860245069,
            2893756.6715387492,
            3068417.793622358
           ],
           "yaxis": "y"
          }
         ],
         "name": "2023"
        }
       ],
       "layout": {
        "height": 500,
        "legend": {
         "tracegroupgap": 0
        },
        "margin": {
         "t": 60
        },
        "sliders": [
         {
          "active": 0,
          "currentvalue": {
           "prefix": "Jahr="
          },
          "len": 0.9,
          "pad": {
           "b": 10,
           "t": 60
          },
          "steps": [
           {
            "args": [
             [
              "2008"
             ],
             {
              "frame": {
               "duration": 0,
               "redraw": false
              },
              "fromcurrent": true,
              "mode": "immediate",
              "transition": {
               "duration": 0,
               "easing": "linear"
              }
             }
            ],
            "label": "2008",
            "method": "animate"
           },
           {
            "args": [
             [
              "2009"
             ],
             {
              "frame": {
               "duration": 0,
               "redraw": false
              },
              "fromcurrent": true,
              "mode": "immediate",
              "transition": {
               "duration": 0,
               "easing": "linear"
              }
             }
            ],
            "label": "2009",
            "method": "animate"
           },
           {
            "args": [
             [
              "2010"
             ],
             {
              "frame": {
               "duration": 0,
               "redraw": false
              },
              "fromcurrent": true,
              "mode": "immediate",
              "transition": {
               "duration": 0,
               "easing": "linear"
              }
             }
            ],
            "label": "2010",
            "method": "animate"
           },
           {
            "args": [
             [
              "2011"
             ],
             {
              "frame": {
               "duration": 0,
               "redraw": false
              },
              "fromcurrent": true,
              "mode": "immediate",
              "transition": {
               "duration": 0,
               "easing": "linear"
              }
             }
            ],
            "label": "2011",
            "method": "animate"
           },
           {
            "args": [
             [
              "2012"
             ],
             {
              "frame": {
               "duration": 0,
               "redraw": false
              },
              "fromcurrent": true,
              "mode": "immediate",
              "transition": {
               "duration": 0,
               "easing": "linear"
              }
             }
            ],
            "label": "2012",
            "method": "animate"
           },
           {
            "args": [
             [
              "2013"
             ],
             {
              "frame": {
               "duration": 0,
               "redraw": false
              },
              "fromcurrent": true,
              "mode": "immediate",
              "transition": {
               "duration": 0,
               "easing": "linear"
              }
             }
            ],
            "label": "2013",
            "method": "animate"
           },
           {
            "args": [
             [
              "2014"
             ],
             {
              "frame": {
               "duration": 0,
               "redraw": false
              },
              "fromcurrent": true,
              "mode": "immediate",
              "transition": {
               "duration": 0,
               "easing": "linear"
              }
             }
            ],
            "label": "2014",
            "method": "animate"
           },
           {
            "args": [
             [
              "2015"
             ],
             {
              "frame": {
               "duration": 0,
               "redraw": false
              },
              "fromcurrent": true,
              "mode": "immediate",
              "transition": {
               "duration": 0,
               "easing": "linear"
              }
             }
            ],
            "label": "2015",
            "method": "animate"
           },
           {
            "args": [
             [
              "2016"
             ],
             {
              "frame": {
               "duration": 0,
               "redraw": false
              },
              "fromcurrent": true,
              "mode": "immediate",
              "transition": {
               "duration": 0,
               "easing": "linear"
              }
             }
            ],
            "label": "2016",
            "method": "animate"
           },
           {
            "args": [
             [
              "2017"
             ],
             {
              "frame": {
               "duration": 0,
               "redraw": false
              },
              "fromcurrent": true,
              "mode": "immediate",
              "transition": {
               "duration": 0,
               "easing": "linear"
              }
             }
            ],
            "label": "2017",
            "method": "animate"
           },
           {
            "args": [
             [
              "2018"
             ],
             {
              "frame": {
               "duration": 0,
               "redraw": false
              },
              "fromcurrent": true,
              "mode": "immediate",
              "transition": {
               "duration": 0,
               "easing": "linear"
              }
             }
            ],
            "label": "2018",
            "method": "animate"
           },
           {
            "args": [
             [
              "2019"
             ],
             {
              "frame": {
               "duration": 0,
               "redraw": false
              },
              "fromcurrent": true,
              "mode": "immediate",
              "transition": {
               "duration": 0,
               "easing": "linear"
              }
             }
            ],
            "label": "2019",
            "method": "animate"
           },
           {
            "args": [
             [
              "2020"
             ],
             {
              "frame": {
               "duration": 0,
               "redraw": false
              },
              "fromcurrent": true,
              "mode": "immediate",
              "transition": {
               "duration": 0,
               "easing": "linear"
              }
             }
            ],
            "label": "2020",
            "method": "animate"
           },
           {
            "args": [
             [
              "2021"
             ],
             {
              "frame": {
               "duration": 0,
               "redraw": false
              },
              "fromcurrent": true,
              "mode": "immediate",
              "transition": {
               "duration": 0,
               "easing": "linear"
              }
             }
            ],
            "label": "2021",
            "method": "animate"
           },
           {
            "args": [
             [
              "2022"
             ],
             {
              "frame": {
               "duration": 0,
               "redraw": false
              },
              "fromcurrent": true,
              "mode": "immediate",
              "transition": {
               "duration": 0,
               "easing": "linear"
              }
             }
            ],
            "label": "2022",
            "method": "animate"
           },
           {
            "args": [
             [
              "2023"
             ],
             {
              "frame": {
               "duration": 0,
               "redraw": false
              },
              "fromcurrent": true,
              "mode": "immediate",
              "transition": {
               "duration": 0,
               "easing": "linear"
              }
             }
            ],
            "label": "2023",
            "method": "animate"
           }
          ],
          "x": 0.1,
          "xanchor": "left",
          "y": 0,
          "yanchor": "top"
         }
        ],
        "template": {
         "data": {
          "bar": [
           {
            "error_x": {
             "color": "#f2f5fa"
            },
            "error_y": {
             "color": "#f2f5fa"
            },
            "marker": {
             "line": {
              "color": "rgb(17,17,17)",
              "width": 0.5
             },
             "pattern": {
              "fillmode": "overlay",
              "size": 10,
              "solidity": 0.2
             }
            },
            "type": "bar"
           }
          ],
          "barpolar": [
           {
            "marker": {
             "line": {
              "color": "rgb(17,17,17)",
              "width": 0.5
             },
             "pattern": {
              "fillmode": "overlay",
              "size": 10,
              "solidity": 0.2
             }
            },
            "type": "barpolar"
           }
          ],
          "carpet": [
           {
            "aaxis": {
             "endlinecolor": "#A2B1C6",
             "gridcolor": "#506784",
             "linecolor": "#506784",
             "minorgridcolor": "#506784",
             "startlinecolor": "#A2B1C6"
            },
            "baxis": {
             "endlinecolor": "#A2B1C6",
             "gridcolor": "#506784",
             "linecolor": "#506784",
             "minorgridcolor": "#506784",
             "startlinecolor": "#A2B1C6"
            },
            "type": "carpet"
           }
          ],
          "choropleth": [
           {
            "colorbar": {
             "outlinewidth": 0,
             "ticks": ""
            },
            "type": "choropleth"
           }
          ],
          "contour": [
           {
            "colorbar": {
             "outlinewidth": 0,
             "ticks": ""
            },
            "colorscale": [
             [
              0,
              "#0d0887"
             ],
             [
              0.1111111111111111,
              "#46039f"
             ],
             [
              0.2222222222222222,
              "#7201a8"
             ],
             [
              0.3333333333333333,
              "#9c179e"
             ],
             [
              0.4444444444444444,
              "#bd3786"
             ],
             [
              0.5555555555555556,
              "#d8576b"
             ],
             [
              0.6666666666666666,
              "#ed7953"
             ],
             [
              0.7777777777777778,
              "#fb9f3a"
             ],
             [
              0.8888888888888888,
              "#fdca26"
             ],
             [
              1,
              "#f0f921"
             ]
            ],
            "type": "contour"
           }
          ],
          "contourcarpet": [
           {
            "colorbar": {
             "outlinewidth": 0,
             "ticks": ""
            },
            "type": "contourcarpet"
           }
          ],
          "heatmap": [
           {
            "colorbar": {
             "outlinewidth": 0,
             "ticks": ""
            },
            "colorscale": [
             [
              0,
              "#0d0887"
             ],
             [
              0.1111111111111111,
              "#46039f"
             ],
             [
              0.2222222222222222,
              "#7201a8"
             ],
             [
              0.3333333333333333,
              "#9c179e"
             ],
             [
              0.4444444444444444,
              "#bd3786"
             ],
             [
              0.5555555555555556,
              "#d8576b"
             ],
             [
              0.6666666666666666,
              "#ed7953"
             ],
             [
              0.7777777777777778,
              "#fb9f3a"
             ],
             [
              0.8888888888888888,
              "#fdca26"
             ],
             [
              1,
              "#f0f921"
             ]
            ],
            "type": "heatmap"
           }
          ],
          "heatmapgl": [
           {
            "colorbar": {
             "outlinewidth": 0,
             "ticks": ""
            },
            "colorscale": [
             [
              0,
              "#0d0887"
             ],
             [
              0.1111111111111111,
              "#46039f"
             ],
             [
              0.2222222222222222,
              "#7201a8"
             ],
             [
              0.3333333333333333,
              "#9c179e"
             ],
             [
              0.4444444444444444,
              "#bd3786"
             ],
             [
              0.5555555555555556,
              "#d8576b"
             ],
             [
              0.6666666666666666,
              "#ed7953"
             ],
             [
              0.7777777777777778,
              "#fb9f3a"
             ],
             [
              0.8888888888888888,
              "#fdca26"
             ],
             [
              1,
              "#f0f921"
             ]
            ],
            "type": "heatmapgl"
           }
          ],
          "histogram": [
           {
            "marker": {
             "pattern": {
              "fillmode": "overlay",
              "size": 10,
              "solidity": 0.2
             }
            },
            "type": "histogram"
           }
          ],
          "histogram2d": [
           {
            "colorbar": {
             "outlinewidth": 0,
             "ticks": ""
            },
            "colorscale": [
             [
              0,
              "#0d0887"
             ],
             [
              0.1111111111111111,
              "#46039f"
             ],
             [
              0.2222222222222222,
              "#7201a8"
             ],
             [
              0.3333333333333333,
              "#9c179e"
             ],
             [
              0.4444444444444444,
              "#bd3786"
             ],
             [
              0.5555555555555556,
              "#d8576b"
             ],
             [
              0.6666666666666666,
              "#ed7953"
             ],
             [
              0.7777777777777778,
              "#fb9f3a"
             ],
             [
              0.8888888888888888,
              "#fdca26"
             ],
             [
              1,
              "#f0f921"
             ]
            ],
            "type": "histogram2d"
           }
          ],
          "histogram2dcontour": [
           {
            "colorbar": {
             "outlinewidth": 0,
             "ticks": ""
            },
            "colorscale": [
             [
              0,
              "#0d0887"
             ],
             [
              0.1111111111111111,
              "#46039f"
             ],
             [
              0.2222222222222222,
              "#7201a8"
             ],
             [
              0.3333333333333333,
              "#9c179e"
             ],
             [
              0.4444444444444444,
              "#bd3786"
             ],
             [
              0.5555555555555556,
              "#d8576b"
             ],
             [
              0.6666666666666666,
              "#ed7953"
             ],
             [
              0.7777777777777778,
              "#fb9f3a"
             ],
             [
              0.8888888888888888,
              "#fdca26"
             ],
             [
              1,
              "#f0f921"
             ]
            ],
            "type": "histogram2dcontour"
           }
          ],
          "mesh3d": [
           {
            "colorbar": {
             "outlinewidth": 0,
             "ticks": ""
            },
            "type": "mesh3d"
           }
          ],
          "parcoords": [
           {
            "line": {
             "colorbar": {
              "outlinewidth": 0,
              "ticks": ""
             }
            },
            "type": "parcoords"
           }
          ],
          "pie": [
           {
            "automargin": true,
            "type": "pie"
           }
          ],
          "scatter": [
           {
            "marker": {
             "line": {
              "color": "#283442"
             }
            },
            "type": "scatter"
           }
          ],
          "scatter3d": [
           {
            "line": {
             "colorbar": {
              "outlinewidth": 0,
              "ticks": ""
             }
            },
            "marker": {
             "colorbar": {
              "outlinewidth": 0,
              "ticks": ""
             }
            },
            "type": "scatter3d"
           }
          ],
          "scattercarpet": [
           {
            "marker": {
             "colorbar": {
              "outlinewidth": 0,
              "ticks": ""
             }
            },
            "type": "scattercarpet"
           }
          ],
          "scattergeo": [
           {
            "marker": {
             "colorbar": {
              "outlinewidth": 0,
              "ticks": ""
             }
            },
            "type": "scattergeo"
           }
          ],
          "scattergl": [
           {
            "marker": {
             "line": {
              "color": "#283442"
             }
            },
            "type": "scattergl"
           }
          ],
          "scattermapbox": [
           {
            "marker": {
             "colorbar": {
              "outlinewidth": 0,
              "ticks": ""
             }
            },
            "type": "scattermapbox"
           }
          ],
          "scatterpolar": [
           {
            "marker": {
             "colorbar": {
              "outlinewidth": 0,
              "ticks": ""
             }
            },
            "type": "scatterpolar"
           }
          ],
          "scatterpolargl": [
           {
            "marker": {
             "colorbar": {
              "outlinewidth": 0,
              "ticks": ""
             }
            },
            "type": "scatterpolargl"
           }
          ],
          "scatterternary": [
           {
            "marker": {
             "colorbar": {
              "outlinewidth": 0,
              "ticks": ""
             }
            },
            "type": "scatterternary"
           }
          ],
          "surface": [
           {
            "colorbar": {
             "outlinewidth": 0,
             "ticks": ""
            },
            "colorscale": [
             [
              0,
              "#0d0887"
             ],
             [
              0.1111111111111111,
              "#46039f"
             ],
             [
              0.2222222222222222,
              "#7201a8"
             ],
             [
              0.3333333333333333,
              "#9c179e"
             ],
             [
              0.4444444444444444,
              "#bd3786"
             ],
             [
              0.5555555555555556,
              "#d8576b"
             ],
             [
              0.6666666666666666,
              "#ed7953"
             ],
             [
              0.7777777777777778,
              "#fb9f3a"
             ],
             [
              0.8888888888888888,
              "#fdca26"
             ],
             [
              1,
              "#f0f921"
             ]
            ],
            "type": "surface"
           }
          ],
          "table": [
           {
            "cells": {
             "fill": {
              "color": "#506784"
             },
             "line": {
              "color": "rgb(17,17,17)"
             }
            },
            "header": {
             "fill": {
              "color": "#2a3f5f"
             },
             "line": {
              "color": "rgb(17,17,17)"
             }
            },
            "type": "table"
           }
          ]
         },
         "layout": {
          "annotationdefaults": {
           "arrowcolor": "#f2f5fa",
           "arrowhead": 0,
           "arrowwidth": 1
          },
          "autotypenumbers": "strict",
          "coloraxis": {
           "colorbar": {
            "outlinewidth": 0,
            "ticks": ""
           }
          },
          "colorscale": {
           "diverging": [
            [
             0,
             "#8e0152"
            ],
            [
             0.1,
             "#c51b7d"
            ],
            [
             0.2,
             "#de77ae"
            ],
            [
             0.3,
             "#f1b6da"
            ],
            [
             0.4,
             "#fde0ef"
            ],
            [
             0.5,
             "#f7f7f7"
            ],
            [
             0.6,
             "#e6f5d0"
            ],
            [
             0.7,
             "#b8e186"
            ],
            [
             0.8,
             "#7fbc41"
            ],
            [
             0.9,
             "#4d9221"
            ],
            [
             1,
             "#276419"
            ]
           ],
           "sequential": [
            [
             0,
             "#0d0887"
            ],
            [
             0.1111111111111111,
             "#46039f"
            ],
            [
             0.2222222222222222,
             "#7201a8"
            ],
            [
             0.3333333333333333,
             "#9c179e"
            ],
            [
             0.4444444444444444,
             "#bd3786"
            ],
            [
             0.5555555555555556,
             "#d8576b"
            ],
            [
             0.6666666666666666,
             "#ed7953"
            ],
            [
             0.7777777777777778,
             "#fb9f3a"
            ],
            [
             0.8888888888888888,
             "#fdca26"
            ],
            [
             1,
             "#f0f921"
            ]
           ],
           "sequentialminus": [
            [
             0,
             "#0d0887"
            ],
            [
             0.1111111111111111,
             "#46039f"
            ],
            [
             0.2222222222222222,
             "#7201a8"
            ],
            [
             0.3333333333333333,
             "#9c179e"
            ],
            [
             0.4444444444444444,
             "#bd3786"
            ],
            [
             0.5555555555555556,
             "#d8576b"
            ],
            [
             0.6666666666666666,
             "#ed7953"
            ],
            [
             0.7777777777777778,
             "#fb9f3a"
            ],
            [
             0.8888888888888888,
             "#fdca26"
            ],
            [
             1,
             "#f0f921"
            ]
           ]
          },
          "colorway": [
           "#636efa",
           "#EF553B",
           "#00cc96",
           "#ab63fa",
           "#FFA15A",
           "#19d3f3",
           "#FF6692",
           "#B6E880",
           "#FF97FF",
           "#FECB52"
          ],
          "font": {
           "color": "#f2f5fa"
          },
          "geo": {
           "bgcolor": "rgb(17,17,17)",
           "lakecolor": "rgb(17,17,17)",
           "landcolor": "rgb(17,17,17)",
           "showlakes": true,
           "showland": true,
           "subunitcolor": "#506784"
          },
          "hoverlabel": {
           "align": "left"
          },
          "hovermode": "closest",
          "mapbox": {
           "style": "dark"
          },
          "paper_bgcolor": "#001124",
          "plot_bgcolor": "#001124",
          "polar": {
           "angularaxis": {
            "gridcolor": "#506784",
            "linecolor": "#506784",
            "ticks": ""
           },
           "bgcolor": "rgb(17,17,17)",
           "radialaxis": {
            "gridcolor": "#506784",
            "linecolor": "#506784",
            "ticks": ""
           }
          },
          "scene": {
           "xaxis": {
            "backgroundcolor": "rgb(17,17,17)",
            "gridcolor": "#506784",
            "gridwidth": 2,
            "linecolor": "#506784",
            "showbackground": true,
            "ticks": "",
            "zerolinecolor": "#C8D4E3"
           },
           "yaxis": {
            "backgroundcolor": "rgb(17,17,17)",
            "gridcolor": "#506784",
            "gridwidth": 2,
            "linecolor": "#506784",
            "showbackground": true,
            "ticks": "",
            "zerolinecolor": "#C8D4E3"
           },
           "zaxis": {
            "backgroundcolor": "rgb(17,17,17)",
            "gridcolor": "#506784",
            "gridwidth": 2,
            "linecolor": "#506784",
            "showbackground": true,
            "ticks": "",
            "zerolinecolor": "#C8D4E3"
           }
          },
          "shapedefaults": {
           "line": {
            "color": "#f2f5fa"
           }
          },
          "sliderdefaults": {
           "bgcolor": "#C8D4E3",
           "bordercolor": "rgb(17,17,17)",
           "borderwidth": 1,
           "tickwidth": 0
          },
          "ternary": {
           "aaxis": {
            "gridcolor": "#506784",
            "linecolor": "#506784",
            "ticks": ""
           },
           "baxis": {
            "gridcolor": "#506784",
            "linecolor": "#506784",
            "ticks": ""
           },
           "bgcolor": "rgb(17,17,17)",
           "caxis": {
            "gridcolor": "#506784",
            "linecolor": "#506784",
            "ticks": ""
           }
          },
          "title": {
           "x": 0.05
          },
          "updatemenudefaults": {
           "bgcolor": "#506784",
           "borderwidth": 0
          },
          "xaxis": {
           "automargin": true,
           "gridcolor": "#283442",
           "linecolor": "#506784",
           "ticks": "",
           "title": {
            "standoff": 15
           },
           "zerolinecolor": "#283442",
           "zerolinewidth": 2
          },
          "yaxis": {
           "automargin": true,
           "gridcolor": "#283442",
           "linecolor": "#506784",
           "ticks": "",
           "title": {
            "standoff": 15
           },
           "zerolinecolor": "#283442",
           "zerolinewidth": 2
          }
         }
        },
        "title": {
         "text": "Zusammenhang zwischen Energieverbrauch und BIP"
        },
        "updatemenus": [
         {
          "buttons": [
           {
            "args": [
             null,
             {
              "frame": {
               "duration": 500,
               "redraw": false
              },
              "fromcurrent": true,
              "mode": "immediate",
              "transition": {
               "duration": 10,
               "easing": "linear"
              }
             }
            ],
            "label": "&#9654;",
            "method": "animate"
           },
           {
            "args": [
             [
              null
             ],
             {
              "frame": {
               "duration": 0,
               "redraw": false
              },
              "fromcurrent": true,
              "mode": "immediate",
              "transition": {
               "duration": 0,
               "easing": "linear"
              }
             }
            ],
            "label": "&#9724;",
            "method": "animate"
           }
          ],
          "direction": "left",
          "pad": {
           "r": 10,
           "t": 70
          },
          "showactive": false,
          "type": "buttons",
          "x": 0.1,
          "xanchor": "right",
          "y": 0,
          "yanchor": "top"
         }
        ],
        "width": 1000,
        "xaxis": {
         "anchor": "y",
         "domain": [
          0,
          1
         ],
         "range": [
          0,
          513673
         ],
         "tickformat": ",",
         "title": {
          "text": "Energieverbrauch (GWh)"
         }
        },
        "yaxis": {
         "anchor": "x",
         "domain": [
          0,
          1
         ],
         "range": [
          0,
          4185560
         ],
         "side": "left",
         "tickformat": ",",
         "title": {
          "text": "BIP (Mio €)"
         }
        }
       }
      }
     },
     "metadata": {},
     "output_type": "display_data"
    }
   ],
   "source": [
    "from dashboards_and_tables.D2_correlations.graph_builders import correlations_moving_regression\n",
    "\n",
    "correlations_moving_regression(df_Y, gdp_color, energy_color).show()\n"
   ]
  },
  {
   "cell_type": "markdown",
   "metadata": {},
   "source": [
    "### 1.2.3 Interpretation der verwendeten statistischen Größen\n",
    "Wir werden im nächsten Teilkapitel die konkreten, qualitativen Ergebnisse zu unseren Daten, die wir aus der Tabelle und dem Plot gewinnen können, zusammenfassen.\n",
    "\n",
    "Hier wollen wir innehalten und auf die statistischen Werkzeuge eigehen, die wir oben verwendet haben (Korrelationskoeffizient und Regressionsgerade). Da wir diese über die Zeit betrachten (jeweils pro Jahr beide Werkzeuge heranziehen) lohnt es sich, sich hier genau klar zu machen, was Änderungen der beiden Werte über die Zeit bedeuten.\n",
    "\n",
    "<b>Bedeutung gesamtheitlicher (alle Länder) Korrelationskoeffizient BIP/EV über die Zeit</b>\n",
    "- Wie wir sehen, ist der Korrelationskoeffizient in jedem Jahr fast 1. Das bedeutet, dass es einen starken positiven linearen Zusammenhang zwischen den Messgrößen BIP und EV gibt.\n",
    "- Das rechtfertigt zum einen, dass wir der Regressionsgeraden eine hohe Bedeutung zukommen lassen können (die im Plot auch für schwache Korrelationen generiert werden kann, dann aber weniger Aussagekraft hätte)\n",
    "- Dass der Korrelationskoeffizient über die Jahre leicht sinkt, bedeutet zum anderen aber auch, dass der lineare Zusammenhang zwischen BIP und EV über die Zeit (leicht) schwächer wird. \n",
    "    - Das heißt, dass mehr und mehr Länder über die Zeit vom linearen Zusammenhang abweichen - <b>in verschiedene Richtungen</b>! Die <b>Streuung um die Regressionsgerade herum wird über die Zeit größer</b>, also bewegen sich z.B. mehr Länder bei etwa gleichbleibendem BIP beim EV stärker nach oben ODER unten, oder andersherum (allgemeiner: eine der beiden Größen ändert sich gering, die andere ändert sich stärker)\n",
    "    - Das hat bei genauer Überlegung keine direkte Auswirkung auf die Steigung der Regressionsgeraden (die über die Zeit auch immer gleich bleiben könnte, trotz zunehmender Streuung um die Gerade herum, für die der Korrelationskoeffizient das relevante Maß darstellt). Wir müssen also beide Werkzeuge in Kombination betrachten.\n",
    "- Der <b>Korrelationskoeffizient</b> zeigt uns hier also die <b>Beständigkeit der linearen Beziehung</b>, aber auch, dass diese leicht zurückgeht! Alleinstehend ist er jedoch nicht als Maß für eine absolute Entkopplung verwendbar, die wir in unserem Kontext suchen.\n",
    "\n",
    "<b>Bedeutung Steigung der Regressionsgeraden</b>\n",
    "- Wir haben oben verstanden, dass aufgrund der starken linearen Korrelation über die Zeit (Korrelationskoeffizient) die Regressionsgerade hier eine hohe Aussagekraft hat.\n",
    "- Das bedeutet, dass wir anhand der Steigung der Regressionsgeraden ablesen können, <b>mit welchem Faktor Änderungen des EV von Änderungen des BIP abhängen</b>.  \n",
    "- Wie wir sehen, nimmt die Steigung der Regressionsgeraden (bei in jedem Jahr hohem Korrelationskoeffizienten) über die Zeit zu.\n",
    "    - Dies ist die <b>numerisch-statistische Konsequenz</b> der Tatsache, dass der (über die Länder summierte) europäische EV über die Zeit sinkt, während das BIP weiter wächst! Dies war bereits die Beobachtung im Graphen der summierten Jahresbeträge im vorigen Kapitel.\n",
    "- Die <b>zunehmende Steigung</b> der Regressionsgeraden ist hier also unser <b>Indikator für eine AE</b> (absolute Entkopplung) zwischen BIP und EV <b>in der europäischen Summe</b>.\n",
    "\n",
    "<b>Vorüberlegung Energieproduktivität (EP)</b>\n",
    "- Wir können bereits eine wichte Vorüberlegung zur EP treffen, die sich aus dem Quotienten aus BIP und EV ergibt:\n",
    "    - Die EP entspricht der <b>Steigung einer Geraden im Scatterplot:</b>\n",
    "        - Bei gleichem Faktor X vor BIP und EV kürzt sich bei der EP (=BIP/EV) dieser Faktor wieder weg!\n",
    "        - Damit haben <b>alle Länder</b>, die im Scatterplot <b>auf derselben Geraden</b> liegen (egal welcher) dieselbe EP!\n",
    "        - Länder auf einer steileren Geraden haben somit eine höhere EP!\n",
    "        - Liegt ein Land auf einer Geraden weiter rechts/oben, so hat es (mit gleichem Faktor) höhere BIP- und EV-Werte als Ein Land auf derselben Geraden weiter links unten. Das Land ist also \"schwergewichtiger\" (wirtschaftlich \"größer\")\n",
    "\n",
    "\n",
    "Wir können bereits jetzt weitere statistische Merkmale für ein Land mit EV ableiten, die wir im Fall der AE des Landes beobachten werden (äquivalent zur \"einfachen\" Kategorisierung durch steigendes BIP und sinkenden EV):\n",
    " <div style=\"border: 2px solid black; padding: 10px; background-color: white;\">\n",
    "    <b>Statistische Hauptmerkmale eines Landes bei AE (gleichbedeutend zur \"einfachen\" Beschreibung über steigendes BIP und sinkenden EV)</b>\n",
    "    <ul style=\"list-style-type: circle;\">\n",
    "            <li>Ein Land muss eine steigende EP haben bei gleichbleibend oder sinkendem Energieverbrauch!\n",
    "            </li>\n",
    "            <li>Beachte: Die EP kann steigen, während der Energieverbrauch ebenfalls steigt! Das entspricht im Scatterplot einer Bewegung nach oben rechts, und stellt <b>keine AE</b> dar!\n",
    "            </li>\n",
    "            <li>Ein Land kann auch bei <b>niedriger EP eine AE</b> haben, aber die <b>EP über die Zeit muss steigen</b>!\n",
    "            </li>\n",
    "            <li>Auf Landesebene werden wir später sehen, dass dann für ein Land mit AE der <b>Korrelationskoeffizient zwischen BIP und EV für die Zeitreihe dieses Landes negativ</b> wird (die <b>umgekehrte</b> Schlussfolgerung gilt jedoch <b>im allgemeinen nicht</b>!). <b>Achtung</b>: Dieser Korrelationskoeffizient der Landeszeitreihe wird anders gebildet und hat nichts mit der obigen Tabelle und dem Scatterplot oben zu tun!\n",
    "        </ul>\n",
    "</div>"
   ]
  },
  {
   "cell_type": "markdown",
   "metadata": {},
   "source": [
    "### 1.2.4 Beobachtungen und Haupterkenntnisse\n",
    "\n",
    "<b>Verteilung und absolute Entkopplung</b>:\n",
    "- Wir halten einen starken (aber zurückgehenden) linearen Zusammenhang zwischen BIP und EV fest.\n",
    "- Der leichte Rückgang des Zusammenhangs bedeutet: Es gibt einzelne Länder, die über die Zeit bei \"geringen\" BIP-Änderungen \"hohe\" EV-Änderungen aufweisen, oder andersherum.\n",
    "    - Das zeigt uns an, dass es einige \"Vorreiterländer\" für die europäische AE gibt, und einige \"Gegenläufer\", die hinterherhinken, oder sich sogar in die Gegenrichtung bewegen.\n",
    "    - \"Vorreiter\" sind im Scatterplot Länder, deren Punkt sich tendenziell <b>nach oben und/oder links bewegt</b> (unabhängig davon, ob der Punkt oberhalb- oder unterhalb der Geraden liegt). Diese Bewegungsrichtung spiegelt eine AE des Landes wieder.\n",
    "    - \"Gegenläufer\" sind im Scatterplot Länder, deren Punkt sich tendenziell <b>nach rechts und/oder unten bewegt</b> (unabhängig davon, ob der Punkt oberhalb- oder unterhalb der Geraden liegt).\n",
    "- Rechte Plothälfte (wirtschaftlich \"große\" Länder Deutschland, Frankreich, Italien, Spanien, Türkei):\n",
    "    - Hier erkennen wir über die Hoverdaten den AE-Vorreiter Deutschland und den AE-Gegentreiber Türkei. Spanien, Italien, Frankreich liegen sehr genau auf der Geraden.\n",
    "- Linke Plothälfte (wirtschaftlich \"kleinere\" Länder):\n",
    "    - Hier erkennen wir (auch unter Verwendung des Zooms), dass die Punktwolke sich über die Zeit etwas mehr streut. Es bleibt aber schwierig, hier bei einzelnen Ländern eine Vorreiter- oder Gegentreiberrolle zu erkennen. Das werden wir aber später auf Ebene der Einzelländeruntersuchung gut können.\n",
    "- In der Gesamtheit überkompensieren die Vorreiter also die Gegenläufer, weshalb gesamteuropäisch die AE gelingt.\n",
    "\n",
    " <div style=\"border: 2px solid black; padding: 10px; background-color: white;\">\n",
    "    <b>Qualitative Haupterkenntnisse</b>\n",
    "    <ul style=\"list-style-type: circle;\">\n",
    "            <li>Wir haben nun nochmal auf andere Art (nicht über die Ländersumme sondern) <b>über die Stichprobenstreuung jedes Jahres die Absolute Entkopplung (AE) in der Gesamtheit der europäischen Länder</b> abgebildet.\n",
    "            </li>\n",
    "            <li>Damit nimmt in der europäischen Gesamtheit die Energieproduktivität (EP) zu (das wissen wir durch unsere Vorüberlegungen bereits jetzt, ohne es überhaupt visualisiert zu haben!!)\n",
    "            </li>\n",
    "            <li>Hierfür gibt es Vorreiterländer und Gegentreiberländer.\n",
    "            </li>\n",
    "            <li>Die Vorreiterländer überkompensieren die Gegenläuferländer.\n",
    "            </li>\n",
    "            <li>Ein einzelnes Land mit einer AE hat in der Konsequenz bei gleichbleibend/sinkendem EV auch eine steigende EP.\n",
    "        </ul>\n",
    "</div>"
   ]
  },
  {
   "cell_type": "markdown",
   "metadata": {},
   "source": [
    "## 1.3 Europäischer Durchschnitt\n",
    "\n",
    "Wir betrachten nun die europäischen Durchschnittswerte für BIP, EV und EP.\n",
    "\n",
    "### 1.3.1 Visualisierung"
   ]
  },
  {
   "cell_type": "code",
   "execution_count": 6,
   "metadata": {},
   "outputs": [
    {
     "data": {
      "text/html": [
       "\n",
       "        <iframe\n",
       "            width=\"100%\"\n",
       "            height=\"650\"\n",
       "            src=\"http://127.0.0.1:8052/\"\n",
       "            frameborder=\"0\"\n",
       "            allowfullscreen\n",
       "            \n",
       "        ></iframe>\n",
       "        "
      ],
      "text/plain": [
       "<IPython.lib.display.IFrame at 0x23f287beb40>"
      ]
     },
     "metadata": {},
     "output_type": "display_data"
    }
   ],
   "source": [
    "df = df_Y\n",
    "from dashboards_and_tables.D3_averages.app import run_averages_app\n",
    "\n",
    "run_averages_app(df)\n"
   ]
  },
  {
   "cell_type": "markdown",
   "metadata": {},
   "source": [
    "### 1.3.2 Beobachtungen und Haupterkenntnisse\n",
    "\n",
    "<b>Verteilung</b>:\n",
    "- DFISNT:\n",
    "    - Wir sehen hier sehr (über die Legende und Hoverdaten) sehr deutlich, dass die wirtschaftsstarken Länder DFISNT bei BIP und EV über die ganze Zeit hinweg über dem Durchschnitt liegen. \n",
    "    - Bei der EP hingegen fallen diese Länder auf eher durchschnittliche Werte ab (was logisch ist, da die EP als Quotient gebildet wird). \n",
    "    - Die Türkei rutscht sogar stark nach unten. Das überrascht ebenfalls nicht, da wir die Gegenläufereigenschaft vorher schon festgestellt haben.\n",
    "- Die anderen Länder befinden sich damit mit teilweise sehr geringen BIP- und EV-Verläufen eher oder auch deutlich unter dem Durchschnitt.\n",
    "    - Polen, Schweden und Norwegen haben allerdings ebenfalls einen überdurchschnittlichen EV bei durchschnittlich bis unterdurchschnittlichem BIP (und damit eine niedrige EP).\n",
    "    - Bemerkenswert ist, dass Irland, Luxemburg und Dänemark bei der EP mit Abstand sehr gut abschneiden (oberste drei Länder). Wir wissen aber, dass diese steigen muss, während der EV fällt! Wir können uns die einzelnen Verläufe für jedes Land hier schon zusammenklicken (und wären damit eigentlich auch schon bei der Einzelländeranalyse angelangt). Das ist aber hier noch etwas mühsam, daher warten wir, bis wir zur Einzelländeransicht mit einer einfacheren Visualisierung kommen.\n",
    "\n",
    "<b>Absolute Entkopplung</b>:\n",
    "- Wir sehen bei den Durchschnittslinien, dass der europäische Durchschnitts für das BIP steigt, während der durchschnittliche EV sinkt. Wir haben hier also die <b>AE des europäischen Durchschnitts (und damit die steigende Durchschnitts-EP)</b> visualisiert.\n",
    "- Wir können uns hier mit Geduld bereits für jedes Land alle notwendigen Informationen in den Ansichten zusammenklicken, um festzustellen, ob ein Land eine AE hat. Das ist allerdings hier noch mühsam. \n",
    "\n",
    "<b>Energieproduktivität</b>:\n",
    "- Wir sehen, dass die Durchschnittlinie der <b>Energieproduktivität steigt</b>. Dies ist direkte Konsequenz aus der oben festgestellten AE im europäischen Durchschnitt.\n",
    "\n",
    "<div style=\"border: 2px solid black; padding: 10px; background-color: white;\">\n",
    "    <b>Qualitative Haupterkenntnisse</b>\n",
    "    <ul style=\"list-style-type: circle;\">\n",
    "            <li>Wir haben die <b>europäische AE nun auch auf der Durchschnittsebene</b> sichtbar gemacht.\n",
    "            </li>\n",
    "            <li>Damit nimmt auch im Durchschnitt die Energieproduktivität (EP) zu.\n",
    "            </li>\n",
    "            <li>Wir können bereits hier jedes einzelne Land vollständig auf AE untersuchen. Das nehmen wir aber anhand nutzerfreundlicherer Visualisierungen im nächsten Kapitel vor.\n",
    "        </ul>\n",
    "</div>\n",
    "\n"
   ]
  },
  {
   "cell_type": "markdown",
   "metadata": {},
   "source": [
    "# 2. Einzelanalyse auf Landesebene\n",
    "\n",
    "Nachdem wir uns nun die europäischen Ländersummen und Durchschnitte angesehen haben, wollen wir auf die Detailebene jedes Land einzeln auf Absolute Entkopplung (AE) untersuchen.\n",
    "\n",
    "Hierfür werden wir für jedes Land einzeln die BIP-, EV-, und EP-Werte über die Zeit betrachten. Wir beginnen mit der Untersuchung der Korreltion zwischen BIP und EV für jedes Land.\n",
    "\n",
    "## 2.1 Korrelationen BIP und EV über Zeit (Untersuchung absolute Entkopplung)\n",
    "Wir haben weiter oben bereits festgestellt:\n",
    "- Auf Landesebene muss für ein Land mit AE der <b>Korrelationskoeffizient zwischen BIP und EV für die Zeitreihe dieses Landes negativ</b> sein (die <b>umgekehrte</b> Schlussfolgerung gilt jedoch <b>im allgemeinen nicht</b>!). \n",
    "- Daraus können wir <b>in der Regel</b> direkt schlussfolgern, dass das BIP steigt, während der EV fällt. Der Fall, dass das BIP fällt, während der EV steigt (was auch zu einem negativen Korrelationskoeffizienten führt!) ist aufgrund der politischen Prämisse eines anzustrebenden Wirtschaftswachstums sehr unrealistisch (wir werden aber sehen, dass Griechenland seit 2008 BIP-Verluste hat!).\n",
    "\n",
    "Wir bestimmen daher nun für jedes einzelne Land den Korrelationskoeffizienten zwischen BIP und EV, und lassen uns das tabellarisch ausgeben.\n",
    "- Beachte: Hier nehmen wir also <b>nicht wie vorher pro Jahr eine Stichprobe</b>, deren Umfang (Anzahl Messpaare BIP/EV) sich aus der <b>Anzahl der Länder</b> ergibt (wie im vorigen Kapitel), sondern wir nehmen <b>jetzt pro Land eine Stichprobe</b>, deren Umfang (Anzahl Messpaare BIP/EV) sich aus der <b>Anzahl der Jahre</b> ergibt!\n",
    "\n",
    "Dabei werden in der Tabelle Zellen mit negativen Korr.koeff. kleiner als -0.2 grün dargestellt (das indiziert die erwünschte AE), Zellen mit betragsmäßig kleinem Korr.koeff. (zwischen -0.2 und +0.2) grau, Zellen mit Korr.koeff. größer als +0.2 rot (Gegenläufer zur AE). Wir machen das einmal auf Jahresebene (kleinerer Stichprobenumfang pro Land) und einmal auf Quartalsebene (größerer Stichprobenumfang pro Land). "
   ]
  },
  {
   "cell_type": "markdown",
   "metadata": {},
   "source": [
    "### 2.1.1 Korrelationsberechnung"
   ]
  },
  {
   "cell_type": "markdown",
   "metadata": {},
   "source": [
    "### Jahresebene"
   ]
  },
  {
   "cell_type": "code",
   "execution_count": 7,
   "metadata": {},
   "outputs": [],
   "source": [
    "unique_countries = sorted(df_Y['Land'].unique())\n",
    "first_half_of_countries = unique_countries[:len(unique_countries) // 2]\n",
    "second_half_of_countries = unique_countries[len(unique_countries) // 2:]\n",
    "df_Y_first_half = df_Y[df_Y['Land'].isin(first_half_of_countries)].sort_values(by='Land')\n",
    "df_Y_second_half = df_Y[df_Y['Land'].isin(second_half_of_countries)].sort_values(by='Land')"
   ]
  },
  {
   "cell_type": "code",
   "execution_count": 8,
   "metadata": {},
   "outputs": [
    {
     "data": {
      "application/vnd.plotly.v1+json": {
       "config": {
        "plotlyServerURL": "https://plot.ly"
       },
       "data": [
        {
         "cells": {
          "fill": {
           "color": [
            "#555555",
            "#2e5618",
            "#2e5618",
            "#2e5618",
            "#2e5618",
            "#b14831",
            "#2e5618",
            "#2e5618",
            "#b14831",
            "#2e5618",
            "#2e5618",
            "#2e5618",
            "#4e4d4c",
            "#b14831",
            "#b14831"
           ]
          },
          "font": {
           "color": "white",
           "size": 12
          },
          "values": [
           [
            "Korrelationskoeffizient<br>BIP/Energieverbrauch"
           ],
           [
            -0.593
           ],
           [
            -0.902
           ],
           [
            -0.686
           ],
           [
            -0.482
           ],
           [
            0.702
           ],
           [
            -0.73
           ],
           [
            -0.601
           ],
           [
            0.365
           ],
           [
            -0.694
           ],
           [
            -0.888
           ],
           [
            -0.503
           ],
           [
            -0.119
           ],
           [
            0.675
           ],
           [
            0.846
           ]
          ]
         },
         "columnwidth": [
          190,
          90,
          90,
          90,
          90,
          90,
          90,
          90,
          90,
          90,
          90,
          90,
          90,
          90,
          90
         ],
         "header": {
          "fill": {
           "color": "#001124"
          },
          "font": {
           "color": "white",
           "size": 12
          },
          "values": [
           "Land",
           "Austria",
           "Belgium",
           "Bulgaria",
           "Croatia",
           "Cyprus",
           "Czechia",
           "Denmark",
           "Estonia",
           "Finland",
           "France",
           "Germany",
           "Greece",
           "Hungary",
           "Ireland"
          ]
         },
         "type": "table"
        }
       ],
       "layout": {
        "height": 80,
        "margin": {
         "b": 5,
         "l": 5,
         "r": 5,
         "t": 5
        },
        "template": {
         "data": {
          "bar": [
           {
            "error_x": {
             "color": "#2a3f5f"
            },
            "error_y": {
             "color": "#2a3f5f"
            },
            "marker": {
             "line": {
              "color": "#E5ECF6",
              "width": 0.5
             },
             "pattern": {
              "fillmode": "overlay",
              "size": 10,
              "solidity": 0.2
             }
            },
            "type": "bar"
           }
          ],
          "barpolar": [
           {
            "marker": {
             "line": {
              "color": "#E5ECF6",
              "width": 0.5
             },
             "pattern": {
              "fillmode": "overlay",
              "size": 10,
              "solidity": 0.2
             }
            },
            "type": "barpolar"
           }
          ],
          "carpet": [
           {
            "aaxis": {
             "endlinecolor": "#2a3f5f",
             "gridcolor": "white",
             "linecolor": "white",
             "minorgridcolor": "white",
             "startlinecolor": "#2a3f5f"
            },
            "baxis": {
             "endlinecolor": "#2a3f5f",
             "gridcolor": "white",
             "linecolor": "white",
             "minorgridcolor": "white",
             "startlinecolor": "#2a3f5f"
            },
            "type": "carpet"
           }
          ],
          "choropleth": [
           {
            "colorbar": {
             "outlinewidth": 0,
             "ticks": ""
            },
            "type": "choropleth"
           }
          ],
          "contour": [
           {
            "colorbar": {
             "outlinewidth": 0,
             "ticks": ""
            },
            "colorscale": [
             [
              0,
              "#0d0887"
             ],
             [
              0.1111111111111111,
              "#46039f"
             ],
             [
              0.2222222222222222,
              "#7201a8"
             ],
             [
              0.3333333333333333,
              "#9c179e"
             ],
             [
              0.4444444444444444,
              "#bd3786"
             ],
             [
              0.5555555555555556,
              "#d8576b"
             ],
             [
              0.6666666666666666,
              "#ed7953"
             ],
             [
              0.7777777777777778,
              "#fb9f3a"
             ],
             [
              0.8888888888888888,
              "#fdca26"
             ],
             [
              1,
              "#f0f921"
             ]
            ],
            "type": "contour"
           }
          ],
          "contourcarpet": [
           {
            "colorbar": {
             "outlinewidth": 0,
             "ticks": ""
            },
            "type": "contourcarpet"
           }
          ],
          "heatmap": [
           {
            "colorbar": {
             "outlinewidth": 0,
             "ticks": ""
            },
            "colorscale": [
             [
              0,
              "#0d0887"
             ],
             [
              0.1111111111111111,
              "#46039f"
             ],
             [
              0.2222222222222222,
              "#7201a8"
             ],
             [
              0.3333333333333333,
              "#9c179e"
             ],
             [
              0.4444444444444444,
              "#bd3786"
             ],
             [
              0.5555555555555556,
              "#d8576b"
             ],
             [
              0.6666666666666666,
              "#ed7953"
             ],
             [
              0.7777777777777778,
              "#fb9f3a"
             ],
             [
              0.8888888888888888,
              "#fdca26"
             ],
             [
              1,
              "#f0f921"
             ]
            ],
            "type": "heatmap"
           }
          ],
          "heatmapgl": [
           {
            "colorbar": {
             "outlinewidth": 0,
             "ticks": ""
            },
            "colorscale": [
             [
              0,
              "#0d0887"
             ],
             [
              0.1111111111111111,
              "#46039f"
             ],
             [
              0.2222222222222222,
              "#7201a8"
             ],
             [
              0.3333333333333333,
              "#9c179e"
             ],
             [
              0.4444444444444444,
              "#bd3786"
             ],
             [
              0.5555555555555556,
              "#d8576b"
             ],
             [
              0.6666666666666666,
              "#ed7953"
             ],
             [
              0.7777777777777778,
              "#fb9f3a"
             ],
             [
              0.8888888888888888,
              "#fdca26"
             ],
             [
              1,
              "#f0f921"
             ]
            ],
            "type": "heatmapgl"
           }
          ],
          "histogram": [
           {
            "marker": {
             "pattern": {
              "fillmode": "overlay",
              "size": 10,
              "solidity": 0.2
             }
            },
            "type": "histogram"
           }
          ],
          "histogram2d": [
           {
            "colorbar": {
             "outlinewidth": 0,
             "ticks": ""
            },
            "colorscale": [
             [
              0,
              "#0d0887"
             ],
             [
              0.1111111111111111,
              "#46039f"
             ],
             [
              0.2222222222222222,
              "#7201a8"
             ],
             [
              0.3333333333333333,
              "#9c179e"
             ],
             [
              0.4444444444444444,
              "#bd3786"
             ],
             [
              0.5555555555555556,
              "#d8576b"
             ],
             [
              0.6666666666666666,
              "#ed7953"
             ],
             [
              0.7777777777777778,
              "#fb9f3a"
             ],
             [
              0.8888888888888888,
              "#fdca26"
             ],
             [
              1,
              "#f0f921"
             ]
            ],
            "type": "histogram2d"
           }
          ],
          "histogram2dcontour": [
           {
            "colorbar": {
             "outlinewidth": 0,
             "ticks": ""
            },
            "colorscale": [
             [
              0,
              "#0d0887"
             ],
             [
              0.1111111111111111,
              "#46039f"
             ],
             [
              0.2222222222222222,
              "#7201a8"
             ],
             [
              0.3333333333333333,
              "#9c179e"
             ],
             [
              0.4444444444444444,
              "#bd3786"
             ],
             [
              0.5555555555555556,
              "#d8576b"
             ],
             [
              0.6666666666666666,
              "#ed7953"
             ],
             [
              0.7777777777777778,
              "#fb9f3a"
             ],
             [
              0.8888888888888888,
              "#fdca26"
             ],
             [
              1,
              "#f0f921"
             ]
            ],
            "type": "histogram2dcontour"
           }
          ],
          "mesh3d": [
           {
            "colorbar": {
             "outlinewidth": 0,
             "ticks": ""
            },
            "type": "mesh3d"
           }
          ],
          "parcoords": [
           {
            "line": {
             "colorbar": {
              "outlinewidth": 0,
              "ticks": ""
             }
            },
            "type": "parcoords"
           }
          ],
          "pie": [
           {
            "automargin": true,
            "type": "pie"
           }
          ],
          "scatter": [
           {
            "fillpattern": {
             "fillmode": "overlay",
             "size": 10,
             "solidity": 0.2
            },
            "type": "scatter"
           }
          ],
          "scatter3d": [
           {
            "line": {
             "colorbar": {
              "outlinewidth": 0,
              "ticks": ""
             }
            },
            "marker": {
             "colorbar": {
              "outlinewidth": 0,
              "ticks": ""
             }
            },
            "type": "scatter3d"
           }
          ],
          "scattercarpet": [
           {
            "marker": {
             "colorbar": {
              "outlinewidth": 0,
              "ticks": ""
             }
            },
            "type": "scattercarpet"
           }
          ],
          "scattergeo": [
           {
            "marker": {
             "colorbar": {
              "outlinewidth": 0,
              "ticks": ""
             }
            },
            "type": "scattergeo"
           }
          ],
          "scattergl": [
           {
            "marker": {
             "colorbar": {
              "outlinewidth": 0,
              "ticks": ""
             }
            },
            "type": "scattergl"
           }
          ],
          "scattermapbox": [
           {
            "marker": {
             "colorbar": {
              "outlinewidth": 0,
              "ticks": ""
             }
            },
            "type": "scattermapbox"
           }
          ],
          "scatterpolar": [
           {
            "marker": {
             "colorbar": {
              "outlinewidth": 0,
              "ticks": ""
             }
            },
            "type": "scatterpolar"
           }
          ],
          "scatterpolargl": [
           {
            "marker": {
             "colorbar": {
              "outlinewidth": 0,
              "ticks": ""
             }
            },
            "type": "scatterpolargl"
           }
          ],
          "scatterternary": [
           {
            "marker": {
             "colorbar": {
              "outlinewidth": 0,
              "ticks": ""
             }
            },
            "type": "scatterternary"
           }
          ],
          "surface": [
           {
            "colorbar": {
             "outlinewidth": 0,
             "ticks": ""
            },
            "colorscale": [
             [
              0,
              "#0d0887"
             ],
             [
              0.1111111111111111,
              "#46039f"
             ],
             [
              0.2222222222222222,
              "#7201a8"
             ],
             [
              0.3333333333333333,
              "#9c179e"
             ],
             [
              0.4444444444444444,
              "#bd3786"
             ],
             [
              0.5555555555555556,
              "#d8576b"
             ],
             [
              0.6666666666666666,
              "#ed7953"
             ],
             [
              0.7777777777777778,
              "#fb9f3a"
             ],
             [
              0.8888888888888888,
              "#fdca26"
             ],
             [
              1,
              "#f0f921"
             ]
            ],
            "type": "surface"
           }
          ],
          "table": [
           {
            "cells": {
             "fill": {
              "color": "#EBF0F8"
             },
             "line": {
              "color": "white"
             }
            },
            "header": {
             "fill": {
              "color": "#C8D4E3"
             },
             "line": {
              "color": "white"
             }
            },
            "type": "table"
           }
          ]
         },
         "layout": {
          "annotationdefaults": {
           "arrowcolor": "#2a3f5f",
           "arrowhead": 0,
           "arrowwidth": 1
          },
          "autotypenumbers": "strict",
          "coloraxis": {
           "colorbar": {
            "outlinewidth": 0,
            "ticks": ""
           }
          },
          "colorscale": {
           "diverging": [
            [
             0,
             "#8e0152"
            ],
            [
             0.1,
             "#c51b7d"
            ],
            [
             0.2,
             "#de77ae"
            ],
            [
             0.3,
             "#f1b6da"
            ],
            [
             0.4,
             "#fde0ef"
            ],
            [
             0.5,
             "#f7f7f7"
            ],
            [
             0.6,
             "#e6f5d0"
            ],
            [
             0.7,
             "#b8e186"
            ],
            [
             0.8,
             "#7fbc41"
            ],
            [
             0.9,
             "#4d9221"
            ],
            [
             1,
             "#276419"
            ]
           ],
           "sequential": [
            [
             0,
             "#0d0887"
            ],
            [
             0.1111111111111111,
             "#46039f"
            ],
            [
             0.2222222222222222,
             "#7201a8"
            ],
            [
             0.3333333333333333,
             "#9c179e"
            ],
            [
             0.4444444444444444,
             "#bd3786"
            ],
            [
             0.5555555555555556,
             "#d8576b"
            ],
            [
             0.6666666666666666,
             "#ed7953"
            ],
            [
             0.7777777777777778,
             "#fb9f3a"
            ],
            [
             0.8888888888888888,
             "#fdca26"
            ],
            [
             1,
             "#f0f921"
            ]
           ],
           "sequentialminus": [
            [
             0,
             "#0d0887"
            ],
            [
             0.1111111111111111,
             "#46039f"
            ],
            [
             0.2222222222222222,
             "#7201a8"
            ],
            [
             0.3333333333333333,
             "#9c179e"
            ],
            [
             0.4444444444444444,
             "#bd3786"
            ],
            [
             0.5555555555555556,
             "#d8576b"
            ],
            [
             0.6666666666666666,
             "#ed7953"
            ],
            [
             0.7777777777777778,
             "#fb9f3a"
            ],
            [
             0.8888888888888888,
             "#fdca26"
            ],
            [
             1,
             "#f0f921"
            ]
           ]
          },
          "colorway": [
           "#636efa",
           "#EF553B",
           "#00cc96",
           "#ab63fa",
           "#FFA15A",
           "#19d3f3",
           "#FF6692",
           "#B6E880",
           "#FF97FF",
           "#FECB52"
          ],
          "font": {
           "color": "#2a3f5f"
          },
          "geo": {
           "bgcolor": "white",
           "lakecolor": "white",
           "landcolor": "#E5ECF6",
           "showlakes": true,
           "showland": true,
           "subunitcolor": "white"
          },
          "hoverlabel": {
           "align": "left"
          },
          "hovermode": "closest",
          "mapbox": {
           "style": "light"
          },
          "paper_bgcolor": "white",
          "plot_bgcolor": "#E5ECF6",
          "polar": {
           "angularaxis": {
            "gridcolor": "white",
            "linecolor": "white",
            "ticks": ""
           },
           "bgcolor": "#E5ECF6",
           "radialaxis": {
            "gridcolor": "white",
            "linecolor": "white",
            "ticks": ""
           }
          },
          "scene": {
           "xaxis": {
            "backgroundcolor": "#E5ECF6",
            "gridcolor": "white",
            "gridwidth": 2,
            "linecolor": "white",
            "showbackground": true,
            "ticks": "",
            "zerolinecolor": "white"
           },
           "yaxis": {
            "backgroundcolor": "#E5ECF6",
            "gridcolor": "white",
            "gridwidth": 2,
            "linecolor": "white",
            "showbackground": true,
            "ticks": "",
            "zerolinecolor": "white"
           },
           "zaxis": {
            "backgroundcolor": "#E5ECF6",
            "gridcolor": "white",
            "gridwidth": 2,
            "linecolor": "white",
            "showbackground": true,
            "ticks": "",
            "zerolinecolor": "white"
           }
          },
          "shapedefaults": {
           "line": {
            "color": "#2a3f5f"
           }
          },
          "ternary": {
           "aaxis": {
            "gridcolor": "white",
            "linecolor": "white",
            "ticks": ""
           },
           "baxis": {
            "gridcolor": "white",
            "linecolor": "white",
            "ticks": ""
           },
           "bgcolor": "#E5ECF6",
           "caxis": {
            "gridcolor": "white",
            "linecolor": "white",
            "ticks": ""
           }
          },
          "title": {
           "x": 0.05
          },
          "xaxis": {
           "automargin": true,
           "gridcolor": "white",
           "linecolor": "white",
           "ticks": "",
           "title": {
            "standoff": 15
           },
           "zerolinecolor": "white",
           "zerolinewidth": 2
          },
          "yaxis": {
           "automargin": true,
           "gridcolor": "white",
           "linecolor": "white",
           "ticks": "",
           "title": {
            "standoff": 15
           },
           "zerolinecolor": "white",
           "zerolinewidth": 2
          }
         }
        },
        "width": 1200
       }
      }
     },
     "metadata": {},
     "output_type": "display_data"
    },
    {
     "data": {
      "application/vnd.plotly.v1+json": {
       "config": {
        "plotlyServerURL": "https://plot.ly"
       },
       "data": [
        {
         "cells": {
          "fill": {
           "color": [
            "#555555",
            "#2e5618",
            "#2e5618",
            "#b14831",
            "#2e5618",
            "#b14831",
            "#2e5618",
            "#4e4d4c",
            "#b14831",
            "#b14831",
            "#4e4d4c",
            "#4e4d4c",
            "#2e5618",
            "#2e5618",
            "#2e5618",
            "#b14831"
           ]
          },
          "font": {
           "color": "white",
           "size": 12
          },
          "values": [
           [
            "Korrelationskoeffizient<br>BIP/Energieverbrauch"
           ],
           [
            -0.332
           ],
           [
            -0.249
           ],
           [
            0.407
           ],
           [
            -0.523
           ],
           [
            0.978
           ],
           [
            -0.649
           ],
           [
            0.042
           ],
           [
            0.655
           ],
           [
            0.429
           ],
           [
            0.148
           ],
           [
            -0.067
           ],
           [
            -0.562
           ],
           [
            -0.767
           ],
           [
            -0.729
           ],
           [
            0.635
           ]
          ]
         },
         "columnwidth": [
          190,
          90,
          90,
          90,
          90,
          90,
          90,
          90,
          90,
          90,
          90,
          90,
          90,
          90,
          90,
          90
         ],
         "header": {
          "fill": {
           "color": "#001124"
          },
          "font": {
           "color": "white",
           "size": 12
          },
          "values": [
           "Land",
           "Italy",
           "Latvia",
           "Lithuania",
           "Luxembourg",
           "Malta",
           "Netherlands",
           "Norway",
           "Poland",
           "Portugal",
           "Romania",
           "Slovakia",
           "Slovenia",
           "Spain",
           "Sweden",
           "Türkiye"
          ]
         },
         "type": "table"
        }
       ],
       "layout": {
        "height": 80,
        "margin": {
         "b": 5,
         "l": 5,
         "r": 5,
         "t": 5
        },
        "template": {
         "data": {
          "bar": [
           {
            "error_x": {
             "color": "#2a3f5f"
            },
            "error_y": {
             "color": "#2a3f5f"
            },
            "marker": {
             "line": {
              "color": "#E5ECF6",
              "width": 0.5
             },
             "pattern": {
              "fillmode": "overlay",
              "size": 10,
              "solidity": 0.2
             }
            },
            "type": "bar"
           }
          ],
          "barpolar": [
           {
            "marker": {
             "line": {
              "color": "#E5ECF6",
              "width": 0.5
             },
             "pattern": {
              "fillmode": "overlay",
              "size": 10,
              "solidity": 0.2
             }
            },
            "type": "barpolar"
           }
          ],
          "carpet": [
           {
            "aaxis": {
             "endlinecolor": "#2a3f5f",
             "gridcolor": "white",
             "linecolor": "white",
             "minorgridcolor": "white",
             "startlinecolor": "#2a3f5f"
            },
            "baxis": {
             "endlinecolor": "#2a3f5f",
             "gridcolor": "white",
             "linecolor": "white",
             "minorgridcolor": "white",
             "startlinecolor": "#2a3f5f"
            },
            "type": "carpet"
           }
          ],
          "choropleth": [
           {
            "colorbar": {
             "outlinewidth": 0,
             "ticks": ""
            },
            "type": "choropleth"
           }
          ],
          "contour": [
           {
            "colorbar": {
             "outlinewidth": 0,
             "ticks": ""
            },
            "colorscale": [
             [
              0,
              "#0d0887"
             ],
             [
              0.1111111111111111,
              "#46039f"
             ],
             [
              0.2222222222222222,
              "#7201a8"
             ],
             [
              0.3333333333333333,
              "#9c179e"
             ],
             [
              0.4444444444444444,
              "#bd3786"
             ],
             [
              0.5555555555555556,
              "#d8576b"
             ],
             [
              0.6666666666666666,
              "#ed7953"
             ],
             [
              0.7777777777777778,
              "#fb9f3a"
             ],
             [
              0.8888888888888888,
              "#fdca26"
             ],
             [
              1,
              "#f0f921"
             ]
            ],
            "type": "contour"
           }
          ],
          "contourcarpet": [
           {
            "colorbar": {
             "outlinewidth": 0,
             "ticks": ""
            },
            "type": "contourcarpet"
           }
          ],
          "heatmap": [
           {
            "colorbar": {
             "outlinewidth": 0,
             "ticks": ""
            },
            "colorscale": [
             [
              0,
              "#0d0887"
             ],
             [
              0.1111111111111111,
              "#46039f"
             ],
             [
              0.2222222222222222,
              "#7201a8"
             ],
             [
              0.3333333333333333,
              "#9c179e"
             ],
             [
              0.4444444444444444,
              "#bd3786"
             ],
             [
              0.5555555555555556,
              "#d8576b"
             ],
             [
              0.6666666666666666,
              "#ed7953"
             ],
             [
              0.7777777777777778,
              "#fb9f3a"
             ],
             [
              0.8888888888888888,
              "#fdca26"
             ],
             [
              1,
              "#f0f921"
             ]
            ],
            "type": "heatmap"
           }
          ],
          "heatmapgl": [
           {
            "colorbar": {
             "outlinewidth": 0,
             "ticks": ""
            },
            "colorscale": [
             [
              0,
              "#0d0887"
             ],
             [
              0.1111111111111111,
              "#46039f"
             ],
             [
              0.2222222222222222,
              "#7201a8"
             ],
             [
              0.3333333333333333,
              "#9c179e"
             ],
             [
              0.4444444444444444,
              "#bd3786"
             ],
             [
              0.5555555555555556,
              "#d8576b"
             ],
             [
              0.6666666666666666,
              "#ed7953"
             ],
             [
              0.7777777777777778,
              "#fb9f3a"
             ],
             [
              0.8888888888888888,
              "#fdca26"
             ],
             [
              1,
              "#f0f921"
             ]
            ],
            "type": "heatmapgl"
           }
          ],
          "histogram": [
           {
            "marker": {
             "pattern": {
              "fillmode": "overlay",
              "size": 10,
              "solidity": 0.2
             }
            },
            "type": "histogram"
           }
          ],
          "histogram2d": [
           {
            "colorbar": {
             "outlinewidth": 0,
             "ticks": ""
            },
            "colorscale": [
             [
              0,
              "#0d0887"
             ],
             [
              0.1111111111111111,
              "#46039f"
             ],
             [
              0.2222222222222222,
              "#7201a8"
             ],
             [
              0.3333333333333333,
              "#9c179e"
             ],
             [
              0.4444444444444444,
              "#bd3786"
             ],
             [
              0.5555555555555556,
              "#d8576b"
             ],
             [
              0.6666666666666666,
              "#ed7953"
             ],
             [
              0.7777777777777778,
              "#fb9f3a"
             ],
             [
              0.8888888888888888,
              "#fdca26"
             ],
             [
              1,
              "#f0f921"
             ]
            ],
            "type": "histogram2d"
           }
          ],
          "histogram2dcontour": [
           {
            "colorbar": {
             "outlinewidth": 0,
             "ticks": ""
            },
            "colorscale": [
             [
              0,
              "#0d0887"
             ],
             [
              0.1111111111111111,
              "#46039f"
             ],
             [
              0.2222222222222222,
              "#7201a8"
             ],
             [
              0.3333333333333333,
              "#9c179e"
             ],
             [
              0.4444444444444444,
              "#bd3786"
             ],
             [
              0.5555555555555556,
              "#d8576b"
             ],
             [
              0.6666666666666666,
              "#ed7953"
             ],
             [
              0.7777777777777778,
              "#fb9f3a"
             ],
             [
              0.8888888888888888,
              "#fdca26"
             ],
             [
              1,
              "#f0f921"
             ]
            ],
            "type": "histogram2dcontour"
           }
          ],
          "mesh3d": [
           {
            "colorbar": {
             "outlinewidth": 0,
             "ticks": ""
            },
            "type": "mesh3d"
           }
          ],
          "parcoords": [
           {
            "line": {
             "colorbar": {
              "outlinewidth": 0,
              "ticks": ""
             }
            },
            "type": "parcoords"
           }
          ],
          "pie": [
           {
            "automargin": true,
            "type": "pie"
           }
          ],
          "scatter": [
           {
            "fillpattern": {
             "fillmode": "overlay",
             "size": 10,
             "solidity": 0.2
            },
            "type": "scatter"
           }
          ],
          "scatter3d": [
           {
            "line": {
             "colorbar": {
              "outlinewidth": 0,
              "ticks": ""
             }
            },
            "marker": {
             "colorbar": {
              "outlinewidth": 0,
              "ticks": ""
             }
            },
            "type": "scatter3d"
           }
          ],
          "scattercarpet": [
           {
            "marker": {
             "colorbar": {
              "outlinewidth": 0,
              "ticks": ""
             }
            },
            "type": "scattercarpet"
           }
          ],
          "scattergeo": [
           {
            "marker": {
             "colorbar": {
              "outlinewidth": 0,
              "ticks": ""
             }
            },
            "type": "scattergeo"
           }
          ],
          "scattergl": [
           {
            "marker": {
             "colorbar": {
              "outlinewidth": 0,
              "ticks": ""
             }
            },
            "type": "scattergl"
           }
          ],
          "scattermapbox": [
           {
            "marker": {
             "colorbar": {
              "outlinewidth": 0,
              "ticks": ""
             }
            },
            "type": "scattermapbox"
           }
          ],
          "scatterpolar": [
           {
            "marker": {
             "colorbar": {
              "outlinewidth": 0,
              "ticks": ""
             }
            },
            "type": "scatterpolar"
           }
          ],
          "scatterpolargl": [
           {
            "marker": {
             "colorbar": {
              "outlinewidth": 0,
              "ticks": ""
             }
            },
            "type": "scatterpolargl"
           }
          ],
          "scatterternary": [
           {
            "marker": {
             "colorbar": {
              "outlinewidth": 0,
              "ticks": ""
             }
            },
            "type": "scatterternary"
           }
          ],
          "surface": [
           {
            "colorbar": {
             "outlinewidth": 0,
             "ticks": ""
            },
            "colorscale": [
             [
              0,
              "#0d0887"
             ],
             [
              0.1111111111111111,
              "#46039f"
             ],
             [
              0.2222222222222222,
              "#7201a8"
             ],
             [
              0.3333333333333333,
              "#9c179e"
             ],
             [
              0.4444444444444444,
              "#bd3786"
             ],
             [
              0.5555555555555556,
              "#d8576b"
             ],
             [
              0.6666666666666666,
              "#ed7953"
             ],
             [
              0.7777777777777778,
              "#fb9f3a"
             ],
             [
              0.8888888888888888,
              "#fdca26"
             ],
             [
              1,
              "#f0f921"
             ]
            ],
            "type": "surface"
           }
          ],
          "table": [
           {
            "cells": {
             "fill": {
              "color": "#EBF0F8"
             },
             "line": {
              "color": "white"
             }
            },
            "header": {
             "fill": {
              "color": "#C8D4E3"
             },
             "line": {
              "color": "white"
             }
            },
            "type": "table"
           }
          ]
         },
         "layout": {
          "annotationdefaults": {
           "arrowcolor": "#2a3f5f",
           "arrowhead": 0,
           "arrowwidth": 1
          },
          "autotypenumbers": "strict",
          "coloraxis": {
           "colorbar": {
            "outlinewidth": 0,
            "ticks": ""
           }
          },
          "colorscale": {
           "diverging": [
            [
             0,
             "#8e0152"
            ],
            [
             0.1,
             "#c51b7d"
            ],
            [
             0.2,
             "#de77ae"
            ],
            [
             0.3,
             "#f1b6da"
            ],
            [
             0.4,
             "#fde0ef"
            ],
            [
             0.5,
             "#f7f7f7"
            ],
            [
             0.6,
             "#e6f5d0"
            ],
            [
             0.7,
             "#b8e186"
            ],
            [
             0.8,
             "#7fbc41"
            ],
            [
             0.9,
             "#4d9221"
            ],
            [
             1,
             "#276419"
            ]
           ],
           "sequential": [
            [
             0,
             "#0d0887"
            ],
            [
             0.1111111111111111,
             "#46039f"
            ],
            [
             0.2222222222222222,
             "#7201a8"
            ],
            [
             0.3333333333333333,
             "#9c179e"
            ],
            [
             0.4444444444444444,
             "#bd3786"
            ],
            [
             0.5555555555555556,
             "#d8576b"
            ],
            [
             0.6666666666666666,
             "#ed7953"
            ],
            [
             0.7777777777777778,
             "#fb9f3a"
            ],
            [
             0.8888888888888888,
             "#fdca26"
            ],
            [
             1,
             "#f0f921"
            ]
           ],
           "sequentialminus": [
            [
             0,
             "#0d0887"
            ],
            [
             0.1111111111111111,
             "#46039f"
            ],
            [
             0.2222222222222222,
             "#7201a8"
            ],
            [
             0.3333333333333333,
             "#9c179e"
            ],
            [
             0.4444444444444444,
             "#bd3786"
            ],
            [
             0.5555555555555556,
             "#d8576b"
            ],
            [
             0.6666666666666666,
             "#ed7953"
            ],
            [
             0.7777777777777778,
             "#fb9f3a"
            ],
            [
             0.8888888888888888,
             "#fdca26"
            ],
            [
             1,
             "#f0f921"
            ]
           ]
          },
          "colorway": [
           "#636efa",
           "#EF553B",
           "#00cc96",
           "#ab63fa",
           "#FFA15A",
           "#19d3f3",
           "#FF6692",
           "#B6E880",
           "#FF97FF",
           "#FECB52"
          ],
          "font": {
           "color": "#2a3f5f"
          },
          "geo": {
           "bgcolor": "white",
           "lakecolor": "white",
           "landcolor": "#E5ECF6",
           "showlakes": true,
           "showland": true,
           "subunitcolor": "white"
          },
          "hoverlabel": {
           "align": "left"
          },
          "hovermode": "closest",
          "mapbox": {
           "style": "light"
          },
          "paper_bgcolor": "white",
          "plot_bgcolor": "#E5ECF6",
          "polar": {
           "angularaxis": {
            "gridcolor": "white",
            "linecolor": "white",
            "ticks": ""
           },
           "bgcolor": "#E5ECF6",
           "radialaxis": {
            "gridcolor": "white",
            "linecolor": "white",
            "ticks": ""
           }
          },
          "scene": {
           "xaxis": {
            "backgroundcolor": "#E5ECF6",
            "gridcolor": "white",
            "gridwidth": 2,
            "linecolor": "white",
            "showbackground": true,
            "ticks": "",
            "zerolinecolor": "white"
           },
           "yaxis": {
            "backgroundcolor": "#E5ECF6",
            "gridcolor": "white",
            "gridwidth": 2,
            "linecolor": "white",
            "showbackground": true,
            "ticks": "",
            "zerolinecolor": "white"
           },
           "zaxis": {
            "backgroundcolor": "#E5ECF6",
            "gridcolor": "white",
            "gridwidth": 2,
            "linecolor": "white",
            "showbackground": true,
            "ticks": "",
            "zerolinecolor": "white"
           }
          },
          "shapedefaults": {
           "line": {
            "color": "#2a3f5f"
           }
          },
          "ternary": {
           "aaxis": {
            "gridcolor": "white",
            "linecolor": "white",
            "ticks": ""
           },
           "baxis": {
            "gridcolor": "white",
            "linecolor": "white",
            "ticks": ""
           },
           "bgcolor": "#E5ECF6",
           "caxis": {
            "gridcolor": "white",
            "linecolor": "white",
            "ticks": ""
           }
          },
          "title": {
           "x": 0.05
          },
          "xaxis": {
           "automargin": true,
           "gridcolor": "white",
           "linecolor": "white",
           "ticks": "",
           "title": {
            "standoff": 15
           },
           "zerolinecolor": "white",
           "zerolinewidth": 2
          },
          "yaxis": {
           "automargin": true,
           "gridcolor": "white",
           "linecolor": "white",
           "ticks": "",
           "title": {
            "standoff": 15
           },
           "zerolinecolor": "white",
           "zerolinewidth": 2
          }
         }
        },
        "width": 1200
       }
      }
     },
     "metadata": {},
     "output_type": "display_data"
    }
   ],
   "source": [
    "correlation_table(df_Y_first_half, mode = \"Land\", html_elements_color=html_elements_color).show()\n",
    "correlation_table(df_Y_second_half, mode = \"Land\", html_elements_color=html_elements_color).show()"
   ]
  },
  {
   "cell_type": "markdown",
   "metadata": {},
   "source": [
    "### Quartalsebene"
   ]
  },
  {
   "cell_type": "code",
   "execution_count": 9,
   "metadata": {},
   "outputs": [
    {
     "data": {
      "application/vnd.plotly.v1+json": {
       "config": {
        "plotlyServerURL": "https://plot.ly"
       },
       "data": [
        {
         "cells": {
          "fill": {
           "color": [
            "#555555",
            "#2e5618",
            "#2e5618",
            "#2e5618",
            "#2e5618",
            "#b14831",
            "#2e5618",
            "#2e5618",
            "#4e4d4c",
            "#2e5618",
            "#2e5618",
            "#2e5618",
            "#4e4d4c",
            "#b14831",
            "#b14831"
           ]
          },
          "font": {
           "color": "white",
           "size": 12
          },
          "values": [
           [
            "Korrelationskoeffizient<br>BIP/Energieverbrauch"
           ],
           [
            -0.236
           ],
           [
            -0.491
           ],
           [
            -0.335
           ],
           [
            -0.274
           ],
           [
            0.377
           ],
           [
            -0.304
           ],
           [
            -0.234
           ],
           [
            0.026
           ],
           [
            -0.225
           ],
           [
            -0.286
           ],
           [
            -0.311
           ],
           [
            0.087
           ],
           [
            0.363
           ],
           [
            0.515
           ]
          ]
         },
         "columnwidth": [
          190,
          90,
          90,
          90,
          90,
          90,
          90,
          90,
          90,
          90,
          90,
          90,
          90,
          90,
          90
         ],
         "header": {
          "fill": {
           "color": "#001124"
          },
          "font": {
           "color": "white",
           "size": 12
          },
          "values": [
           "Land",
           "Austria",
           "Belgium",
           "Bulgaria",
           "Croatia",
           "Cyprus",
           "Czechia",
           "Denmark",
           "Estonia",
           "Finland",
           "France",
           "Germany",
           "Greece",
           "Hungary",
           "Ireland"
          ]
         },
         "type": "table"
        }
       ],
       "layout": {
        "height": 80,
        "margin": {
         "b": 5,
         "l": 5,
         "r": 5,
         "t": 5
        },
        "template": {
         "data": {
          "bar": [
           {
            "error_x": {
             "color": "#2a3f5f"
            },
            "error_y": {
             "color": "#2a3f5f"
            },
            "marker": {
             "line": {
              "color": "#E5ECF6",
              "width": 0.5
             },
             "pattern": {
              "fillmode": "overlay",
              "size": 10,
              "solidity": 0.2
             }
            },
            "type": "bar"
           }
          ],
          "barpolar": [
           {
            "marker": {
             "line": {
              "color": "#E5ECF6",
              "width": 0.5
             },
             "pattern": {
              "fillmode": "overlay",
              "size": 10,
              "solidity": 0.2
             }
            },
            "type": "barpolar"
           }
          ],
          "carpet": [
           {
            "aaxis": {
             "endlinecolor": "#2a3f5f",
             "gridcolor": "white",
             "linecolor": "white",
             "minorgridcolor": "white",
             "startlinecolor": "#2a3f5f"
            },
            "baxis": {
             "endlinecolor": "#2a3f5f",
             "gridcolor": "white",
             "linecolor": "white",
             "minorgridcolor": "white",
             "startlinecolor": "#2a3f5f"
            },
            "type": "carpet"
           }
          ],
          "choropleth": [
           {
            "colorbar": {
             "outlinewidth": 0,
             "ticks": ""
            },
            "type": "choropleth"
           }
          ],
          "contour": [
           {
            "colorbar": {
             "outlinewidth": 0,
             "ticks": ""
            },
            "colorscale": [
             [
              0,
              "#0d0887"
             ],
             [
              0.1111111111111111,
              "#46039f"
             ],
             [
              0.2222222222222222,
              "#7201a8"
             ],
             [
              0.3333333333333333,
              "#9c179e"
             ],
             [
              0.4444444444444444,
              "#bd3786"
             ],
             [
              0.5555555555555556,
              "#d8576b"
             ],
             [
              0.6666666666666666,
              "#ed7953"
             ],
             [
              0.7777777777777778,
              "#fb9f3a"
             ],
             [
              0.8888888888888888,
              "#fdca26"
             ],
             [
              1,
              "#f0f921"
             ]
            ],
            "type": "contour"
           }
          ],
          "contourcarpet": [
           {
            "colorbar": {
             "outlinewidth": 0,
             "ticks": ""
            },
            "type": "contourcarpet"
           }
          ],
          "heatmap": [
           {
            "colorbar": {
             "outlinewidth": 0,
             "ticks": ""
            },
            "colorscale": [
             [
              0,
              "#0d0887"
             ],
             [
              0.1111111111111111,
              "#46039f"
             ],
             [
              0.2222222222222222,
              "#7201a8"
             ],
             [
              0.3333333333333333,
              "#9c179e"
             ],
             [
              0.4444444444444444,
              "#bd3786"
             ],
             [
              0.5555555555555556,
              "#d8576b"
             ],
             [
              0.6666666666666666,
              "#ed7953"
             ],
             [
              0.7777777777777778,
              "#fb9f3a"
             ],
             [
              0.8888888888888888,
              "#fdca26"
             ],
             [
              1,
              "#f0f921"
             ]
            ],
            "type": "heatmap"
           }
          ],
          "heatmapgl": [
           {
            "colorbar": {
             "outlinewidth": 0,
             "ticks": ""
            },
            "colorscale": [
             [
              0,
              "#0d0887"
             ],
             [
              0.1111111111111111,
              "#46039f"
             ],
             [
              0.2222222222222222,
              "#7201a8"
             ],
             [
              0.3333333333333333,
              "#9c179e"
             ],
             [
              0.4444444444444444,
              "#bd3786"
             ],
             [
              0.5555555555555556,
              "#d8576b"
             ],
             [
              0.6666666666666666,
              "#ed7953"
             ],
             [
              0.7777777777777778,
              "#fb9f3a"
             ],
             [
              0.8888888888888888,
              "#fdca26"
             ],
             [
              1,
              "#f0f921"
             ]
            ],
            "type": "heatmapgl"
           }
          ],
          "histogram": [
           {
            "marker": {
             "pattern": {
              "fillmode": "overlay",
              "size": 10,
              "solidity": 0.2
             }
            },
            "type": "histogram"
           }
          ],
          "histogram2d": [
           {
            "colorbar": {
             "outlinewidth": 0,
             "ticks": ""
            },
            "colorscale": [
             [
              0,
              "#0d0887"
             ],
             [
              0.1111111111111111,
              "#46039f"
             ],
             [
              0.2222222222222222,
              "#7201a8"
             ],
             [
              0.3333333333333333,
              "#9c179e"
             ],
             [
              0.4444444444444444,
              "#bd3786"
             ],
             [
              0.5555555555555556,
              "#d8576b"
             ],
             [
              0.6666666666666666,
              "#ed7953"
             ],
             [
              0.7777777777777778,
              "#fb9f3a"
             ],
             [
              0.8888888888888888,
              "#fdca26"
             ],
             [
              1,
              "#f0f921"
             ]
            ],
            "type": "histogram2d"
           }
          ],
          "histogram2dcontour": [
           {
            "colorbar": {
             "outlinewidth": 0,
             "ticks": ""
            },
            "colorscale": [
             [
              0,
              "#0d0887"
             ],
             [
              0.1111111111111111,
              "#46039f"
             ],
             [
              0.2222222222222222,
              "#7201a8"
             ],
             [
              0.3333333333333333,
              "#9c179e"
             ],
             [
              0.4444444444444444,
              "#bd3786"
             ],
             [
              0.5555555555555556,
              "#d8576b"
             ],
             [
              0.6666666666666666,
              "#ed7953"
             ],
             [
              0.7777777777777778,
              "#fb9f3a"
             ],
             [
              0.8888888888888888,
              "#fdca26"
             ],
             [
              1,
              "#f0f921"
             ]
            ],
            "type": "histogram2dcontour"
           }
          ],
          "mesh3d": [
           {
            "colorbar": {
             "outlinewidth": 0,
             "ticks": ""
            },
            "type": "mesh3d"
           }
          ],
          "parcoords": [
           {
            "line": {
             "colorbar": {
              "outlinewidth": 0,
              "ticks": ""
             }
            },
            "type": "parcoords"
           }
          ],
          "pie": [
           {
            "automargin": true,
            "type": "pie"
           }
          ],
          "scatter": [
           {
            "fillpattern": {
             "fillmode": "overlay",
             "size": 10,
             "solidity": 0.2
            },
            "type": "scatter"
           }
          ],
          "scatter3d": [
           {
            "line": {
             "colorbar": {
              "outlinewidth": 0,
              "ticks": ""
             }
            },
            "marker": {
             "colorbar": {
              "outlinewidth": 0,
              "ticks": ""
             }
            },
            "type": "scatter3d"
           }
          ],
          "scattercarpet": [
           {
            "marker": {
             "colorbar": {
              "outlinewidth": 0,
              "ticks": ""
             }
            },
            "type": "scattercarpet"
           }
          ],
          "scattergeo": [
           {
            "marker": {
             "colorbar": {
              "outlinewidth": 0,
              "ticks": ""
             }
            },
            "type": "scattergeo"
           }
          ],
          "scattergl": [
           {
            "marker": {
             "colorbar": {
              "outlinewidth": 0,
              "ticks": ""
             }
            },
            "type": "scattergl"
           }
          ],
          "scattermapbox": [
           {
            "marker": {
             "colorbar": {
              "outlinewidth": 0,
              "ticks": ""
             }
            },
            "type": "scattermapbox"
           }
          ],
          "scatterpolar": [
           {
            "marker": {
             "colorbar": {
              "outlinewidth": 0,
              "ticks": ""
             }
            },
            "type": "scatterpolar"
           }
          ],
          "scatterpolargl": [
           {
            "marker": {
             "colorbar": {
              "outlinewidth": 0,
              "ticks": ""
             }
            },
            "type": "scatterpolargl"
           }
          ],
          "scatterternary": [
           {
            "marker": {
             "colorbar": {
              "outlinewidth": 0,
              "ticks": ""
             }
            },
            "type": "scatterternary"
           }
          ],
          "surface": [
           {
            "colorbar": {
             "outlinewidth": 0,
             "ticks": ""
            },
            "colorscale": [
             [
              0,
              "#0d0887"
             ],
             [
              0.1111111111111111,
              "#46039f"
             ],
             [
              0.2222222222222222,
              "#7201a8"
             ],
             [
              0.3333333333333333,
              "#9c179e"
             ],
             [
              0.4444444444444444,
              "#bd3786"
             ],
             [
              0.5555555555555556,
              "#d8576b"
             ],
             [
              0.6666666666666666,
              "#ed7953"
             ],
             [
              0.7777777777777778,
              "#fb9f3a"
             ],
             [
              0.8888888888888888,
              "#fdca26"
             ],
             [
              1,
              "#f0f921"
             ]
            ],
            "type": "surface"
           }
          ],
          "table": [
           {
            "cells": {
             "fill": {
              "color": "#EBF0F8"
             },
             "line": {
              "color": "white"
             }
            },
            "header": {
             "fill": {
              "color": "#C8D4E3"
             },
             "line": {
              "color": "white"
             }
            },
            "type": "table"
           }
          ]
         },
         "layout": {
          "annotationdefaults": {
           "arrowcolor": "#2a3f5f",
           "arrowhead": 0,
           "arrowwidth": 1
          },
          "autotypenumbers": "strict",
          "coloraxis": {
           "colorbar": {
            "outlinewidth": 0,
            "ticks": ""
           }
          },
          "colorscale": {
           "diverging": [
            [
             0,
             "#8e0152"
            ],
            [
             0.1,
             "#c51b7d"
            ],
            [
             0.2,
             "#de77ae"
            ],
            [
             0.3,
             "#f1b6da"
            ],
            [
             0.4,
             "#fde0ef"
            ],
            [
             0.5,
             "#f7f7f7"
            ],
            [
             0.6,
             "#e6f5d0"
            ],
            [
             0.7,
             "#b8e186"
            ],
            [
             0.8,
             "#7fbc41"
            ],
            [
             0.9,
             "#4d9221"
            ],
            [
             1,
             "#276419"
            ]
           ],
           "sequential": [
            [
             0,
             "#0d0887"
            ],
            [
             0.1111111111111111,
             "#46039f"
            ],
            [
             0.2222222222222222,
             "#7201a8"
            ],
            [
             0.3333333333333333,
             "#9c179e"
            ],
            [
             0.4444444444444444,
             "#bd3786"
            ],
            [
             0.5555555555555556,
             "#d8576b"
            ],
            [
             0.6666666666666666,
             "#ed7953"
            ],
            [
             0.7777777777777778,
             "#fb9f3a"
            ],
            [
             0.8888888888888888,
             "#fdca26"
            ],
            [
             1,
             "#f0f921"
            ]
           ],
           "sequentialminus": [
            [
             0,
             "#0d0887"
            ],
            [
             0.1111111111111111,
             "#46039f"
            ],
            [
             0.2222222222222222,
             "#7201a8"
            ],
            [
             0.3333333333333333,
             "#9c179e"
            ],
            [
             0.4444444444444444,
             "#bd3786"
            ],
            [
             0.5555555555555556,
             "#d8576b"
            ],
            [
             0.6666666666666666,
             "#ed7953"
            ],
            [
             0.7777777777777778,
             "#fb9f3a"
            ],
            [
             0.8888888888888888,
             "#fdca26"
            ],
            [
             1,
             "#f0f921"
            ]
           ]
          },
          "colorway": [
           "#636efa",
           "#EF553B",
           "#00cc96",
           "#ab63fa",
           "#FFA15A",
           "#19d3f3",
           "#FF6692",
           "#B6E880",
           "#FF97FF",
           "#FECB52"
          ],
          "font": {
           "color": "#2a3f5f"
          },
          "geo": {
           "bgcolor": "white",
           "lakecolor": "white",
           "landcolor": "#E5ECF6",
           "showlakes": true,
           "showland": true,
           "subunitcolor": "white"
          },
          "hoverlabel": {
           "align": "left"
          },
          "hovermode": "closest",
          "mapbox": {
           "style": "light"
          },
          "paper_bgcolor": "white",
          "plot_bgcolor": "#E5ECF6",
          "polar": {
           "angularaxis": {
            "gridcolor": "white",
            "linecolor": "white",
            "ticks": ""
           },
           "bgcolor": "#E5ECF6",
           "radialaxis": {
            "gridcolor": "white",
            "linecolor": "white",
            "ticks": ""
           }
          },
          "scene": {
           "xaxis": {
            "backgroundcolor": "#E5ECF6",
            "gridcolor": "white",
            "gridwidth": 2,
            "linecolor": "white",
            "showbackground": true,
            "ticks": "",
            "zerolinecolor": "white"
           },
           "yaxis": {
            "backgroundcolor": "#E5ECF6",
            "gridcolor": "white",
            "gridwidth": 2,
            "linecolor": "white",
            "showbackground": true,
            "ticks": "",
            "zerolinecolor": "white"
           },
           "zaxis": {
            "backgroundcolor": "#E5ECF6",
            "gridcolor": "white",
            "gridwidth": 2,
            "linecolor": "white",
            "showbackground": true,
            "ticks": "",
            "zerolinecolor": "white"
           }
          },
          "shapedefaults": {
           "line": {
            "color": "#2a3f5f"
           }
          },
          "ternary": {
           "aaxis": {
            "gridcolor": "white",
            "linecolor": "white",
            "ticks": ""
           },
           "baxis": {
            "gridcolor": "white",
            "linecolor": "white",
            "ticks": ""
           },
           "bgcolor": "#E5ECF6",
           "caxis": {
            "gridcolor": "white",
            "linecolor": "white",
            "ticks": ""
           }
          },
          "title": {
           "x": 0.05
          },
          "xaxis": {
           "automargin": true,
           "gridcolor": "white",
           "linecolor": "white",
           "ticks": "",
           "title": {
            "standoff": 15
           },
           "zerolinecolor": "white",
           "zerolinewidth": 2
          },
          "yaxis": {
           "automargin": true,
           "gridcolor": "white",
           "linecolor": "white",
           "ticks": "",
           "title": {
            "standoff": 15
           },
           "zerolinecolor": "white",
           "zerolinewidth": 2
          }
         }
        },
        "width": 1200
       }
      }
     },
     "metadata": {},
     "output_type": "display_data"
    },
    {
     "data": {
      "application/vnd.plotly.v1+json": {
       "config": {
        "plotlyServerURL": "https://plot.ly"
       },
       "data": [
        {
         "cells": {
          "fill": {
           "color": [
            "#555555",
            "#4e4d4c",
            "#4e4d4c",
            "#4e4d4c",
            "#2e5618",
            "#b14831",
            "#2e5618",
            "#4e4d4c",
            "#b14831",
            "#b14831",
            "#4e4d4c",
            "#4e4d4c",
            "#2e5618",
            "#2e5618",
            "#2e5618",
            "#b14831"
           ]
          },
          "font": {
           "color": "white",
           "size": 12
          },
          "values": [
           [
            "Korrelationskoeffizient<br>BIP/Energieverbrauch"
           ],
           [
            -0.188
           ],
           [
            -0.17
           ],
           [
            0.199
           ],
           [
            -0.248
           ],
           [
            0.743
           ],
           [
            -0.224
           ],
           [
            0.095
           ],
           [
            0.43
           ],
           [
            0.347
           ],
           [
            0.016
           ],
           [
            -0.168
           ],
           [
            -0.461
           ],
           [
            -0.653
           ],
           [
            -0.208
           ],
           [
            0.582
           ]
          ]
         },
         "columnwidth": [
          190,
          90,
          90,
          90,
          90,
          90,
          90,
          90,
          90,
          90,
          90,
          90,
          90,
          90,
          90,
          90
         ],
         "header": {
          "fill": {
           "color": "#001124"
          },
          "font": {
           "color": "white",
           "size": 12
          },
          "values": [
           "Land",
           "Italy",
           "Latvia",
           "Lithuania",
           "Luxembourg",
           "Malta",
           "Netherlands",
           "Norway",
           "Poland",
           "Portugal",
           "Romania",
           "Slovakia",
           "Slovenia",
           "Spain",
           "Sweden",
           "Türkiye"
          ]
         },
         "type": "table"
        }
       ],
       "layout": {
        "height": 80,
        "margin": {
         "b": 5,
         "l": 5,
         "r": 5,
         "t": 5
        },
        "template": {
         "data": {
          "bar": [
           {
            "error_x": {
             "color": "#2a3f5f"
            },
            "error_y": {
             "color": "#2a3f5f"
            },
            "marker": {
             "line": {
              "color": "#E5ECF6",
              "width": 0.5
             },
             "pattern": {
              "fillmode": "overlay",
              "size": 10,
              "solidity": 0.2
             }
            },
            "type": "bar"
           }
          ],
          "barpolar": [
           {
            "marker": {
             "line": {
              "color": "#E5ECF6",
              "width": 0.5
             },
             "pattern": {
              "fillmode": "overlay",
              "size": 10,
              "solidity": 0.2
             }
            },
            "type": "barpolar"
           }
          ],
          "carpet": [
           {
            "aaxis": {
             "endlinecolor": "#2a3f5f",
             "gridcolor": "white",
             "linecolor": "white",
             "minorgridcolor": "white",
             "startlinecolor": "#2a3f5f"
            },
            "baxis": {
             "endlinecolor": "#2a3f5f",
             "gridcolor": "white",
             "linecolor": "white",
             "minorgridcolor": "white",
             "startlinecolor": "#2a3f5f"
            },
            "type": "carpet"
           }
          ],
          "choropleth": [
           {
            "colorbar": {
             "outlinewidth": 0,
             "ticks": ""
            },
            "type": "choropleth"
           }
          ],
          "contour": [
           {
            "colorbar": {
             "outlinewidth": 0,
             "ticks": ""
            },
            "colorscale": [
             [
              0,
              "#0d0887"
             ],
             [
              0.1111111111111111,
              "#46039f"
             ],
             [
              0.2222222222222222,
              "#7201a8"
             ],
             [
              0.3333333333333333,
              "#9c179e"
             ],
             [
              0.4444444444444444,
              "#bd3786"
             ],
             [
              0.5555555555555556,
              "#d8576b"
             ],
             [
              0.6666666666666666,
              "#ed7953"
             ],
             [
              0.7777777777777778,
              "#fb9f3a"
             ],
             [
              0.8888888888888888,
              "#fdca26"
             ],
             [
              1,
              "#f0f921"
             ]
            ],
            "type": "contour"
           }
          ],
          "contourcarpet": [
           {
            "colorbar": {
             "outlinewidth": 0,
             "ticks": ""
            },
            "type": "contourcarpet"
           }
          ],
          "heatmap": [
           {
            "colorbar": {
             "outlinewidth": 0,
             "ticks": ""
            },
            "colorscale": [
             [
              0,
              "#0d0887"
             ],
             [
              0.1111111111111111,
              "#46039f"
             ],
             [
              0.2222222222222222,
              "#7201a8"
             ],
             [
              0.3333333333333333,
              "#9c179e"
             ],
             [
              0.4444444444444444,
              "#bd3786"
             ],
             [
              0.5555555555555556,
              "#d8576b"
             ],
             [
              0.6666666666666666,
              "#ed7953"
             ],
             [
              0.7777777777777778,
              "#fb9f3a"
             ],
             [
              0.8888888888888888,
              "#fdca26"
             ],
             [
              1,
              "#f0f921"
             ]
            ],
            "type": "heatmap"
           }
          ],
          "heatmapgl": [
           {
            "colorbar": {
             "outlinewidth": 0,
             "ticks": ""
            },
            "colorscale": [
             [
              0,
              "#0d0887"
             ],
             [
              0.1111111111111111,
              "#46039f"
             ],
             [
              0.2222222222222222,
              "#7201a8"
             ],
             [
              0.3333333333333333,
              "#9c179e"
             ],
             [
              0.4444444444444444,
              "#bd3786"
             ],
             [
              0.5555555555555556,
              "#d8576b"
             ],
             [
              0.6666666666666666,
              "#ed7953"
             ],
             [
              0.7777777777777778,
              "#fb9f3a"
             ],
             [
              0.8888888888888888,
              "#fdca26"
             ],
             [
              1,
              "#f0f921"
             ]
            ],
            "type": "heatmapgl"
           }
          ],
          "histogram": [
           {
            "marker": {
             "pattern": {
              "fillmode": "overlay",
              "size": 10,
              "solidity": 0.2
             }
            },
            "type": "histogram"
           }
          ],
          "histogram2d": [
           {
            "colorbar": {
             "outlinewidth": 0,
             "ticks": ""
            },
            "colorscale": [
             [
              0,
              "#0d0887"
             ],
             [
              0.1111111111111111,
              "#46039f"
             ],
             [
              0.2222222222222222,
              "#7201a8"
             ],
             [
              0.3333333333333333,
              "#9c179e"
             ],
             [
              0.4444444444444444,
              "#bd3786"
             ],
             [
              0.5555555555555556,
              "#d8576b"
             ],
             [
              0.6666666666666666,
              "#ed7953"
             ],
             [
              0.7777777777777778,
              "#fb9f3a"
             ],
             [
              0.8888888888888888,
              "#fdca26"
             ],
             [
              1,
              "#f0f921"
             ]
            ],
            "type": "histogram2d"
           }
          ],
          "histogram2dcontour": [
           {
            "colorbar": {
             "outlinewidth": 0,
             "ticks": ""
            },
            "colorscale": [
             [
              0,
              "#0d0887"
             ],
             [
              0.1111111111111111,
              "#46039f"
             ],
             [
              0.2222222222222222,
              "#7201a8"
             ],
             [
              0.3333333333333333,
              "#9c179e"
             ],
             [
              0.4444444444444444,
              "#bd3786"
             ],
             [
              0.5555555555555556,
              "#d8576b"
             ],
             [
              0.6666666666666666,
              "#ed7953"
             ],
             [
              0.7777777777777778,
              "#fb9f3a"
             ],
             [
              0.8888888888888888,
              "#fdca26"
             ],
             [
              1,
              "#f0f921"
             ]
            ],
            "type": "histogram2dcontour"
           }
          ],
          "mesh3d": [
           {
            "colorbar": {
             "outlinewidth": 0,
             "ticks": ""
            },
            "type": "mesh3d"
           }
          ],
          "parcoords": [
           {
            "line": {
             "colorbar": {
              "outlinewidth": 0,
              "ticks": ""
             }
            },
            "type": "parcoords"
           }
          ],
          "pie": [
           {
            "automargin": true,
            "type": "pie"
           }
          ],
          "scatter": [
           {
            "fillpattern": {
             "fillmode": "overlay",
             "size": 10,
             "solidity": 0.2
            },
            "type": "scatter"
           }
          ],
          "scatter3d": [
           {
            "line": {
             "colorbar": {
              "outlinewidth": 0,
              "ticks": ""
             }
            },
            "marker": {
             "colorbar": {
              "outlinewidth": 0,
              "ticks": ""
             }
            },
            "type": "scatter3d"
           }
          ],
          "scattercarpet": [
           {
            "marker": {
             "colorbar": {
              "outlinewidth": 0,
              "ticks": ""
             }
            },
            "type": "scattercarpet"
           }
          ],
          "scattergeo": [
           {
            "marker": {
             "colorbar": {
              "outlinewidth": 0,
              "ticks": ""
             }
            },
            "type": "scattergeo"
           }
          ],
          "scattergl": [
           {
            "marker": {
             "colorbar": {
              "outlinewidth": 0,
              "ticks": ""
             }
            },
            "type": "scattergl"
           }
          ],
          "scattermapbox": [
           {
            "marker": {
             "colorbar": {
              "outlinewidth": 0,
              "ticks": ""
             }
            },
            "type": "scattermapbox"
           }
          ],
          "scatterpolar": [
           {
            "marker": {
             "colorbar": {
              "outlinewidth": 0,
              "ticks": ""
             }
            },
            "type": "scatterpolar"
           }
          ],
          "scatterpolargl": [
           {
            "marker": {
             "colorbar": {
              "outlinewidth": 0,
              "ticks": ""
             }
            },
            "type": "scatterpolargl"
           }
          ],
          "scatterternary": [
           {
            "marker": {
             "colorbar": {
              "outlinewidth": 0,
              "ticks": ""
             }
            },
            "type": "scatterternary"
           }
          ],
          "surface": [
           {
            "colorbar": {
             "outlinewidth": 0,
             "ticks": ""
            },
            "colorscale": [
             [
              0,
              "#0d0887"
             ],
             [
              0.1111111111111111,
              "#46039f"
             ],
             [
              0.2222222222222222,
              "#7201a8"
             ],
             [
              0.3333333333333333,
              "#9c179e"
             ],
             [
              0.4444444444444444,
              "#bd3786"
             ],
             [
              0.5555555555555556,
              "#d8576b"
             ],
             [
              0.6666666666666666,
              "#ed7953"
             ],
             [
              0.7777777777777778,
              "#fb9f3a"
             ],
             [
              0.8888888888888888,
              "#fdca26"
             ],
             [
              1,
              "#f0f921"
             ]
            ],
            "type": "surface"
           }
          ],
          "table": [
           {
            "cells": {
             "fill": {
              "color": "#EBF0F8"
             },
             "line": {
              "color": "white"
             }
            },
            "header": {
             "fill": {
              "color": "#C8D4E3"
             },
             "line": {
              "color": "white"
             }
            },
            "type": "table"
           }
          ]
         },
         "layout": {
          "annotationdefaults": {
           "arrowcolor": "#2a3f5f",
           "arrowhead": 0,
           "arrowwidth": 1
          },
          "autotypenumbers": "strict",
          "coloraxis": {
           "colorbar": {
            "outlinewidth": 0,
            "ticks": ""
           }
          },
          "colorscale": {
           "diverging": [
            [
             0,
             "#8e0152"
            ],
            [
             0.1,
             "#c51b7d"
            ],
            [
             0.2,
             "#de77ae"
            ],
            [
             0.3,
             "#f1b6da"
            ],
            [
             0.4,
             "#fde0ef"
            ],
            [
             0.5,
             "#f7f7f7"
            ],
            [
             0.6,
             "#e6f5d0"
            ],
            [
             0.7,
             "#b8e186"
            ],
            [
             0.8,
             "#7fbc41"
            ],
            [
             0.9,
             "#4d9221"
            ],
            [
             1,
             "#276419"
            ]
           ],
           "sequential": [
            [
             0,
             "#0d0887"
            ],
            [
             0.1111111111111111,
             "#46039f"
            ],
            [
             0.2222222222222222,
             "#7201a8"
            ],
            [
             0.3333333333333333,
             "#9c179e"
            ],
            [
             0.4444444444444444,
             "#bd3786"
            ],
            [
             0.5555555555555556,
             "#d8576b"
            ],
            [
             0.6666666666666666,
             "#ed7953"
            ],
            [
             0.7777777777777778,
             "#fb9f3a"
            ],
            [
             0.8888888888888888,
             "#fdca26"
            ],
            [
             1,
             "#f0f921"
            ]
           ],
           "sequentialminus": [
            [
             0,
             "#0d0887"
            ],
            [
             0.1111111111111111,
             "#46039f"
            ],
            [
             0.2222222222222222,
             "#7201a8"
            ],
            [
             0.3333333333333333,
             "#9c179e"
            ],
            [
             0.4444444444444444,
             "#bd3786"
            ],
            [
             0.5555555555555556,
             "#d8576b"
            ],
            [
             0.6666666666666666,
             "#ed7953"
            ],
            [
             0.7777777777777778,
             "#fb9f3a"
            ],
            [
             0.8888888888888888,
             "#fdca26"
            ],
            [
             1,
             "#f0f921"
            ]
           ]
          },
          "colorway": [
           "#636efa",
           "#EF553B",
           "#00cc96",
           "#ab63fa",
           "#FFA15A",
           "#19d3f3",
           "#FF6692",
           "#B6E880",
           "#FF97FF",
           "#FECB52"
          ],
          "font": {
           "color": "#2a3f5f"
          },
          "geo": {
           "bgcolor": "white",
           "lakecolor": "white",
           "landcolor": "#E5ECF6",
           "showlakes": true,
           "showland": true,
           "subunitcolor": "white"
          },
          "hoverlabel": {
           "align": "left"
          },
          "hovermode": "closest",
          "mapbox": {
           "style": "light"
          },
          "paper_bgcolor": "white",
          "plot_bgcolor": "#E5ECF6",
          "polar": {
           "angularaxis": {
            "gridcolor": "white",
            "linecolor": "white",
            "ticks": ""
           },
           "bgcolor": "#E5ECF6",
           "radialaxis": {
            "gridcolor": "white",
            "linecolor": "white",
            "ticks": ""
           }
          },
          "scene": {
           "xaxis": {
            "backgroundcolor": "#E5ECF6",
            "gridcolor": "white",
            "gridwidth": 2,
            "linecolor": "white",
            "showbackground": true,
            "ticks": "",
            "zerolinecolor": "white"
           },
           "yaxis": {
            "backgroundcolor": "#E5ECF6",
            "gridcolor": "white",
            "gridwidth": 2,
            "linecolor": "white",
            "showbackground": true,
            "ticks": "",
            "zerolinecolor": "white"
           },
           "zaxis": {
            "backgroundcolor": "#E5ECF6",
            "gridcolor": "white",
            "gridwidth": 2,
            "linecolor": "white",
            "showbackground": true,
            "ticks": "",
            "zerolinecolor": "white"
           }
          },
          "shapedefaults": {
           "line": {
            "color": "#2a3f5f"
           }
          },
          "ternary": {
           "aaxis": {
            "gridcolor": "white",
            "linecolor": "white",
            "ticks": ""
           },
           "baxis": {
            "gridcolor": "white",
            "linecolor": "white",
            "ticks": ""
           },
           "bgcolor": "#E5ECF6",
           "caxis": {
            "gridcolor": "white",
            "linecolor": "white",
            "ticks": ""
           }
          },
          "title": {
           "x": 0.05
          },
          "xaxis": {
           "automargin": true,
           "gridcolor": "white",
           "linecolor": "white",
           "ticks": "",
           "title": {
            "standoff": 15
           },
           "zerolinecolor": "white",
           "zerolinewidth": 2
          },
          "yaxis": {
           "automargin": true,
           "gridcolor": "white",
           "linecolor": "white",
           "ticks": "",
           "title": {
            "standoff": 15
           },
           "zerolinecolor": "white",
           "zerolinewidth": 2
          }
         }
        },
        "width": 1200
       }
      }
     },
     "metadata": {},
     "output_type": "display_data"
    }
   ],
   "source": [
    "df_Q_first_half = df_Q[df_Q['Land'].isin(first_half_of_countries)].sort_values(by='Land')\n",
    "df_Q_second_half = df_Q[df_Q['Land'].isin(second_half_of_countries)].sort_values(by='Land')\n",
    "correlation_table(df_Q_first_half, mode = \"Land\", html_elements_color=html_elements_color).show()\n",
    "correlation_table(df_Q_second_half, mode = \"Land\", html_elements_color=html_elements_color).show()"
   ]
  },
  {
   "cell_type": "markdown",
   "metadata": {},
   "source": [
    "### 2.1.2 Auswertung Korrelationsberechnung\n",
    "- Vergleich Jahresebene und Quartalsebene: \n",
    "    - Für jedes Land wird der <b>Korr.koeff. im absoluten Betrag (vorzeichenfrei) kleiner</b>, wenn wir <b>von der Jahresebene in die Quartalsebene</b> gehen. \n",
    "    - Das bedeutet, dass die Korrelation auf Quartalsebene \"verrauscht\". Das ergibt Sinn, da die <b>\"Wellenbewegung\" von BIP und EV in ihren Peaks nicht zusammenfällt</b> (was wir bereits bei der Betrachtung im allerersten Kapitel gesehen haben).\n",
    "- Ablesen Länder mit AE:\n",
    "    - Wir können <b>direkt die Länder mit grünen Zellen als sichere AE-Länder</b> ablesen.\n",
    "    - Länder mit <b>roten</b> Zellen haben <b>keine AE im Sinne der Korrelation</b>.\n",
    "        - Hier müssen wir sehr genau aufpassen: \n",
    "            - Der Korr.koeff. zeigt uns, dass wir <b>keine AE als statistischen (langfristigen!) Trend in der Zeitreihe</b> haben!!\n",
    "            - Es <b>kann aber sehr wohl (!) Länder geben</b>, die eine <b>kurzfristige AE</b> durch rapide EV-Reduktion in der jungen Vergangenheit erreichen. Diese \"Ausreißer in der Stichprobe\" des Landes müssen <b>nicht zwangsläufig einen negativen Korr.koeff.</b> (was bei uns der grüne Bereich ist) haben, da der Ausreißer den Korr.koeff. ggf. nicht stark genug verändert! <b>Tatsächlich werden wir solche Länder finden!</b> \n",
    "    - Länder mit <b>grauen</b> Zellen (Wortspiel unbeabsichtigt) sollten wir in jedem Fall separat betrachten."
   ]
  },
  {
   "cell_type": "markdown",
   "metadata": {},
   "source": [
    "## 2.2 Visualisierung\n",
    "Wir ziehen nun ein umfangreiches Dashboard heran, auf dem wir jedes Land genauestens bezüglich BIP, EV, EP, und Korrelation zwischen BIP und EV betrachten können."
   ]
  },
  {
   "cell_type": "code",
   "execution_count": 10,
   "metadata": {},
   "outputs": [
    {
     "data": {
      "text/html": [
       "\n",
       "        <iframe\n",
       "            width=\"100%\"\n",
       "            height=\"650\"\n",
       "            src=\"http://127.0.0.1:8053/\"\n",
       "            frameborder=\"0\"\n",
       "            allowfullscreen\n",
       "            \n",
       "        ></iframe>\n",
       "        "
      ],
      "text/plain": [
       "<IPython.lib.display.IFrame at 0x23f3c640ad0>"
      ]
     },
     "metadata": {},
     "output_type": "display_data"
    }
   ],
   "source": [
    "from dashboards_and_tables.D4_country_ana.app import country_analysis_run_app\n",
    "\n",
    "country_analysis_run_app(df_Y, df_Q, df)"
   ]
  },
  {
   "cell_type": "markdown",
   "metadata": {},
   "source": [
    "## 2.3 Beobachtungen und Haupterkenntnisse\n",
    "\n",
    "<b>Absolute Entkopplung</b>:\n",
    "- Wir haben nun spezifisch für jedes Land festgestellt, ob eine absolute Entkopplung vorliegt, oder nicht. Liegt eine AE vor, so gilt einer der folgenden Fälle:\n",
    "    - Der Korrelationskoeffizient der BIP-EV-Zeitreihe des Landes negativ, und die EP-Zeitreihe des Landes steigt über die Zeit (langfristige AE).\n",
    "    - Der Korrelationskoeffizient der BIP-EV-Zeitreihe des Landes ist positiv, aber es gab irgendwo in der Zeitreihe (in unseren gefundenen Ländern Litauen und Estland am Ende der Zeitreihe) eine starke Reduktion des EV bei gleichzeitigem BIP-Anstieg (kurzfristige AE).\n",
    "    - Der Korrelationskoeffizient hat einen geringen absoluten Betrag (bei Griechenland, Norwegen, Rumänien und der Slovakei), und wir prüfen die AE visuell im Dashboard.\n",
    "\n",
    "Die Ergebnisse können wir der folgenden Tabelle entnehmen.\n",
    "\n",
    "\n",
    "<!DOCTYPE html>\n",
    "<html lang=\"en\">\n",
    "<head>\n",
    "    <meta charset=\"UTF-8\">\n",
    "    <meta name=\"viewport\" content=\"width=device-width, initial-scale=1.0\">\n",
    "    <style>\n",
    "        table {\n",
    "            border-collapse: collapse;\n",
    "            width: 100%;\n",
    "        }\n",
    "        th, td {\n",
    "            border: 2px solid black;\n",
    "            text-align: left;\n",
    "            padding: 8px;\n",
    "        }\n",
    "        th {\n",
    "            font-weight: bold;\n",
    "        }\n",
    "        ul {\n",
    "            list-style-type: circle;\n",
    "            margin: 0;\n",
    "            padding-left: 20px; /* Bullet-Indent */\n",
    "        }\n",
    "    </style>\n",
    "</head>\n",
    "<body>\n",
    "    <table>\n",
    "        <tr>\n",
    "            <th>Langfristige (ab 2008) absolute Entkopplung (Korr.Koeff. > +0.2)</th>\n",
    "            <th>Keine langfristige absolute Entkopplung (Korr.koeff < -0.2)</th>\n",
    "        </tr>\n",
    "        <tr>\n",
    "            <td>\n",
    "                <ul>\n",
    "                    <li>Austria</li>\n",
    "                    <li>Belgium</li>\n",
    "                    <li>Bulgaria</li>\n",
    "                    <li>Croatia</li>\n",
    "                    <li>Czechia</li>\n",
    "                    <li>Denmark</li>\n",
    "                    <li>Finland</li>\n",
    "                    <li>France</li>\n",
    "                    <li>Germany</li>\n",
    "                    <li>Italy</li>\n",
    "                    <li>Latvia</li>\n",
    "                    <li>Luxembourgh</li>\n",
    "                    <li>Netherlands</li>\n",
    "                    <li>Slovenia</li>\n",
    "                    <li>Spain</li>\n",
    "                    <li>Sweden</li>\n",
    "                </ul>\n",
    "            </td>\n",
    "            <td>\n",
    "                <ul>\n",
    "                    <li>Kein Trend zur AE</li>\n",
    "                            <ul style=\"list-style-type: circle;\">\n",
    "                                <li>Cyprus</li>\n",
    "                                <li>Ireland</li>\n",
    "                                <li>Malta</li>\n",
    "                                <li>Norway</li>\n",
    "                                <li>Portugal</li>\n",
    "                                <li>Türkiye</li>\n",
    "                            </ul>\n",
    "                    <li>Kurzfristige AE (Trendentwicklung seit 2021)</li>\n",
    "                            <ul style=\"list-style-type: circle;\">\n",
    "                                <li>Estonia</li>\n",
    "                                <li>Greece</li>\n",
    "                                <li>Hungary</li>\n",
    "                                <li>Lithuania</li>\n",
    "                                <li>Poland</li>\n",
    "                                <li>Romania</li>\n",
    "                                <li>Slovakia</li>\n",
    "                            </ul>\n",
    "                </ul>\n",
    "            </td>\n",
    "        </tr>\n",
    "    </table>\n",
    "</body>\n",
    "</html>\n",
    "\n",
    "Abschließend:\n",
    "\n",
    "<div style=\"border: 2px solid black; padding: 10px; background-color: white;\">\n",
    "    <b>Qualitative Haupterkenntnisse</b>\n",
    "    <ul style=\"list-style-type: circle;\">\n",
    "            <li>AE: Alle Länder wurden <b>genauestens</b> bezüglich AE untersucht. Damit wurde auch die EP in Bezug auf ihren zeitlichen Verlauf mituntersucht. \n",
    "            </li>\n",
    "            <li>Wir haben damit unsere Untersuchung auf AE vollständig vorgenommen und abgeschlossen.</li>\n",
    "        </ul>\n",
    "</div>"
   ]
  },
  {
   "cell_type": "markdown",
   "metadata": {},
   "source": [
    "# 3. Ländervergleich (Rankings)\n",
    "Wir wollen nun die Länder detaillierter auf Rankings untersuchen: Wer steht bei BIP, EV, EP an welcher Stelle im Vergleich zum Rest. \n",
    "\n",
    "<b>Beachte</b>: Wir betrachten hier nur <b>Jahresscheiben, keine zeitlichen Verläufe</b>. Wir wollen hier also keine weiteren Erkenntnisse bezüglich AE generieren. Hier geht es uns eher wieder um einen genaueren Überblick bezüglich Wirtschaftsstärke (BIP) und EV/EP pro Jahresscheibe.\n",
    "\n",
    "Wir betrachten dafür folgendes Dashboard mit verschiedenen Sortieroptionen und der Möglichkeit, ein einzelnes Land durch Klick auf einen der Balken des Landes optisch zu markieren."
   ]
  },
  {
   "cell_type": "markdown",
   "metadata": {},
   "source": [
    "### 3.1 Visualisierung"
   ]
  },
  {
   "cell_type": "code",
   "execution_count": 11,
   "metadata": {},
   "outputs": [
    {
     "data": {
      "text/html": [
       "\n",
       "        <iframe\n",
       "            width=\"100%\"\n",
       "            height=\"650\"\n",
       "            src=\"http://127.0.0.1:8054/\"\n",
       "            frameborder=\"0\"\n",
       "            allowfullscreen\n",
       "            \n",
       "        ></iframe>\n",
       "        "
      ],
      "text/plain": [
       "<IPython.lib.display.IFrame at 0x23f3c668680>"
      ]
     },
     "metadata": {},
     "output_type": "display_data"
    }
   ],
   "source": [
    "from dashboards_and_tables.D5_country_comp.app import country_comparison_run_app\n",
    "\n",
    "country_comparison_run_app(df_Y)"
   ]
  },
  {
   "cell_type": "markdown",
   "metadata": {},
   "source": [
    "### 3.2 Beobachtungen und Haupterkenntnisse\n",
    "\n",
    "<b>Verteilung</b>:\n",
    "- Bei Sortierung nach BIP: \n",
    "    - Hier sehen wir nochmal sehr deutlich, dass die Länder DFISNT bei BIP und EV hoch, bei der EP eher durchschnittlich abschneiden. Die Niederlande schneiden hier noch am besten ab. Die Türkei reißt beim EV massiv nach oben aus und ist bei der EP entsprechend sehr weit unten (beides bereits bekannt).\n",
    "\n",
    "<b>Absolute Entkopplung</b>:\n",
    "- Bei Betrachtung der wirtschaftsschwächeren Länder (Option \"ohne 6 größte BIP-Erzeuger\") sehen wir, dass der Zusammenhang \"hohes BIP = hoher EV\" stärker zu schwanken beginnt. Bei DFISNT dagegen herrscht noch ein sehr klarer Zusammenhang. Beides hatten wir zu Beginn bereits im Scatterplot grob sehen können, hier wird das nochmal deutlicher. \n",
    "- Das ist ein Anzeichen dafür, dass es den \"Wachstumsländer\" Europas bereits bei geringer wirtschaftlicher Größe gelingt, vom linearen Zusammenhang \"hohes BIP = hoher EV\" wegzukommen, und einen Wachstumspfad bei AE zu verfolgen. Bei einer erfolreichen AE würde der Zusammenhang bei Wirtschaftswachtum dann womöglich durchbrochen.  \n",
    "\n",
    "<b>Energieproduktivität</b>:\n",
    "- Bei Sortierung nach BIP: \n",
    "    - Wir sehen nochmal gut, dass bei den Ländern im \"BIP-Mittelfeld\" oder darunter Irland, Dänemark und Luxemburg nach oben ausreißen.\n",
    "- Bei Sortierung nach EV sehen wir auch warum: Die EP-Ausreißer Irland, Dänemark, Luxemburg haben sehr niedrige EV-Werte (logisch).\n",
    "    - Beachte: Wir wissen aus den vorigen Kapiteln, dass Irland allerdings keine AE vorweist! Luxemburg und Dänemark allerdings schon. \n",
    "- Bei Sortierung nach BIP und Anzeige ohne DFISNT (Option \"ohne 6 größte BIP-Erzeuger\") sehen wir außerdem nochmal klarer, dass Polen, Schweden und Norwegen bei den \"Niedrig-BIP-Ländern\" nochmal beim EV nach oben ausschlagen (und entsprechend bei der EP sehr schwach abschneiden). Das kommt hier deutlicher zum Vorschein als in vorigen Plots.\n",
    "\n",
    "<b>Qualitative Haupterkenntnisse</b>\n",
    " <div style=\"border: 2px solid black; padding: 10px; background-color: white;\">\n",
    "    <ul style=\"list-style-type: circle;\">\n",
    "            <li>DFISNT dominieren bei BIP und EV stark. Dort herrscht ein gut sichtbarer Zusammenhang zwischen hohem BIP und hohem EV.\n",
    "            </li>\n",
    "            <li>Die Länder im wirtschaftlichen Mittel- und Schlussbereich weisen einen weniger klaren Zusammenhang zwischen hohem BIP und hohem EV auf. Das haben wir bereits zu Beginn im Scatterplot erahnen können.\n",
    "            </li>\n",
    "            <li>Die Wirtschaftsgröße (BIP) hat keinen erkennbaren Zusammenhang zur EP. Wirtschaftsstärke bedeutet also nicht gleich hohe Energieproduktivität\n",
    "            </li>\n",
    "            <li>Ebenso hat der Energieverbrauch (EV) hat keinen erkennbaren Zusammenhang zur EP.\n",
    "            </li>\n",
    "        </ul>\n",
    "</div>"
   ]
  },
  {
   "cell_type": "markdown",
   "metadata": {},
   "source": [
    "# 4. Geografische Untersuchung\n",
    "\n",
    "Wir wollen nun eine geografische Visualisierung vornehmen. Wir betrachten zum Einen exemplarisch die Verteilung von BIP und EV im Jahr 2023. Zum Anderen betrachten wir die prozentualen Änderungen je Land bei BIP und EV in Bezug auf das Referenzjahr 2008 (das am weitesten zurückliegende Jahr in unserem durch die Daten gegebenen Referenzzeitraum). Dann werden wir für 2023 noch die EP betrachten."
   ]
  },
  {
   "cell_type": "markdown",
   "metadata": {},
   "source": [
    "## 4.1 BIP und Energieverbrauch 2023 und absolute Entkopplung seit 2008"
   ]
  },
  {
   "cell_type": "markdown",
   "metadata": {},
   "source": [
    "### 4.1.1 Feature Engineering der benötigten Spalten\n",
    "Wir wollen in der Folge Choroplethenplots verwenden, die Länder auf der europäischen Karte gemäß einer Wert-Farbe-Zuordnung einfärben. \n",
    "\n",
    "Wir haben jedoch bereits gesehen, dass DFISNT bei BIP und EV dominieren, während sich viele der übrigen Länder mit geringen Werten im unteren Wertebereich \"zusammendrängeln\". Wir wollen vermeiden, dass aufgrund dieser Verteilung die Farbskalen unserer folgenden Plots im niedrigen Bereich keine angemessene farbliche Differenzierung hervorbringen. Daher führen wir Hilfsspalten ein, in denen wir die BIP- und EV-Werte logarithmieren. Zudem setzen wir die Farbskalen in den Plots von Hand.\n",
    "\n",
    "Wir führen also die Spalten zu prozentualen Änderung ein sowie zusätzliche Spalten für logarithmierte Werte."
   ]
  },
  {
   "cell_type": "code",
   "execution_count": 12,
   "metadata": {},
   "outputs": [],
   "source": [
    "# BIP und Energieverbrauch logarithmisch transformieren (für Farbskala)\n",
    "df_Y['BIP_logarithmiert'] = np.log1p(df_Y['BIP (Mio €)']).round(2)\n",
    "df_Y['Energieverbrauch_logarithmiert'] = np.log1p(df_Y['Energieverbrauch (GWh)']).round(2)\n",
    "# relative Änderung im Vergleich zu 2008 berechnen (Achtung: NICHT logarithmiert!)\n",
    "for column in ['BIP (Mio €)', 'Energieverbrauch (GWh)']:\n",
    "    df_Y = df_Y.merge(df_Y[df_Y['Jahr'] == 2008][['Land', column]], on='Land', suffixes=('', '_2008'))\n",
    "    df_Y[f'{column}_Diff zu 2008 (%)'] = ((df_Y[column] / df_Y[f'{column}_2008']) * 100 - 100).round(1)"
   ]
  },
  {
   "cell_type": "markdown",
   "metadata": {},
   "source": [
    "### 4.1.2 Visualisierung"
   ]
  },
  {
   "cell_type": "code",
   "execution_count": 13,
   "metadata": {},
   "outputs": [
    {
     "data": {
      "text/html": [
       "\n",
       "        <iframe\n",
       "            width=\"100%\"\n",
       "            height=\"650\"\n",
       "            src=\"http://127.0.0.1:8055/\"\n",
       "            frameborder=\"0\"\n",
       "            allowfullscreen\n",
       "            \n",
       "        ></iframe>\n",
       "        "
      ],
      "text/plain": [
       "<IPython.lib.display.IFrame at 0x23f3c7fe9c0>"
      ]
     },
     "metadata": {},
     "output_type": "display_data"
    }
   ],
   "source": [
    "from dashboards_and_tables.D6_geo_analysis.apps import run_app1\n",
    "\n",
    "run_app1(df_Y)"
   ]
  },
  {
   "cell_type": "markdown",
   "metadata": {},
   "source": [
    "### 4.1.3 Beobachtungen und Haupterkenntnisse\n",
    "<b>Verteilung</b>:\n",
    "- Wir können hier sehr gut erkennen: \n",
    "    - Die Spitzenwerte in 2023 bei BIP und EV ballen sich in West- und Zentraleuropa sowie der Türkei. Ostblock, baltische Länder und Skandinavien liegen im mittleren bis unteren Bereich.\n",
    "    - Beim BIP-Wachstum schneiden West- und Zentraleuropa allerdings eher mittel ab. Dagegen holt der Ostblock sichtbar auf (Spitzenwert bei Bulgarien), ebenso Irland. Italien stagniert, Griechenland hingegen hat seit 2008 an Wirtschaftskraft verloren.\n",
    "\n",
    "<b>Absolute Entkopplung</b>:\n",
    "- Wir sehen sehr deutlich, dass seit 2008 in Zentral- und Westeuropa eine vergleichsweise starke AE stattfindet (Ausnahme: Portugal). \n",
    "- Den östlichen Ländern gelingt (trotz ihres vergleichsweise sogar <b>höheren Wirtschaftswachstums</b>) bis auf Polen <b>ebenfalls eine AE</b> (wenn auch prozentual schwächer). Auch in Skandinavien ist eine AE erkennbar.\n",
    "- Zypern, Irland, Malta, Portugal, und die Türkei steigern jedoch aktuell parallel zu ihrem BIP-Wachstum auch ihren EV.\n",
    "\n",
    "<b>Qualitative Haupterkenntnisse</b>\n",
    " <div style=\"border: 2px solid black; padding: 10px; background-color: white;\">\n",
    "    <ul style=\"list-style-type: circle;\">\n",
    "            <li>Zentral- und Westeuropa:\n",
    "                <ul style=\"list-style-type: circle;\">\n",
    "                    <li>Hier konzentrieren sich 2023 sehr (!) <b>hohe</b> BIP- und <b>hohe</b> EV-Werte (beachte die logarithmierte Farbskala für 2023!).</li>\n",
    "                    <li>Gleichzeitig seit 2008 ein prozentual eher <b>geringes</b> Wirtschaftswachstum bei gleichzeitig <b>starker</b> AE.</li>\n",
    "                </ul>\n",
    "            </li>\n",
    "            <li>Skandinavien:\n",
    "                <ul style=\"list-style-type: circle;\">\n",
    "                    <li>In 2023 <b>mittlere</b> BIP- und vergleichweise <b>hohe</b> EV-Werte (beachte die logarithmierte Farbskala für 2023!).</li>\n",
    "                    <li>Gleichzeitig seit 2008 ein prozentual eher <b>geringes</b> Wirtschaftswachstum bei gleichzeitig <b>starker</b> AE.</li>\n",
    "                </ul>\n",
    "            </li>\n",
    "            <li>Ostblock und baltische Länder:\n",
    "                <ul style=\"list-style-type: circle;\">\n",
    "                    <li>In 2023 <b>niedrig bis mittlere</b> BIP- und EV-Werte (beachte die logarithmierte Farbskala für 2023!).</li>\n",
    "                    <li>Gleichzeitig seit 2008 ein prozentual eher <b>mittel bis hohes</b> Wirtschaftswachstum bei gleichzeitig <b>starker</b> AE.</li>\n",
    "                </ul>\n",
    "            </li>\n",
    "            <li>Auffällige Länder:\n",
    "                <ul style=\"list-style-type: circle;\">\n",
    "                    <li>\"Krisenland\" Griechenland: Einbruch bei BIP-Wachstum.</li>\n",
    "                    <li>\"Kleine Umweltsünder\" Zypern, Malta: mittlere EV-Steigerung bei auf niedrige EV-Werte 2023</li>\n",
    "                    <li>\"Große Klimasünder\" Portugal, Türkei, Irland: Steigerung auf hohe Werte. Polen auch, aber Trend zur AE (siehe vorige Kapitel).</li>\n",
    "                </ul>\n",
    "            </li>\n",
    "        </ul>\n",
    "</div>"
   ]
  },
  {
   "cell_type": "markdown",
   "metadata": {},
   "source": [
    "## 4.2 Energieproduktivität 2023"
   ]
  },
  {
   "cell_type": "markdown",
   "metadata": {},
   "source": [
    "### 4.2.1 Visualisierung"
   ]
  },
  {
   "cell_type": "code",
   "execution_count": 14,
   "metadata": {},
   "outputs": [
    {
     "data": {
      "text/html": [
       "\n",
       "        <iframe\n",
       "            width=\"100%\"\n",
       "            height=\"650\"\n",
       "            src=\"http://127.0.0.1:8056/\"\n",
       "            frameborder=\"0\"\n",
       "            allowfullscreen\n",
       "            \n",
       "        ></iframe>\n",
       "        "
      ],
      "text/plain": [
       "<IPython.lib.display.IFrame at 0x23f3c70d970>"
      ]
     },
     "metadata": {},
     "output_type": "display_data"
    }
   ],
   "source": [
    "from dashboards_and_tables.D6_geo_analysis.apps import run_app2\n",
    "run_app2(df_Y)"
   ]
  },
  {
   "cell_type": "markdown",
   "metadata": {},
   "source": [
    "### 4.2.2 Beobachtungen und Haupterkenntnisse\n",
    "<b>Energieproduktivität</b>:\n",
    "- Wir sehen, dass im Jahr 2023 Zentral- und Westeuropa eine tendenziell hohe EP hat (Deutschland ganz vorne).\n",
    "- Der Ostblock (der hohes BIP-Wachstum verzeichnet, gleichzeitig aber auch den EV reduziert und damit eine AE umsetzt) hat dennoch eher niedrige EP-Werte.\n",
    "    - Das ist, wie wir nun des Öfteren gesehen haben, durchaus möglich. Bei einer AE (BIP steigt, EV fällt) kann die EP niedrig sein, die AE ist nur durch <b>Steigerung der EP</b> gekennzeichnet!\n",
    "- Irland brilliert auf den ersten Blick abermals, wir wissen aber, dass es <b>keine AE</b> vorweist!\n",
    "-  Skandinavien schneidet eher schlecht ab, aber wir wissen, dass zumindest Schweden und Finnland einen Trend zur AE haben!\n",
    "- Bei der Türkei wissen wir, dass eine Gegenläuferbewegung zur AE stattfindet, was hier auch zur niedrigen EP passt.\n",
    "\n",
    "<b>Qualitative Haupterkenntnisse</b>\n",
    " <div style=\"border: 2px solid black; padding: 10px; background-color: white;\">\n",
    "    <ul style=\"list-style-type: circle;\">\n",
    "            <li>Zentral- und Westeuropa:\n",
    "                <ul style=\"list-style-type: circle;\">\n",
    "                    <li>Eher hohe EP-Werte. Wir wissen bereits, dass hier AE vorliegt, EP also weiter steigt.</li>\n",
    "                </ul>\n",
    "            </li>\n",
    "            <li>Skandinavien:\n",
    "                <ul style=\"list-style-type: circle;\">\n",
    "                    <li>Geringe EP-Werte (wir wissen aber aus vorigen Kapiteln: steigender Trend).</li>\n",
    "                </ul>\n",
    "            </li>\n",
    "            <li>Ostblock und baltische Länder:\n",
    "                <ul style=\"list-style-type: circle;\">\n",
    "                    <li>Geringe EP-Werte ((wir wissen aber aus vorigen Kapiteln: steigender Trend)).</li>\n",
    "                </ul>\n",
    "            </li>\n",
    "            <li>Auffällige Länder:\n",
    "                <ul style=\"list-style-type: circle;\">\n",
    "                    <li>Irland und Luxemburg hohe Werte. Bei Luxemburg AE, bei Irland nicht (im Gegenteil!)</li>\n",
    "                </ul>\n",
    "            </li>\n",
    "        </ul>\n",
    "</div>"
   ]
  },
  {
   "cell_type": "markdown",
   "metadata": {},
   "source": [
    "# 5. Saisonale Analyse\n",
    "\n",
    "Wir wollen nun die Quartalstrends beleuchten. Wir haben bereits bei der kumulierten BEtrachtung zu Beginn der EDA einen deutlichen und einheitlichen Trend festgestellt: In der europäischen Summe peakt das BIP in Q4, der Energieverbrauch in Q1.\n",
    "\n",
    "Wir wollen uns das nochmals genauer anschauen, indem wir dieses \"pulsierende\" Verhalten geografisch visualisieren. Dafür normieren wir die Quartalswerte anteilig an das jeweilige Jahr. Später werden wir noch die Häufigkeit betrachten, mit der ein Quartal je Land und in Europa den Maximalwert des Jahres annimmt."
   ]
  },
  {
   "cell_type": "markdown",
   "metadata": {},
   "source": [
    "## 5.1 Visualisierung \"pulsierende\" Jahresmaxima EP\n",
    "Wir wollen im Folgenden die jährlichen Peaks der Energieproduktivität visualisieren. Bei BIP und EV haben wir ja schon im ersten Kapitel gut erkennen können, dass Q4 (beim BIP) und Q1 (beim EV) Jahrespeaks haben. Wir schauen uns nun noch die EP an, der, wie wir sehen werden, ebenfalls solche Peaks hat.\n",
    "\n",
    "### 5.1.1 Feature Engineering benötigter Spalten\n",
    "\n",
    "Wir definieren zunächst den \"Erreichungsgrad der Jahresmaximalproduktivität\" der EP als Anteil eines Quartalswertes am Jahresmaximum des Jahres, in dem er liegt. Dafür definieren wir uns folgende Spalte, die wir dann in der Visualisierung verwenden."
   ]
  },
  {
   "cell_type": "code",
   "execution_count": 15,
   "metadata": {},
   "outputs": [],
   "source": [
    "df_Q[\"Erreichungsgrad_Jahresmaximalproduktivität\"] = (\n",
    "    (df_Q[\"Energieproduktivität (Mio€/GWh)\"] - df_Q.groupby([\"Land\", \"Jahr\"])[\"Energieproduktivität (Mio€/GWh)\"].transform(\"min\")) /\n",
    "    (df_Q.groupby([\"Land\", \"Jahr\"])[\"Energieproduktivität (Mio€/GWh)\"].transform(\"max\") - df_Q.groupby([\"Land\", \"Jahr\"])[\"Energieproduktivität (Mio€/GWh)\"].transform(\"min\"))\n",
    ")"
   ]
  },
  {
   "cell_type": "markdown",
   "metadata": {},
   "source": [
    "### 5.1.2 Visualisierung"
   ]
  },
  {
   "cell_type": "code",
   "execution_count": 16,
   "metadata": {},
   "outputs": [
    {
     "name": "stdout",
     "output_type": "stream",
     "text": [
      "OK\n"
     ]
    },
    {
     "data": {
      "text/html": [
       "\n",
       "        <iframe\n",
       "            width=\"100%\"\n",
       "            height=\"650\"\n",
       "            src=\"http://127.0.0.1:8057/\"\n",
       "            frameborder=\"0\"\n",
       "            allowfullscreen\n",
       "            \n",
       "        ></iframe>\n",
       "        "
      ],
      "text/plain": [
       "<IPython.lib.display.IFrame at 0x23f3c3ebbf0>"
      ]
     },
     "metadata": {},
     "output_type": "display_data"
    }
   ],
   "source": [
    "from dashboards_and_tables.D6_geo_analysis.apps import run_app3\n",
    "\n",
    "run_app3(df_Q)"
   ]
  },
  {
   "cell_type": "markdown",
   "metadata": {},
   "source": [
    "### 5.1.3 Beobachtungen und Haupterkenntnisse\n",
    "<b>Saisonale Trends</b>:\n",
    "- Wir sehen sehr deutlich:\n",
    "    - In Q1 ist die EP fast immer und fast überall im Vergleich zum Restjahr am niedrigsten.\n",
    "    - In Q2 und Q3 ist die EP (zumindest nach optischem Eindruck) am häufigsten maximal. In Q4 eher mittelmäßig oft.\n",
    "\n",
    "<b>Qualitative Haupterkenntnisse</b>\n",
    " <div style=\"border: 2px solid black; padding: 10px; background-color: white;\">\n",
    "    <ul style=\"list-style-type: circle;\">\n",
    "            <li>Q1 ist absolutes Flaute-Quartal für die EP. In Q2 und Q3 ist sie tendenziell am höchsten.</li>\n",
    "        </ul>\n",
    "</div>"
   ]
  },
  {
   "cell_type": "markdown",
   "metadata": {},
   "source": [
    "## 5.2 Numerische Häufigkeitsanalyse der Jahresmaxima \n",
    "\n",
    "Nach der Visualisierung der jährlichen EP-Maxima wollen wir nun noch in Zahlenform alle Größen (BIP, EV, EP) auf Häufigkeit der Jahresmaxima untersuchen. Wir benötigen dafür wieder neue Spalten (in einem Hilfs-Dataframe)."
   ]
  },
  {
   "cell_type": "markdown",
   "metadata": {},
   "source": [
    "### 5.2.1 Feature Engineering benötigter Spalten\n",
    "Wir führen nun Zusatzspalten in einer pivotisierten Variante unserer Daten ein."
   ]
  },
  {
   "cell_type": "code",
   "execution_count": 17,
   "metadata": {},
   "outputs": [],
   "source": [
    "# Pivot-Tabelle mit mehreren Spalten für 'Energieverbrauch (GWh)', 'BIP' und 'Produktivität'\n",
    "pivot_df = df_Q.pivot_table(index=['Land', 'Jahr'], columns='Quartal', values=['Energieverbrauch (GWh)', 'BIP (Mio €)', 'Energieproduktivität (Mio€/GWh)'])\n",
    "\n",
    "# Maximalwerte für jede der Spalten finden und als neue Spalten hinzufügen\n",
    "pivot_df['Max_Quartal_Energieverbrauch'] = pivot_df['Energieverbrauch (GWh)'].idxmax(axis=1)\n",
    "pivot_df['Max_Quartal_BIP'] = pivot_df['BIP (Mio €)'].idxmax(axis=1)\n",
    "pivot_df['Max_Quartal_Energieproduktivität'] = pivot_df['Energieproduktivität (Mio€/GWh)'].idxmax(axis=1)\n",
    "\n",
    "pivot_df_reset = pivot_df.reset_index()\n",
    "\n",
    "# Die relevanten Spalten auswählen und in das gewünschte Format bringen\n",
    "formatted_df = pivot_df_reset[['Land', 'Jahr', 'Max_Quartal_Energieverbrauch', 'Max_Quartal_BIP', 'Max_Quartal_Energieproduktivität']]"
   ]
  },
  {
   "cell_type": "markdown",
   "metadata": {},
   "source": [
    "### 5.2.2 Visualisierung\n",
    "\n",
    "Wir visualisieren uns die erhaltenen Werte in einem Dashboard, das uns Histogramme zeigt. Dargestellt wird die Häufigkeit von Quartalen, mit der sie Maximumswert ihres Jahres für das ausgewählte Land (bzw. alle Länder) waren."
   ]
  },
  {
   "cell_type": "code",
   "execution_count": 18,
   "metadata": {},
   "outputs": [
    {
     "data": {
      "text/html": [
       "\n",
       "        <iframe\n",
       "            width=\"100%\"\n",
       "            height=\"650\"\n",
       "            src=\"http://127.0.0.1:8058/\"\n",
       "            frameborder=\"0\"\n",
       "            allowfullscreen\n",
       "            \n",
       "        ></iframe>\n",
       "        "
      ],
      "text/plain": [
       "<IPython.lib.display.IFrame at 0x23f3c911160>"
      ]
     },
     "metadata": {},
     "output_type": "display_data"
    }
   ],
   "source": [
    "from dashboards_and_tables.D6_geo_analysis.apps import run_app4\n",
    "\n",
    "run_app4(df, formatted_df)"
   ]
  },
  {
   "cell_type": "markdown",
   "metadata": {},
   "source": [
    "### 5.2.3 Beobachtungen und Haupterkenntnisse\n",
    "<b>Saisonale Trends</b>:\n",
    "- In Europa (über alle Länder hinweg) wird das BIP am häufigsten in Q4 maximal (wirtschaftlicher Endjahres-Boom, Weihnachtsgeschäft, Auftrags- und Bilanzabschlüsse, ...).\n",
    "- Dagegen ist der Energieverbrauch Q1 am häufigsten maximal (Heizperiode).\n",
    "- Die EP ist in Q3 am häufigsten maximal.\n",
    "\n",
    "<b>Qualitative Haupterkenntnisse</b>\n",
    " <div style=\"border: 2px solid black; padding: 10px; background-color: white;\">\n",
    "    <ul style=\"list-style-type: circle;\">\n",
    "            <li>Q4 ist in Europa absolutes Boom-Quartal für das BIP.</li>\n",
    "            <li>In Q1 dagegen ist in Europa EV maximal.</li>\n",
    "        </ul>\n",
    "</div>"
   ]
  },
  {
   "cell_type": "markdown",
   "metadata": {},
   "source": [
    "# 6. Abschluss und Zusammenfassung"
   ]
  },
  {
   "cell_type": "markdown",
   "metadata": {},
   "source": [
    "Wir haben nun eine ausführliche Reise quer durch verschiedene Aggregationsebenen der europäischen Länder vorgenommen. Dabei haben wir statistische Werkzeuge wie den Korrelationskoeffizienten für verschiedene Stichproben und Regressionsgeraden als Hilfsmittel verwendet. In allen Kapiteln hatten wir dabei unsere Kernfragen der absoluten Entkopplung und Energieproduktivität dabei.\n",
    "\n",
    "Folgende Teiluntersuchungen haben wir auf unserer Reise vorgenommen:\n",
    "- Wir haben\n",
    "    - eine kumulierte Betrachtung der europäischen Länder vorgenommen,\n",
    "    - europäische Durchschnittswerte unter die Lupe genommen,\n",
    "    - und den Zusammenhang zwischen BIP und Energieverbrauch auf gesamteuropäischer Ebene sowie auf Ebene einzelner Länder untersucht.\n",
    "- Dabei haben wir\n",
    "    - auf gesamteuropäischer Ebene die absolute Entkopplung der Gesamtheit Europas betrachtet,\n",
    "    - sowie für jedes Land einzeln untersucht, ob eine absolute Entkopplung beobachtbar ist.\n",
    "- Anschließend haben wir die Länder in Bezug auf Wirtschaftsstärke verglichen, und überprüft, ob ein Zusammenhang zwischen Wirtschaftskraft und Energieproduktivität besteht.\n",
    "- Wir haben geografisch visualisiert, ob sich bestimmte Ländergruppen anders Verhalten, und Länder mit Sonderverhalten hervorgehoben.\n",
    "- Abschließend haben wir unsere Analysegrößen auf saisonale Trends untersucht.\n",
    "\n",
    "Wir schließen nun unsere EDA ab, indem wir gesammelt nochmals die Hauptergebnisse zu unseren Leitfragen (die wir kursiv aufführen) zusammenfassen:\n",
    "<div style=\"border: 2px solid black; padding: 10px; background-color: white;\">\n",
    "    <ul style=\"list-style-type: circle;\">\n",
    "            <li><b><i>Verteilung</i></b>:\n",
    "                <ul style=\"list-style-type: circle;\">\n",
    "                    <li><i>Gibt es Länder, die bezüglich einer (oder mehrerer) der Größen BIP, Energieverbrauch (\"EV\"), Energieproduktivität (\"EP\") dominieren?</i></li>\n",
    "                        <ul style=\"list-style-type: circle;\">\n",
    "                            <li>Die sechs Länder Deutschland, Frankreich, Italien, Spanien, Niederlande, Türkei (=\"DFISNT\") dominieren wirtschaftlich (BIP) und beim EV stark</li>\n",
    "                                <ul style=\"list-style-type: circle;\">\n",
    "                                    <li>Sie weisen allerdings ein eher niedriges Wirtschaftswachstum (BIP-Wachstum) auf</li>\n",
    "                                </ul>\n",
    "                            <li>Die restlichen Länder bilden ein Mittelfeld und einen breiten unteren Bereich mit niedrigen Werten.</li>\n",
    "                                <ul style=\"list-style-type: circle;\">\n",
    "                                    <li>Sie liegen beim Wirtschaftswachstum allerdings vorne. Insbesondere Ostblock und baltische Länder holen bei der Wirtschaftsstärke (BIP-Wachstum) auf. Dabei gelingt es diesen Ländern allerdings, ihren EV nicht zu steigern.</li>\n",
    "                                </ul>\n",
    "                        </ul>\n",
    "                    <li><i>Wie verhält es sich bei diesen Ländern in den jeweils anderen Größen?</i></li>\n",
    "                        <ul style=\"list-style-type: circle;\">\n",
    "                            <li>DFISNT haben jeweils sehr hohe BIP- und EV-werte, hier ist ein klarer Zusammenhang erkennbar. In dieser Ländergruppe sticht zudem die Türkei durch einen besonders hohen EV (gemessen am BIP) hervor. Bei der EP ist es gemischt. Deutschland und die Niederlande haben noch vergleichsweise eine hohe EP. Die anderen DFISNT-Länder liegen eher im Mittelfeld, die Türkei jedoch hat eine sehr niedrige EP. Hohe BIP- und EV-Werte stehen also in keinem erkennbaren Zusammenhang zu hohen EP-Werten.</li>\n",
    "                        </ul>\n",
    "                </ul>\n",
    "            </li>\n",
    "            <li><i><b>Absolute Entkopplung</b></i>:\n",
    "                <ul style=\"list-style-type: circle;\">\n",
    "                    <li><i>Gibt es einen Zusammenhang zwischen hohem BIP und hohem Energieverbrauch?</i></li>\n",
    "                        <ul style=\"list-style-type: circle;\">\n",
    "                            <li>Bei den DFISNT-Ländern ist dieser klar erkennbar. Hier findet jedoch seit 2008 auch eine deutliche absolute Entkopplung (\"AE\") statt. </li>\n",
    "                        </ul>\n",
    "                    <ul style=\"list-style-type: circle;\">\n",
    "                        <li>Im Mittelfeld der BIP-Werte (weniger wirtschaftsstarke Länder) ist erkennbar, dass der Zusammenhang zwischen hohem BIP und hohem EV weniger ausgeprägt ist. Dort ist zudem erkennbar, dass der Zusammenhang über die Zeit schwächer wird (was wiederum an der AE vieler Vorreiterländer in diesem Wirtschaftsgrößenbereich liegt).</li>\n",
    "                    </ul>\n",
    "                    <li><i>Gibt es einen Trend davon weg?</i></li>\n",
    "                        <ul style=\"list-style-type: circle;\">    \n",
    "                            <li>Ja! Übergreifend ist erkennbar, dass die (länderübergreifende) Korrelation zwischen BIP und EV jedes Jahr sinkt.</li>   \n",
    "                        </ul>\n",
    "                        <ul style=\"list-style-type: circle;\">\n",
    "                            <li>In der europäischen Ländersumme und ebenso bei den europäischen Durchschnittswerten liegt bereits eine klare AE vor. Diese wird insbesondere durch einen großen Teil an Vorreiterländern erreicht, die eine geringere Zahl an Ländern mit gegenläufigem Trend überkompensieren.</li>\n",
    "                        </ul>    \n",
    "                    <ul style=\"list-style-type: circle;\">    \n",
    "                            <li>Konkret weisen bereits 16 der 29 betrachteten Länder eine langfristige AE auf. Bei weiteren 7 Ländern ist seit 2021 der Trend dorthin (kurzfristige AE) erkennbar. Lediglich 6 Länder lassen noch keinen Trend zu einer AE erkennen.</li>   \n",
    "                        </ul>\n",
    "                    <li><i>Welchen Ländern gelingt es, sich zu entkoppeln (BIP steigt, Energieverbrauch sinkt)?</i></li>\n",
    "                        <ul style=\"list-style-type: circle;\">\n",
    "                            <li>Die konkreten Länderlisten können Kapitel 2.3 entnommen werden!</li>\n",
    "                        </ul>\n",
    "                </ul>\n",
    "            </li>\n",
    "            <li> <i><b>Energieproduktivität</b></i>:\n",
    "                <ul style=\"list-style-type: circle;\">\n",
    "                    <li><i>Gibt es bei der Energieproduktivität einen Zusammenhang zur Wirtschaftsstärke (BIP) oder der absoluten Entkopplung (AE) eines Landes?</i>\n",
    "                        <ul style=\"list-style-type: circle;\">\n",
    "                        <li>Zusammenhang EP und BIP: \n",
    "                            <ul style=\"list-style-type: circle;\">\n",
    "                                <li>Die EP als Quotient aus BIP und EV hängt über die Korrelation zwischen EV und BIP (bei festem Jahr über die Länder hinweg) vom BIP ab. Zwischen BIP und EV haben wir (bei festem Jahr über die Länder hinweg) eine lineare Abhängigkeit zwischen BIP und EV festgestellt. Diese spiegelt sich (bei festem Jahr über die Länder hinweg) auch in der EP wieder. Wenn wir die Länder der Wirtschaftsstärke nach durchgehen und dabei die EV-Werte vergleichen (Ranking), spiegeln die EV-Ausschläge sich in den EP-Ausschlägen (reziprok) wieder.</li>\n",
    "                            </ul>\n",
    "                        <li>Zusammenhang EP und AE:</li>\n",
    "                        <ul style=\"list-style-type: circle;\">\n",
    "                            <li>Zwischen EP und AE gibt es außerdem einen direkten zeitlichen Zusammenhang! Die AE ist (definitionsgemäß) ein zeitliches Phänomen. Bei einem Land mit AE steigt die EP über die Zeit. Der Umkehrschluss (steigende EP führt zu AE) stimmt im Allgemeinen nicht (Irland als Gegenbeispiel).</li>\n",
    "                        </ul>\n",
    "                    </ul>\n",
    "                    </li>\n",
    "                </ul>\n",
    "            </li>\n",
    "            <li><i><b>Saisonalität</b></i>:\n",
    "                <ul style=\"list-style-type: circle;\">\n",
    "                    <li><i>Sind saisonale Trends bei BIP, Energieverbrauch und Energieproduktivität erkennbar?</i>\n",
    "                        <ul style=\"list-style-type: circle;\">\n",
    "                            <li>Ganz klar: In Q4 boomt das BIP in Europa (Jahresabschlüsse, Weihnachtsverkäufe, Rechnungsabschlüsse, Bilanzen vollmachen, ...), in Q1 geht der EV in die Höhe (Heizen...)! Die EP ist tendenziell in Q3 maximal.</li>\n",
    "                        </ul>\n",
    "                    </li>\n",
    "                </ul>\n",
    "            </li>\n",
    "            <li><i><b>Zusatzerkenntnisse</b></i>:\n",
    "                <ul style=\"list-style-type: circle;\">\n",
    "                    <li><i>Welche weiteren interessanten Beobachtungen können wir machen?</i>\n",
    "                        <ul style=\"list-style-type: circle;\">\n",
    "                            <li>Wir konnten deutlich den Coronaknick in BIP und EV sehen. Auch andere Zeitpunkte weisen Knicke in BIP und EV auf, die mit europaweiten politischen Einschnitten zusammenfallen (Finanzkrise 2008; Krimkrise 2014; nachgelagerte Finanzkrise 2017)</li>\n",
    "                        </ul>\n",
    "                    </li>\n",
    "                </ul>\n",
    "            </li>\n",
    "        </ul>\n",
    "</div>\n",
    "\n",
    "\n",
    "<b>Nach dieser ausführlichen Zusammenfassung haben wir unsere EDA beendet. Wir haben also mit hauptsächlich visuellen Mitteln (und zusätzlichen Analysen der Korrelationskoeffizienten über die beiden Dimensionen Zeit (Jahre) und Geografie (Länder) hinweg) enorm viele Erkenntnisse aus den Daten generieren können. Wir bedanken uns bei unseren Lesern und schließen.</b>"
   ]
  }
 ],
 "metadata": {
  "kernelspec": {
   "display_name": "Python 3",
   "language": "python",
   "name": "python3"
  },
  "language_info": {
   "codemirror_mode": {
    "name": "ipython",
    "version": 3
   },
   "file_extension": ".py",
   "mimetype": "text/x-python",
   "name": "python",
   "nbconvert_exporter": "python",
   "pygments_lexer": "ipython3",
   "version": "3.12.2"
  }
 },
 "nbformat": 4,
 "nbformat_minor": 4
}
